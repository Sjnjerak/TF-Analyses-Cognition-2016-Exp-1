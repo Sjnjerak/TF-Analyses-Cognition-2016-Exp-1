{
 "cells": [
  {
   "cell_type": "markdown",
   "metadata": {},
   "source": [
    "## Loading packages "
   ]
  },
  {
   "cell_type": "code",
   "execution_count": 3,
   "metadata": {
    "collapsed": false
   },
   "outputs": [
    {
     "name": "stderr",
     "output_type": "stream",
     "text": [
      "/Users/Tomas/anaconda/lib/python2.7/site-packages/matplotlib/font_manager.py:273: UserWarning: Matplotlib is building the font cache using fc-list. This may take a moment.\n",
      "  warnings.warn('Matplotlib is building the font cache using fc-list. This may take a moment.')\n"
     ]
    },
    {
     "name": "stdout",
     "output_type": "stream",
     "text": [
      "Populating the interactive namespace from numpy and matplotlib\n"
     ]
    },
    {
     "name": "stderr",
     "output_type": "stream",
     "text": [
      "/Users/Tomas/anaconda/lib/python2.7/site-packages/IPython/core/magics/pylab.py:161: UserWarning: pylab import has clobbered these variables: ['copy', 'pylab']\n",
      "`%matplotlib` prevents importing * from pylab and numpy\n",
      "  \"\\n`%matplotlib` prevents importing * from pylab and numpy\"\n"
     ]
    }
   ],
   "source": [
    "import numpy as np\n",
    "import pandas as pd\n",
    "from scipy import stats\n",
    "from pandas.core.frame import DataFrame as DF\n",
    "from copy import copy as copy\n",
    "import operator as operator\n",
    "import pylab\n",
    "import scipy.io as spi\n",
    "\n",
    "# Show graphs in Notebook\n",
    "%matplotlib inline\n",
    "\n",
    "# Plotting tools\n",
    "import matplotlib.pyplot as plt\n",
    "import seaborn as sns\n",
    "%pylab inline\n",
    "figsize(15, 15);\n",
    "\n",
    "# Set up interface with R\n",
    "import rpy2\n",
    "%load_ext rpy2.ipython"
   ]
  },
  {
   "cell_type": "code",
   "execution_count": 4,
   "metadata": {
    "collapsed": false
   },
   "outputs": [
    {
     "name": "stdout",
     "output_type": "stream",
     "text": [
      "{'commit_hash': u'5c9c918',\n",
      " 'commit_source': 'installation',\n",
      " 'default_encoding': 'UTF-8',\n",
      " 'ipython_path': '/Users/Tomas/anaconda/lib/python2.7/site-packages/IPython',\n",
      " 'ipython_version': '5.1.0',\n",
      " 'os_name': 'posix',\n",
      " 'platform': 'Darwin-15.6.0-x86_64-i386-64bit',\n",
      " 'sys_executable': '/Users/Tomas/anaconda/bin/python',\n",
      " 'sys_platform': 'darwin',\n",
      " 'sys_version': '2.7.12 |Anaconda custom (x86_64)| (default, Jul  2 2016, 17:43:17) \\n[GCC 4.2.1 (Based on Apple Inc. build 5658) (LLVM build 2336.11.00)]'}\n"
     ]
    }
   ],
   "source": [
    "import IPython\n",
    "print IPython.sys_info()"
   ]
  },
  {
   "cell_type": "code",
   "execution_count": 5,
   "metadata": {
    "collapsed": false
   },
   "outputs": [
    {
     "name": "stdout",
     "output_type": "stream",
     "text": [
      "alabaster==0.7.9\n",
      "anaconda-clean==1.0\n",
      "anaconda-client==1.5.1\n",
      "anaconda-navigator==1.3.1\n",
      "appnope==0.1.0\n",
      "appscript==1.0.1\n",
      "argcomplete==1.0.0\n",
      "astroid==1.4.7\n",
      "astropy==1.2.1\n",
      "Babel==2.3.4\n",
      "backports-abc==0.4\n",
      "backports.shutil-get-terminal-size==1.0.0\n",
      "backports.ssl-match-hostname==3.4.0.2\n",
      "beautifulsoup4==4.5.1\n",
      "bitarray==0.8.1\n",
      "blaze==0.10.1\n",
      "bokeh==0.12.2\n",
      "boto==2.42.0\n",
      "Bottleneck==1.1.0\n",
      "cdecimal==2.3\n",
      "cffi==1.7.0\n",
      "chest==0.2.3\n",
      "click==6.6\n",
      "cloudpickle==0.2.1\n",
      "clyent==1.2.2\n",
      "colorama==0.3.7\n",
      "conda-build==2.0.2\n",
      "configobj==5.0.6\n",
      "configparser==3.5.0\n",
      "contextlib2==0.5.3\n",
      "cryptography==1.5\n",
      "cycler==0.10.0\n",
      "Cython==0.24.1\n",
      "cytoolz==0.8.0\n",
      "dask==0.11.0\n",
      "datashape==0.5.2\n",
      "decorator==4.0.10\n",
      "dill==0.2.5\n",
      "docutils==0.12\n",
      "dynd==0.7.3.dev1\n",
      "enum34==1.1.6\n",
      "et-xmlfile==1.0.1\n",
      "fastcache==1.0.2\n",
      "filelock==2.0.6\n",
      "Flask==0.11.1\n",
      "Flask-Cors==2.1.2\n",
      "funcsigs==1.0.2\n",
      "functools32==3.2.3.post2\n",
      "futures==3.0.5\n",
      "gevent==1.1.2\n",
      "greenlet==0.4.10\n",
      "grin==1.2.1\n",
      "h5py==2.6.0\n",
      "HDDM==0.6.0\n",
      "HeapDict==1.0.0\n",
      "idna==2.1\n",
      "imagesize==0.7.1\n",
      "ipaddress==1.0.16\n",
      "ipykernel==4.5.0\n",
      "ipython==5.1.0\n",
      "ipython-genutils==0.1.0\n",
      "ipywidgets==5.2.2\n",
      "itsdangerous==0.24\n",
      "jdcal==1.2\n",
      "jedi==0.9.0\n",
      "Jinja2==2.8\n",
      "jsonschema==2.5.1\n",
      "jupyter==1.0.0\n",
      "jupyter-client==4.4.0\n",
      "jupyter-console==5.0.0\n",
      "jupyter-core==4.2.0\n",
      "kabuki==0.6.1\n",
      "lazy-object-proxy==1.2.1\n",
      "llvmlite==0.13.0\n",
      "locket==0.2.0\n",
      "lxml==3.6.4\n",
      "MarkupSafe==0.23\n",
      "matplotlib==1.5.3\n",
      "mistune==0.7.3\n",
      "mpmath==0.19\n",
      "multipledispatch==0.4.8\n",
      "nb-anacondacloud==1.2.0\n",
      "nb-conda==2.0.0\n",
      "nb-conda-kernels==2.0.0\n",
      "nbconvert==4.2.0\n",
      "nbformat==4.1.0\n",
      "nbpresent==3.0.2\n",
      "networkx==1.11\n",
      "nltk==3.2.1\n",
      "nose==1.3.7\n",
      "notebook==4.2.3\n",
      "numba==0.28.1+0.gfe99fbc.dirty\n",
      "numexpr==2.6.1\n",
      "numpy==1.11.1\n",
      "odo==0.5.0\n",
      "openpyxl==2.3.2\n",
      "pandas==0.18.1\n",
      "partd==0.3.6\n",
      "path.py==0.0.0\n",
      "pathlib2==2.1.0\n",
      "patsy==0.4.1\n",
      "pep8==1.7.0\n",
      "pexpect==4.0.1\n",
      "pickleshare==0.7.4\n",
      "Pillow==3.3.1\n",
      "pkginfo==1.3.2\n",
      "ply==3.9\n",
      "prompt-toolkit==1.0.3\n",
      "psutil==4.3.1\n",
      "ptyprocess==0.5.1\n",
      "py==1.4.31\n",
      "pyasn1==0.1.9\n",
      "PyAudio==0.2.7\n",
      "pycosat==0.6.1\n",
      "pycparser==2.14\n",
      "pycrypto==2.6.1\n",
      "pycurl==7.43.0\n",
      "pyflakes==1.3.0\n",
      "Pygments==2.1.3\n",
      "pylint==1.5.4\n",
      "pymc==2.3.6\n",
      "pyOpenSSL==16.2.0\n",
      "pyparsing==2.1.4\n",
      "pytest==2.9.2\n",
      "python-dateutil==2.5.3\n",
      "pytz==2016.6.1\n",
      "PyYAML==3.12\n",
      "pyzmq==15.4.0\n",
      "QtAwesome==0.3.3\n",
      "qtconsole==4.2.1\n",
      "QtPy==1.1.2\n",
      "redis==2.10.5\n",
      "requests==2.12.4\n",
      "rope==0.9.4\n",
      "rpy2==2.8.3\n",
      "ruamel-yaml===-VERSION\n",
      "scikit-image==0.12.3\n",
      "scikit-learn==0.17.1\n",
      "scipy==0.18.1\n",
      "seaborn==0.7.1\n",
      "simplegeneric==0.8.1\n",
      "singledispatch==3.4.0.3\n",
      "six==1.10.0\n",
      "snowballstemmer==1.2.1\n",
      "sockjs-tornado==1.0.3\n",
      "Sphinx==1.4.6\n",
      "spyder==3.0.0\n",
      "SQLAlchemy==1.0.13\n",
      "statsmodels==0.6.1\n",
      "sympy==1.0\n",
      "tables==3.2.3.1\n",
      "terminado==0.6\n",
      "toolz==0.8.0\n",
      "tornado==4.4.1\n",
      "traitlets==4.3.0\n",
      "unicodecsv==0.14.1\n",
      "wcwidth==0.1.7\n",
      "Werkzeug==0.11.11\n",
      "widgetsnbextension==1.2.6\n",
      "wrapt==1.10.6\n",
      "xlrd==1.0.0\n",
      "XlsxWriter==0.9.3\n",
      "xlwings==0.10.0\n",
      "xlwt==1.1.2\n",
      "\u001b[33mYou are using pip version 8.1.2, however version 9.0.1 is available.\n",
      "You should consider upgrading via the 'pip install --upgrade pip' command.\u001b[0m\n"
     ]
    }
   ],
   "source": [
    "!pip freeze"
   ]
  },
  {
   "cell_type": "markdown",
   "metadata": {},
   "source": [
    "### Loading R packages"
   ]
  },
  {
   "cell_type": "code",
   "execution_count": 6,
   "metadata": {
    "collapsed": false
   },
   "outputs": [
    {
     "name": "stderr",
     "output_type": "stream",
     "text": [
      "/Users/Tomas/anaconda/lib/python2.7/site-packages/rpy2/rinterface/__init__.py:185: RRuntimeWarning: Loading required package: lme4\n",
      "\n",
      "  warnings.warn(x, RRuntimeWarning)\n",
      "/Users/Tomas/anaconda/lib/python2.7/site-packages/rpy2/rinterface/__init__.py:185: RRuntimeWarning: Loading required package: Matrix\n",
      "\n",
      "  warnings.warn(x, RRuntimeWarning)\n",
      "/Users/Tomas/anaconda/lib/python2.7/site-packages/rpy2/rinterface/__init__.py:185: RRuntimeWarning: Loading required package: car\n",
      "\n",
      "  warnings.warn(x, RRuntimeWarning)\n",
      "/Users/Tomas/anaconda/lib/python2.7/site-packages/rpy2/rinterface/__init__.py:185: RRuntimeWarning: Loading required package: gdata\n",
      "\n",
      "  warnings.warn(x, RRuntimeWarning)\n",
      "/Users/Tomas/anaconda/lib/python2.7/site-packages/rpy2/rinterface/__init__.py:185: RRuntimeWarning: gdata: read.xls support for 'XLS' (Excel 97-2004) files ENABLED.\n",
      "\n",
      "  warnings.warn(x, RRuntimeWarning)\n",
      "/Users/Tomas/anaconda/lib/python2.7/site-packages/rpy2/rinterface/__init__.py:185: RRuntimeWarning: \n",
      "\n",
      "  warnings.warn(x, RRuntimeWarning)\n",
      "/Users/Tomas/anaconda/lib/python2.7/site-packages/rpy2/rinterface/__init__.py:185: RRuntimeWarning: gdata: read.xls support for 'XLSX' (Excel 2007+) files ENABLED.\n",
      "\n",
      "  warnings.warn(x, RRuntimeWarning)\n",
      "/Users/Tomas/anaconda/lib/python2.7/site-packages/rpy2/rinterface/__init__.py:185: RRuntimeWarning: \n",
      "Attaching package: ‘gdata’\n",
      "\n",
      "\n",
      "  warnings.warn(x, RRuntimeWarning)\n",
      "/Users/Tomas/anaconda/lib/python2.7/site-packages/rpy2/rinterface/__init__.py:185: RRuntimeWarning: The following object is masked from ‘package:stats’:\n",
      "\n",
      "    nobs\n",
      "\n",
      "\n",
      "  warnings.warn(x, RRuntimeWarning)\n",
      "/Users/Tomas/anaconda/lib/python2.7/site-packages/rpy2/rinterface/__init__.py:185: RRuntimeWarning: The following object is masked from ‘package:utils’:\n",
      "\n",
      "    object.size\n",
      "\n",
      "\n",
      "  warnings.warn(x, RRuntimeWarning)\n"
     ]
    }
   ],
   "source": [
    "%%R\n",
    "require(lme4)\n",
    "require(car)\n",
    "require(gdata)"
   ]
  },
  {
   "cell_type": "code",
   "execution_count": 7,
   "metadata": {
    "collapsed": false
   },
   "outputs": [
    {
     "data": {
      "text/plain": [
       "R version 3.2.3 (2015-12-10)\n",
       "Platform: x86_64-apple-darwin13.4.0 (64-bit)\n",
       "Running under: OS X 10.11.6 (El Capitan)\n",
       "\n",
       "locale:\n",
       "[1] en_GB.UTF-8/en_GB.UTF-8/en_GB.UTF-8/C/en_GB.UTF-8/en_GB.UTF-8\n",
       "\n",
       "attached base packages:\n",
       "[1] tools     stats     graphics  grDevices utils     datasets  methods  \n",
       "[8] base     \n",
       "\n",
       "other attached packages:\n",
       "[1] gdata_2.17.0 car_2.1-0    lme4_1.1-12  Matrix_1.2-3\n",
       "\n",
       "loaded via a namespace (and not attached):\n",
       " [1] Rcpp_0.12.1        lattice_0.20-33    gtools_3.5.0       MASS_7.3-45       \n",
       " [5] grid_3.2.3         MatrixModels_0.4-1 nlme_3.1-124       SparseM_1.7       \n",
       " [9] minqa_1.2.4        nloptr_1.0.4       splines_3.2.3      pbkrtest_0.4-2    \n",
       "[13] parallel_3.2.3     mgcv_1.8-9         nnet_7.3-11        quantreg_5.19     \n"
      ]
     },
     "metadata": {},
     "output_type": "display_data"
    }
   ],
   "source": [
    "%%R\n",
    "sessionInfo()"
   ]
  },
  {
   "cell_type": "markdown",
   "metadata": {},
   "source": [
    "## Loading and cleaning data"
   ]
  },
  {
   "cell_type": "markdown",
   "metadata": {},
   "source": [
    "#### Loading the dataset"
   ]
  },
  {
   "cell_type": "code",
   "execution_count": 8,
   "metadata": {
    "collapsed": false
   },
   "outputs": [],
   "source": [
    "data_exp_1 = DF.from_csv('data/MyRawData.csv') #index_col=['Participant', 'Trial'])\n",
    "data_exp_1.reset_index(inplace=True)"
   ]
  },
  {
   "cell_type": "markdown",
   "metadata": {},
   "source": [
    "#### Loading control measures"
   ]
  },
  {
   "cell_type": "code",
   "execution_count": 9,
   "metadata": {
    "collapsed": false
   },
   "outputs": [],
   "source": [
    "# Loading the participantwise control measures\n",
    "ControlData = DF.from_csv('data/control_data_exp1.csv')"
   ]
  },
  {
   "cell_type": "code",
   "execution_count": 10,
   "metadata": {
    "collapsed": false
   },
   "outputs": [
    {
     "name": "stderr",
     "output_type": "stream",
     "text": [
      "/Users/Tomas/anaconda/lib/python2.7/site-packages/ipykernel/__main__.py:10: FutureWarning: sort(columns=....) is deprecated, use sort_values(by=.....)\n",
      "/Users/Tomas/anaconda/lib/python2.7/site-packages/ipykernel/__main__.py:13: FutureWarning: sort(columns=....) is deprecated, use sort_values(by=.....)\n"
     ]
    },
    {
     "data": {
      "text/html": [
       "<div>\n",
       "<table border=\"1\" class=\"dataframe\">\n",
       "  <thead>\n",
       "    <tr style=\"text-align: right;\">\n",
       "      <th></th>\n",
       "      <th>Participant ID</th>\n",
       "      <th>Group</th>\n",
       "      <th>WM</th>\n",
       "      <th>NVR</th>\n",
       "      <th>BVAT</th>\n",
       "      <th>Age</th>\n",
       "    </tr>\n",
       "    <tr>\n",
       "      <th>Participant</th>\n",
       "      <th></th>\n",
       "      <th></th>\n",
       "      <th></th>\n",
       "      <th></th>\n",
       "      <th></th>\n",
       "      <th></th>\n",
       "    </tr>\n",
       "  </thead>\n",
       "  <tbody>\n",
       "    <tr>\n",
       "      <th>1</th>\n",
       "      <td>1_1</td>\n",
       "      <td>Monolingual</td>\n",
       "      <td>17</td>\n",
       "      <td>12</td>\n",
       "      <td>40</td>\n",
       "      <td>23.083</td>\n",
       "    </tr>\n",
       "    <tr>\n",
       "      <th>2</th>\n",
       "      <td>2_1</td>\n",
       "      <td>Monolingual</td>\n",
       "      <td>16</td>\n",
       "      <td>12</td>\n",
       "      <td>43</td>\n",
       "      <td>22.333</td>\n",
       "    </tr>\n",
       "    <tr>\n",
       "      <th>3</th>\n",
       "      <td>3_1</td>\n",
       "      <td>Monolingual</td>\n",
       "      <td>11</td>\n",
       "      <td>9</td>\n",
       "      <td>40</td>\n",
       "      <td>20.917</td>\n",
       "    </tr>\n",
       "    <tr>\n",
       "      <th>4</th>\n",
       "      <td>4_1</td>\n",
       "      <td>Monolingual</td>\n",
       "      <td>16</td>\n",
       "      <td>8</td>\n",
       "      <td>50</td>\n",
       "      <td>28.917</td>\n",
       "    </tr>\n",
       "    <tr>\n",
       "      <th>5</th>\n",
       "      <td>5_1</td>\n",
       "      <td>Monolingual</td>\n",
       "      <td>17</td>\n",
       "      <td>7</td>\n",
       "      <td>47</td>\n",
       "      <td>20.250</td>\n",
       "    </tr>\n",
       "  </tbody>\n",
       "</table>\n",
       "</div>"
      ],
      "text/plain": [
       "            Participant ID        Group  WM  NVR  BVAT     Age\n",
       "Participant                                                   \n",
       "1                      1_1  Monolingual  17   12    40  23.083\n",
       "2                      2_1  Monolingual  16   12    43  22.333\n",
       "3                      3_1  Monolingual  11    9    40  20.917\n",
       "4                      4_1  Monolingual  16    8    50  28.917\n",
       "5                      5_1  Monolingual  17    7    47  20.250"
      ]
     },
     "execution_count": 10,
     "metadata": {},
     "output_type": "execute_result"
    }
   ],
   "source": [
    "ControlData.reset_index(inplace=True)\n",
    "\n",
    "ControlData['Participant'] = ControlData['Participant ID'].map(lambda x: str(x)[:-2])\n",
    "ControlData.columns\n",
    "\n",
    "ControlData_B = ControlData[ControlData['Group'] == 'Bilingual'].copy()\n",
    "ControlData_M = ControlData[ControlData['Group'] == 'Monolingual'].copy()\n",
    "\n",
    "ControlData_B['Participant'] = ControlData_B['Participant'].astype(int)\n",
    "ControlData_B.sort('Participant', inplace=True)\n",
    "ControlData_B['Participant'] = np.arange(32, 63)\n",
    "ControlData_M['Participant'] = ControlData_M['Participant'].astype(int)\n",
    "ControlData_M.sort('Participant', inplace=True)\n",
    "ControlData = pd.concat((ControlData_M, ControlData_B))\n",
    "\n",
    "ControlData.set_index('Participant', inplace=True)\n",
    "ControlData.head()"
   ]
  },
  {
   "cell_type": "markdown",
   "metadata": {
    "collapsed": false,
    "scrolled": true
   },
   "source": [
    "#### Generating a dataframe with participantwise means"
   ]
  },
  {
   "cell_type": "code",
   "execution_count": 11,
   "metadata": {
    "collapsed": false
   },
   "outputs": [
    {
     "data": {
      "text/html": [
       "<div>\n",
       "<table border=\"1\" class=\"dataframe\">\n",
       "  <thead>\n",
       "    <tr style=\"text-align: right;\">\n",
       "      <th></th>\n",
       "      <th>Participant</th>\n",
       "      <th>Trial</th>\n",
       "      <th>Group</th>\n",
       "      <th>Block</th>\n",
       "      <th>BlockPresentation</th>\n",
       "      <th>Correct</th>\n",
       "      <th>CorrectKey</th>\n",
       "      <th>Response</th>\n",
       "      <th>RT</th>\n",
       "      <th>DotDifference</th>\n",
       "      <th>DotNumberRight</th>\n",
       "      <th>DotNumberLeft</th>\n",
       "      <th>Confidence</th>\n",
       "      <th>ConfidenceRT</th>\n",
       "      <th>Date</th>\n",
       "      <th>TimeStamp</th>\n",
       "      <th>TimeStamp+1</th>\n",
       "      <th>RTConf+1</th>\n",
       "      <th>expName</th>\n",
       "    </tr>\n",
       "  </thead>\n",
       "  <tbody>\n",
       "    <tr>\n",
       "      <th>0</th>\n",
       "      <td>1</td>\n",
       "      <td>1</td>\n",
       "      <td>Monolingual</td>\n",
       "      <td>1</td>\n",
       "      <td>1</td>\n",
       "      <td>0.0</td>\n",
       "      <td>right</td>\n",
       "      <td>left</td>\n",
       "      <td>4.408616</td>\n",
       "      <td>3.0</td>\n",
       "      <td>53.0</td>\n",
       "      <td>50.0</td>\n",
       "      <td>0.60</td>\n",
       "      <td>0.973</td>\n",
       "      <td>2014_Nov_12_1312</td>\n",
       "      <td>211.632328</td>\n",
       "      <td>NaN</td>\n",
       "      <td>NaN</td>\n",
       "      <td>MetaDots</td>\n",
       "    </tr>\n",
       "    <tr>\n",
       "      <th>1</th>\n",
       "      <td>1</td>\n",
       "      <td>2</td>\n",
       "      <td>Monolingual</td>\n",
       "      <td>1</td>\n",
       "      <td>2</td>\n",
       "      <td>1.0</td>\n",
       "      <td>right</td>\n",
       "      <td>right</td>\n",
       "      <td>2.673370</td>\n",
       "      <td>4.0</td>\n",
       "      <td>54.0</td>\n",
       "      <td>50.0</td>\n",
       "      <td>0.50</td>\n",
       "      <td>0.456</td>\n",
       "      <td>2014_Nov_12_1312</td>\n",
       "      <td>215.278698</td>\n",
       "      <td>211.632328</td>\n",
       "      <td>0.973</td>\n",
       "      <td>MetaDots</td>\n",
       "    </tr>\n",
       "    <tr>\n",
       "      <th>2</th>\n",
       "      <td>1</td>\n",
       "      <td>3</td>\n",
       "      <td>Monolingual</td>\n",
       "      <td>1</td>\n",
       "      <td>3</td>\n",
       "      <td>0.0</td>\n",
       "      <td>right</td>\n",
       "      <td>left</td>\n",
       "      <td>3.291777</td>\n",
       "      <td>4.0</td>\n",
       "      <td>50.0</td>\n",
       "      <td>46.0</td>\n",
       "      <td>0.58</td>\n",
       "      <td>0.842</td>\n",
       "      <td>2014_Nov_12_1312</td>\n",
       "      <td>219.026475</td>\n",
       "      <td>215.278698</td>\n",
       "      <td>0.456</td>\n",
       "      <td>MetaDots</td>\n",
       "    </tr>\n",
       "    <tr>\n",
       "      <th>3</th>\n",
       "      <td>1</td>\n",
       "      <td>4</td>\n",
       "      <td>Monolingual</td>\n",
       "      <td>1</td>\n",
       "      <td>4</td>\n",
       "      <td>0.0</td>\n",
       "      <td>right</td>\n",
       "      <td>left</td>\n",
       "      <td>2.777241</td>\n",
       "      <td>5.0</td>\n",
       "      <td>55.0</td>\n",
       "      <td>50.0</td>\n",
       "      <td>0.54</td>\n",
       "      <td>1.036</td>\n",
       "      <td>2014_Nov_12_1312</td>\n",
       "      <td>222.645716</td>\n",
       "      <td>219.026475</td>\n",
       "      <td>0.842</td>\n",
       "      <td>MetaDots</td>\n",
       "    </tr>\n",
       "    <tr>\n",
       "      <th>4</th>\n",
       "      <td>1</td>\n",
       "      <td>5</td>\n",
       "      <td>Monolingual</td>\n",
       "      <td>1</td>\n",
       "      <td>5</td>\n",
       "      <td>1.0</td>\n",
       "      <td>left</td>\n",
       "      <td>left</td>\n",
       "      <td>2.860097</td>\n",
       "      <td>6.0</td>\n",
       "      <td>50.0</td>\n",
       "      <td>56.0</td>\n",
       "      <td>0.58</td>\n",
       "      <td>0.876</td>\n",
       "      <td>2014_Nov_12_1312</td>\n",
       "      <td>226.541812</td>\n",
       "      <td>222.645716</td>\n",
       "      <td>1.036</td>\n",
       "      <td>MetaDots</td>\n",
       "    </tr>\n",
       "  </tbody>\n",
       "</table>\n",
       "</div>"
      ],
      "text/plain": [
       "   Participant  Trial        Group  Block  BlockPresentation  Correct  \\\n",
       "0            1      1  Monolingual      1                  1      0.0   \n",
       "1            1      2  Monolingual      1                  2      1.0   \n",
       "2            1      3  Monolingual      1                  3      0.0   \n",
       "3            1      4  Monolingual      1                  4      0.0   \n",
       "4            1      5  Monolingual      1                  5      1.0   \n",
       "\n",
       "  CorrectKey Response        RT  DotDifference  DotNumberRight  DotNumberLeft  \\\n",
       "0      right     left  4.408616            3.0            53.0           50.0   \n",
       "1      right    right  2.673370            4.0            54.0           50.0   \n",
       "2      right     left  3.291777            4.0            50.0           46.0   \n",
       "3      right     left  2.777241            5.0            55.0           50.0   \n",
       "4       left     left  2.860097            6.0            50.0           56.0   \n",
       "\n",
       "   Confidence  ConfidenceRT              Date   TimeStamp  TimeStamp+1  \\\n",
       "0        0.60         0.973  2014_Nov_12_1312  211.632328          NaN   \n",
       "1        0.50         0.456  2014_Nov_12_1312  215.278698   211.632328   \n",
       "2        0.58         0.842  2014_Nov_12_1312  219.026475   215.278698   \n",
       "3        0.54         1.036  2014_Nov_12_1312  222.645716   219.026475   \n",
       "4        0.58         0.876  2014_Nov_12_1312  226.541812   222.645716   \n",
       "\n",
       "   RTConf+1   expName  \n",
       "0       NaN  MetaDots  \n",
       "1     0.973  MetaDots  \n",
       "2     0.456  MetaDots  \n",
       "3     0.842  MetaDots  \n",
       "4     1.036  MetaDots  "
      ]
     },
     "execution_count": 11,
     "metadata": {},
     "output_type": "execute_result"
    }
   ],
   "source": [
    "data_exp_1.head()"
   ]
  },
  {
   "cell_type": "code",
   "execution_count": 12,
   "metadata": {
    "collapsed": false
   },
   "outputs": [],
   "source": [
    "par_data_exp_1 = DF(data_exp_1.groupby(['Group','Participant']).mean())\n",
    "par_data_exp_1.reset_index('Group', drop=False, inplace=True)\n",
    "par_data_exp_1 = par_data_exp_1.sort_index()"
   ]
  },
  {
   "cell_type": "code",
   "execution_count": 13,
   "metadata": {
    "collapsed": false
   },
   "outputs": [],
   "source": [
    "data_exp_1['RT_MS'] = data_exp_1['RT']*1000\n",
    "par_data_exp_1['RT_MS'] = par_data_exp_1['RT']*1000"
   ]
  },
  {
   "cell_type": "markdown",
   "metadata": {},
   "source": [
    "## Functions for data analysis"
   ]
  },
  {
   "cell_type": "code",
   "execution_count": 14,
   "metadata": {
    "collapsed": true
   },
   "outputs": [],
   "source": [
    "# Cohen's D\n",
    "def CohensD(DF, variable):\n",
    "    cohensd = (DF[variable][DF['Group']=='Monolingual'].mean() - DF[variable][DF['Group']=='Bilingual'].mean()) / (sqrt((DF[variable][DF['Group']=='Monolingual'].std() ** 2 + DF[variable][DF['Group']=='Bilingual'].std() ** 2) / 2))\n",
    "    return cohensd\n",
    "\n",
    "# T-test\n",
    "def QuickTtest(DF, variable):\n",
    "    return stats.ttest_ind(DF[variable][DF['Group']=='Monolingual'], DF[variable][DF['Group']=='Bilingual'])\n",
    "\n",
    "# T-test with D\n",
    "def TtestD(DF, variable):\n",
    "    output = np.array(QuickTtest(DF, variable))\n",
    "    output = np.append(output, CohensD(DF, variable))\n",
    "    output = [round(output[0], 2), round(output[1], 5), round(output[2], 2)]\n",
    "    return output"
   ]
  },
  {
   "cell_type": "code",
   "execution_count": 15,
   "metadata": {
    "collapsed": true
   },
   "outputs": [],
   "source": [
    "def participant_zscore(data, old_var, sort_var):\n",
    "    data2 = data.set_index(sort_var).copy()\n",
    "    output = ((data2[old_var] - data2.groupby(level=sort_var)[old_var].mean())/\n",
    "              data2.groupby(level=sort_var)[old_var].std())\n",
    "    return output.values"
   ]
  },
  {
   "cell_type": "code",
   "execution_count": 16,
   "metadata": {
    "collapsed": true
   },
   "outputs": [],
   "source": [
    "def zscore(data, old_var):\n",
    "    output = ((data[old_var] - data[old_var].mean())/\n",
    "              data[old_var].std())\n",
    "    return output.values"
   ]
  },
  {
   "cell_type": "code",
   "execution_count": 17,
   "metadata": {
    "collapsed": true
   },
   "outputs": [],
   "source": [
    "def BIC_bar(data, title='title'):\n",
    "    \n",
    "    # set figure-level properties\n",
    "    sns.set(font_scale=1.5, style='white')\n",
    "    fig = figure(figsize=(8,7))\n",
    "    fig, top = plt.subplots()\n",
    "    \n",
    "    # determine variables\n",
    "    BIC = data['BIC'].get_values()\n",
    "    N = len(data['BIC'])\n",
    "    ylims = [data['BIC'].min()-(np.absolute(data['BIC'].max()-data['BIC'].min())/10), data['BIC'].max()+(np.absolute(data['BIC'].max()-data['BIC'].min())/10)]\n",
    "    ind = np.arange(N)  # the x locations for the groups\n",
    "    width = 0.5      # the width of the bars\n",
    "\n",
    "    # draw the bars\n",
    "    rects1 = top.bar(ind, BIC, width, color='#5b7c99')\n",
    "\n",
    "    # add some text for labels, title and axes ticks\n",
    "    top.set_ylabel('BIC Scores')\n",
    "    top.set_title(title)\n",
    "    top.set_xticks(ind+width/2)\n",
    "    top.set_xticklabels(data['Models'], rotation='vertical')\n",
    "    y_formatter = matplotlib.ticker.ScalarFormatter(useOffset=False)\n",
    "    top.yaxis.set_major_formatter(y_formatter)\n",
    "    \n",
    "    # set the axis limits\n",
    "    top.set_ylim(ylims)\n",
    "    top.set_xlim([-0.5, N])\n",
    "    \n",
    "    # hide spines\n",
    "    top.spines['top'].set_visible(False)\n",
    "    top.spines['right'].set_visible(False)"
   ]
  },
  {
   "cell_type": "markdown",
   "metadata": {},
   "source": [
    "## Demographics and control variables"
   ]
  },
  {
   "cell_type": "markdown",
   "metadata": {},
   "source": [
    "### Demographics"
   ]
  },
  {
   "cell_type": "code",
   "execution_count": 18,
   "metadata": {
    "collapsed": false
   },
   "outputs": [
    {
     "data": {
      "text/plain": [
       "-0.72772875077177956"
      ]
     },
     "execution_count": 18,
     "metadata": {},
     "output_type": "execute_result"
    }
   ],
   "source": [
    "CohensD(ControlData, 'Age')"
   ]
  },
  {
   "cell_type": "code",
   "execution_count": 19,
   "metadata": {
    "collapsed": true
   },
   "outputs": [],
   "source": [
    "%R -i ControlData"
   ]
  },
  {
   "cell_type": "code",
   "execution_count": 20,
   "metadata": {
    "collapsed": false
   },
   "outputs": [
    {
     "data": {
      "text/plain": [
       "\n",
       "\tWelch Two Sample t-test\n",
       "\n",
       "data:  Age by Group\n",
       "t = 2.8651, df = 57.968, p-value = 0.005799\n",
       "alternative hypothesis: true difference in means is not equal to 0\n",
       "95 percent confidence interval:\n",
       " 0.8983212 5.0640659\n",
       "sample estimates:\n",
       "  mean in group Bilingual mean in group Monolingual \n",
       "                 25.25539                  22.27419 \n",
       "\n"
      ]
     },
     "metadata": {},
     "output_type": "display_data"
    }
   ],
   "source": [
    "%%R\n",
    "t.test(Age~Group, data=ControlData)"
   ]
  },
  {
   "cell_type": "markdown",
   "metadata": {},
   "source": [
    "## Control Measures"
   ]
  },
  {
   "cell_type": "code",
   "execution_count": 21,
   "metadata": {
    "collapsed": false
   },
   "outputs": [],
   "source": [
    "ControlData.rename(columns={'Working Memory' : 'WM', 'Nonverbal Reasoning' : 'NVR'}, inplace=True)"
   ]
  },
  {
   "cell_type": "code",
   "execution_count": 22,
   "metadata": {
    "collapsed": false,
    "scrolled": true
   },
   "outputs": [
    {
     "data": {
      "text/html": [
       "<div>\n",
       "<table border=\"1\" class=\"dataframe\">\n",
       "  <thead>\n",
       "    <tr style=\"text-align: right;\">\n",
       "      <th></th>\n",
       "      <th>WM</th>\n",
       "      <th>NVR</th>\n",
       "      <th>BVAT</th>\n",
       "      <th>Age</th>\n",
       "    </tr>\n",
       "    <tr>\n",
       "      <th>Group</th>\n",
       "      <th></th>\n",
       "      <th></th>\n",
       "      <th></th>\n",
       "      <th></th>\n",
       "    </tr>\n",
       "  </thead>\n",
       "  <tbody>\n",
       "    <tr>\n",
       "      <th>Bilingual</th>\n",
       "      <td>16.032258</td>\n",
       "      <td>10.290323</td>\n",
       "      <td>36.935484</td>\n",
       "      <td>25.255387</td>\n",
       "    </tr>\n",
       "    <tr>\n",
       "      <th>Monolingual</th>\n",
       "      <td>17.903226</td>\n",
       "      <td>9.967742</td>\n",
       "      <td>42.419355</td>\n",
       "      <td>22.274194</td>\n",
       "    </tr>\n",
       "  </tbody>\n",
       "</table>\n",
       "</div>"
      ],
      "text/plain": [
       "                    WM        NVR       BVAT        Age\n",
       "Group                                                  \n",
       "Bilingual    16.032258  10.290323  36.935484  25.255387\n",
       "Monolingual  17.903226   9.967742  42.419355  22.274194"
      ]
     },
     "execution_count": 22,
     "metadata": {},
     "output_type": "execute_result"
    }
   ],
   "source": [
    "ControlData.groupby('Group').mean()"
   ]
  },
  {
   "cell_type": "code",
   "execution_count": 23,
   "metadata": {
    "collapsed": false,
    "scrolled": false
   },
   "outputs": [
    {
     "data": {
      "text/html": [
       "<div>\n",
       "<table border=\"1\" class=\"dataframe\">\n",
       "  <thead>\n",
       "    <tr style=\"text-align: right;\">\n",
       "      <th></th>\n",
       "      <th>WM</th>\n",
       "      <th>NVR</th>\n",
       "      <th>BVAT</th>\n",
       "      <th>Age</th>\n",
       "    </tr>\n",
       "    <tr>\n",
       "      <th>Group</th>\n",
       "      <th></th>\n",
       "      <th></th>\n",
       "      <th></th>\n",
       "      <th></th>\n",
       "    </tr>\n",
       "  </thead>\n",
       "  <tbody>\n",
       "    <tr>\n",
       "      <th>Bilingual</th>\n",
       "      <td>3.728126</td>\n",
       "      <td>1.792457</td>\n",
       "      <td>5.988519</td>\n",
       "      <td>4.463613</td>\n",
       "    </tr>\n",
       "    <tr>\n",
       "      <th>Monolingual</th>\n",
       "      <td>4.826005</td>\n",
       "      <td>1.682931</td>\n",
       "      <td>7.783633</td>\n",
       "      <td>3.693233</td>\n",
       "    </tr>\n",
       "  </tbody>\n",
       "</table>\n",
       "</div>"
      ],
      "text/plain": [
       "                   WM       NVR      BVAT       Age\n",
       "Group                                              \n",
       "Bilingual    3.728126  1.792457  5.988519  4.463613\n",
       "Monolingual  4.826005  1.682931  7.783633  3.693233"
      ]
     },
     "execution_count": 23,
     "metadata": {},
     "output_type": "execute_result"
    }
   ],
   "source": [
    "ControlData.groupby('Group').std()"
   ]
  },
  {
   "cell_type": "code",
   "execution_count": 24,
   "metadata": {
    "collapsed": false
   },
   "outputs": [
    {
     "data": {
      "text/plain": [
       "0.43388296895644823"
      ]
     },
     "execution_count": 24,
     "metadata": {},
     "output_type": "execute_result"
    }
   ],
   "source": [
    "CohensD(ControlData, 'WM')"
   ]
  },
  {
   "cell_type": "code",
   "execution_count": 25,
   "metadata": {
    "collapsed": true
   },
   "outputs": [],
   "source": [
    "%R -i ControlData"
   ]
  },
  {
   "cell_type": "code",
   "execution_count": 26,
   "metadata": {
    "collapsed": false
   },
   "outputs": [
    {
     "data": {
      "text/plain": [
       "\n",
       "\tWelch Two Sample t-test\n",
       "\n",
       "data:  WM by Group\n",
       "t = -1.7082, df = 56.403, p-value = 0.0931\n",
       "alternative hypothesis: true difference in means is not equal to 0\n",
       "95 percent confidence interval:\n",
       " -4.0647448  0.3228094\n",
       "sample estimates:\n",
       "  mean in group Bilingual mean in group Monolingual \n",
       "                 16.03226                  17.90323 \n",
       "\n"
      ]
     },
     "metadata": {},
     "output_type": "display_data"
    }
   ],
   "source": [
    "%%R\n",
    "t.test(WM~Group, data=ControlData)"
   ]
  },
  {
   "cell_type": "code",
   "execution_count": 27,
   "metadata": {
    "collapsed": false
   },
   "outputs": [
    {
     "data": {
      "text/plain": [
       "-0.18554504358127344"
      ]
     },
     "execution_count": 27,
     "metadata": {},
     "output_type": "execute_result"
    }
   ],
   "source": [
    "CohensD(ControlData, 'NVR')"
   ]
  },
  {
   "cell_type": "code",
   "execution_count": 28,
   "metadata": {
    "collapsed": false,
    "scrolled": true
   },
   "outputs": [
    {
     "data": {
      "text/plain": [
       "\n",
       "\tWelch Two Sample t-test\n",
       "\n",
       "data:  NVR by Group\n",
       "t = 0.73049, df = 59.763, p-value = 0.4679\n",
       "alternative hypothesis: true difference in means is not equal to 0\n",
       "95 percent confidence interval:\n",
       " -0.5608108  1.2059721\n",
       "sample estimates:\n",
       "  mean in group Bilingual mean in group Monolingual \n",
       "                10.290323                  9.967742 \n",
       "\n"
      ]
     },
     "metadata": {},
     "output_type": "display_data"
    }
   ],
   "source": [
    "%%R\n",
    "t.test(NVR~Group, data=ControlData)"
   ]
  },
  {
   "cell_type": "markdown",
   "metadata": {},
   "source": [
    "### Add control variables to the main dataframe"
   ]
  },
  {
   "cell_type": "code",
   "execution_count": 29,
   "metadata": {
    "collapsed": false
   },
   "outputs": [],
   "source": [
    "data_exp_1.set_index('Participant', inplace=True)\n",
    "data_exp_1['Age'] = ControlData['Age']\n",
    "data_exp_1['WM'] = ControlData['WM']\n",
    "data_exp_1.reset_index(inplace=True)"
   ]
  },
  {
   "cell_type": "markdown",
   "metadata": {},
   "source": [
    "### Add control variables to the participantwise dataframe"
   ]
  },
  {
   "cell_type": "code",
   "execution_count": 30,
   "metadata": {
    "collapsed": false
   },
   "outputs": [],
   "source": [
    "par_data_exp_1['Age'] = ControlData['Age']\n",
    "par_data_exp_1['WM'] = ControlData['WM']"
   ]
  },
  {
   "cell_type": "markdown",
   "metadata": {},
   "source": [
    "## Group comparisons for Accuracy, Difficulty and Choice and Confidence RT"
   ]
  },
  {
   "cell_type": "markdown",
   "metadata": {},
   "source": [
    "### Means"
   ]
  },
  {
   "cell_type": "code",
   "execution_count": 31,
   "metadata": {
    "collapsed": false,
    "scrolled": true
   },
   "outputs": [
    {
     "data": {
      "text/html": [
       "<div>\n",
       "<table border=\"1\" class=\"dataframe\">\n",
       "  <thead>\n",
       "    <tr style=\"text-align: right;\">\n",
       "      <th>Group</th>\n",
       "      <th>Bilingual</th>\n",
       "      <th>Monolingual</th>\n",
       "    </tr>\n",
       "  </thead>\n",
       "  <tbody>\n",
       "    <tr>\n",
       "      <th>Correct</th>\n",
       "      <td>0.707903</td>\n",
       "      <td>0.709839</td>\n",
       "    </tr>\n",
       "    <tr>\n",
       "      <th>DotDifference</th>\n",
       "      <td>4.637742</td>\n",
       "      <td>4.335968</td>\n",
       "    </tr>\n",
       "    <tr>\n",
       "      <th>RT</th>\n",
       "      <td>2.679136</td>\n",
       "      <td>3.359697</td>\n",
       "    </tr>\n",
       "    <tr>\n",
       "      <th>ConfidenceRT</th>\n",
       "      <td>1.111708</td>\n",
       "      <td>1.179266</td>\n",
       "    </tr>\n",
       "  </tbody>\n",
       "</table>\n",
       "</div>"
      ],
      "text/plain": [
       "Group          Bilingual  Monolingual\n",
       "Correct         0.707903     0.709839\n",
       "DotDifference   4.637742     4.335968\n",
       "RT              2.679136     3.359697\n",
       "ConfidenceRT    1.111708     1.179266"
      ]
     },
     "execution_count": 31,
     "metadata": {},
     "output_type": "execute_result"
    }
   ],
   "source": [
    "par_data_exp_1[['Group', 'Correct', 'DotDifference', 'RT', 'ConfidenceRT']].groupby('Group').mean().transpose()"
   ]
  },
  {
   "cell_type": "markdown",
   "metadata": {},
   "source": [
    "### Std"
   ]
  },
  {
   "cell_type": "code",
   "execution_count": 32,
   "metadata": {
    "collapsed": false
   },
   "outputs": [
    {
     "data": {
      "text/html": [
       "<div>\n",
       "<table border=\"1\" class=\"dataframe\">\n",
       "  <thead>\n",
       "    <tr style=\"text-align: right;\">\n",
       "      <th>Group</th>\n",
       "      <th>Bilingual</th>\n",
       "      <th>Monolingual</th>\n",
       "    </tr>\n",
       "  </thead>\n",
       "  <tbody>\n",
       "    <tr>\n",
       "      <th>Correct</th>\n",
       "      <td>0.012300</td>\n",
       "      <td>0.010605</td>\n",
       "    </tr>\n",
       "    <tr>\n",
       "      <th>DotDifference</th>\n",
       "      <td>1.034924</td>\n",
       "      <td>1.076827</td>\n",
       "    </tr>\n",
       "    <tr>\n",
       "      <th>RT</th>\n",
       "      <td>0.922995</td>\n",
       "      <td>1.474547</td>\n",
       "    </tr>\n",
       "    <tr>\n",
       "      <th>ConfidenceRT</th>\n",
       "      <td>0.275024</td>\n",
       "      <td>0.318261</td>\n",
       "    </tr>\n",
       "  </tbody>\n",
       "</table>\n",
       "</div>"
      ],
      "text/plain": [
       "Group          Bilingual  Monolingual\n",
       "Correct         0.012300     0.010605\n",
       "DotDifference   1.034924     1.076827\n",
       "RT              0.922995     1.474547\n",
       "ConfidenceRT    0.275024     0.318261"
      ]
     },
     "execution_count": 32,
     "metadata": {},
     "output_type": "execute_result"
    }
   ],
   "source": [
    "par_data_exp_1[['Group', 'Correct', 'DotDifference', 'RT', 'ConfidenceRT']].groupby('Group').std().transpose()"
   ]
  },
  {
   "cell_type": "markdown",
   "metadata": {},
   "source": [
    "### Accuracy"
   ]
  },
  {
   "cell_type": "code",
   "execution_count": 33,
   "metadata": {
    "collapsed": false,
    "scrolled": true
   },
   "outputs": [
    {
     "data": {
      "text/plain": [
       "<seaborn.axisgrid.FacetGrid at 0x11dbe7b10>"
      ]
     },
     "execution_count": 33,
     "metadata": {},
     "output_type": "execute_result"
    },
    {
     "data": {
      "image/png": "[encoded data removed]",
      "text/plain": [
       "<matplotlib.figure.Figure at 0x11dbe7f10>"
      ]
     },
     "metadata": {},
     "output_type": "display_data"
    }
   ],
   "source": [
    "sns.factorplot(data=par_data_exp_1, x='Group', y='Correct', kind='violin')"
   ]
  },
  {
   "cell_type": "code",
   "execution_count": 34,
   "metadata": {
    "collapsed": false,
    "scrolled": true
   },
   "outputs": [
    {
     "data": {
      "text/html": [
       "<div>\n",
       "<table border=\"1\" class=\"dataframe\">\n",
       "  <thead>\n",
       "    <tr style=\"text-align: right;\">\n",
       "      <th></th>\n",
       "      <th>Group</th>\n",
       "      <th>Trial</th>\n",
       "      <th>Block</th>\n",
       "      <th>BlockPresentation</th>\n",
       "      <th>Correct</th>\n",
       "      <th>RT</th>\n",
       "      <th>DotDifference</th>\n",
       "      <th>DotNumberRight</th>\n",
       "      <th>DotNumberLeft</th>\n",
       "      <th>Confidence</th>\n",
       "      <th>ConfidenceRT</th>\n",
       "      <th>TimeStamp</th>\n",
       "      <th>TimeStamp+1</th>\n",
       "      <th>RTConf+1</th>\n",
       "      <th>RT_MS</th>\n",
       "      <th>Age</th>\n",
       "      <th>WM</th>\n",
       "      <th>ZAccuracy</th>\n",
       "    </tr>\n",
       "    <tr>\n",
       "      <th>Participant</th>\n",
       "      <th></th>\n",
       "      <th></th>\n",
       "      <th></th>\n",
       "      <th></th>\n",
       "      <th></th>\n",
       "      <th></th>\n",
       "      <th></th>\n",
       "      <th></th>\n",
       "      <th></th>\n",
       "      <th></th>\n",
       "      <th></th>\n",
       "      <th></th>\n",
       "      <th></th>\n",
       "      <th></th>\n",
       "      <th></th>\n",
       "      <th></th>\n",
       "      <th></th>\n",
       "      <th></th>\n",
       "    </tr>\n",
       "  </thead>\n",
       "  <tbody>\n",
       "  </tbody>\n",
       "</table>\n",
       "</div>"
      ],
      "text/plain": [
       "Empty DataFrame\n",
       "Columns: [Group, Trial, Block, BlockPresentation, Correct, RT, DotDifference, DotNumberRight, DotNumberLeft, Confidence, ConfidenceRT, TimeStamp, TimeStamp+1, RTConf+1, RT_MS, Age, WM, ZAccuracy]\n",
       "Index: []"
      ]
     },
     "execution_count": 34,
     "metadata": {},
     "output_type": "execute_result"
    }
   ],
   "source": [
    "par_data_exp_1.sort_values(by='Group', inplace=True)\n",
    "par_data_exp_1['ZAccuracy'] = participant_zscore(par_data_exp_1, 'Correct', 'Group')\n",
    "par_data_exp_1.sort_index(inplace=True)\n",
    "par_data_exp_1.loc[par_data_exp_1['ZAccuracy'].abs()>3, :]"
   ]
  },
  {
   "cell_type": "markdown",
   "metadata": {},
   "source": [
    "No outliers for accuracy"
   ]
  },
  {
   "cell_type": "code",
   "execution_count": 35,
   "metadata": {
    "collapsed": false,
    "scrolled": true
   },
   "outputs": [
    {
     "data": {
      "text/plain": [
       "0.1685377743774695"
      ]
     },
     "execution_count": 35,
     "metadata": {},
     "output_type": "execute_result"
    }
   ],
   "source": [
    "CohensD(par_data_exp_1, 'Correct')"
   ]
  },
  {
   "cell_type": "code",
   "execution_count": 36,
   "metadata": {
    "collapsed": true
   },
   "outputs": [],
   "source": [
    "%R -i par_data_exp_1"
   ]
  },
  {
   "cell_type": "code",
   "execution_count": 37,
   "metadata": {
    "collapsed": false,
    "scrolled": true
   },
   "outputs": [
    {
     "data": {
      "text/plain": [
       "\n",
       "\tWelch Two Sample t-test\n",
       "\n",
       "data:  Correct by Group\n",
       "t = -0.66353, df = 58.728, p-value = 0.5096\n",
       "alternative hypothesis: true difference in means is not equal to 0\n",
       "95 percent confidence interval:\n",
       " -0.007772819  0.003901851\n",
       "sample estimates:\n",
       "  mean in group Bilingual mean in group Monolingual \n",
       "                0.7079032                 0.7098387 \n",
       "\n"
      ]
     },
     "metadata": {},
     "output_type": "display_data"
    }
   ],
   "source": [
    "%%R\n",
    "t.test(Correct~Group, data=par_data_exp_1)"
   ]
  },
  {
   "cell_type": "markdown",
   "metadata": {},
   "source": [
    "### DotDifference"
   ]
  },
  {
   "cell_type": "code",
   "execution_count": 38,
   "metadata": {
    "collapsed": false,
    "scrolled": true
   },
   "outputs": [
    {
     "data": {
      "text/plain": [
       "<seaborn.axisgrid.FacetGrid at 0x11cc4fc10>"
      ]
     },
     "execution_count": 38,
     "metadata": {},
     "output_type": "execute_result"
    },
    {
     "data": {
      "image/png": "[encoded data removed]",
      "text/plain": [
       "<matplotlib.figure.Figure at 0x11b79dbd0>"
      ]
     },
     "metadata": {},
     "output_type": "display_data"
    }
   ],
   "source": [
    "sns.factorplot(data=par_data_exp_1, x='Group', y='DotDifference', kind='violin')"
   ]
  },
  {
   "cell_type": "code",
   "execution_count": 39,
   "metadata": {
    "collapsed": false,
    "scrolled": true
   },
   "outputs": [
    {
     "data": {
      "text/html": [
       "<div>\n",
       "<table border=\"1\" class=\"dataframe\">\n",
       "  <thead>\n",
       "    <tr style=\"text-align: right;\">\n",
       "      <th></th>\n",
       "      <th>Group</th>\n",
       "      <th>Trial</th>\n",
       "      <th>Block</th>\n",
       "      <th>BlockPresentation</th>\n",
       "      <th>Correct</th>\n",
       "      <th>RT</th>\n",
       "      <th>DotDifference</th>\n",
       "      <th>DotNumberRight</th>\n",
       "      <th>DotNumberLeft</th>\n",
       "      <th>Confidence</th>\n",
       "      <th>ConfidenceRT</th>\n",
       "      <th>TimeStamp</th>\n",
       "      <th>TimeStamp+1</th>\n",
       "      <th>RTConf+1</th>\n",
       "      <th>RT_MS</th>\n",
       "      <th>Age</th>\n",
       "      <th>WM</th>\n",
       "      <th>ZAccuracy</th>\n",
       "      <th>ZDotDif</th>\n",
       "    </tr>\n",
       "    <tr>\n",
       "      <th>Participant</th>\n",
       "      <th></th>\n",
       "      <th></th>\n",
       "      <th></th>\n",
       "      <th></th>\n",
       "      <th></th>\n",
       "      <th></th>\n",
       "      <th></th>\n",
       "      <th></th>\n",
       "      <th></th>\n",
       "      <th></th>\n",
       "      <th></th>\n",
       "      <th></th>\n",
       "      <th></th>\n",
       "      <th></th>\n",
       "      <th></th>\n",
       "      <th></th>\n",
       "      <th></th>\n",
       "      <th></th>\n",
       "      <th></th>\n",
       "    </tr>\n",
       "  </thead>\n",
       "  <tbody>\n",
       "    <tr>\n",
       "      <th>9</th>\n",
       "      <td>Monolingual</td>\n",
       "      <td>100.5</td>\n",
       "      <td>4.5</td>\n",
       "      <td>13.0</td>\n",
       "      <td>0.7</td>\n",
       "      <td>2.216056</td>\n",
       "      <td>8.43</td>\n",
       "      <td>50.945</td>\n",
       "      <td>50.835</td>\n",
       "      <td>0.6119</td>\n",
       "      <td>1.188645</td>\n",
       "      <td>504.569361</td>\n",
       "      <td>502.838646</td>\n",
       "      <td>1.189276</td>\n",
       "      <td>2216.056375</td>\n",
       "      <td>19.583</td>\n",
       "      <td>25</td>\n",
       "      <td>-0.927713</td>\n",
       "      <td>3.801942</td>\n",
       "    </tr>\n",
       "  </tbody>\n",
       "</table>\n",
       "</div>"
      ],
      "text/plain": [
       "                   Group  Trial  Block  BlockPresentation  Correct        RT  \\\n",
       "Participant                                                                    \n",
       "9            Monolingual  100.5    4.5               13.0      0.7  2.216056   \n",
       "\n",
       "             DotDifference  DotNumberRight  DotNumberLeft  Confidence  \\\n",
       "Participant                                                             \n",
       "9                     8.43          50.945         50.835      0.6119   \n",
       "\n",
       "             ConfidenceRT   TimeStamp  TimeStamp+1  RTConf+1        RT_MS  \\\n",
       "Participant                                                                 \n",
       "9                1.188645  504.569361   502.838646  1.189276  2216.056375   \n",
       "\n",
       "                Age  WM  ZAccuracy   ZDotDif  \n",
       "Participant                                   \n",
       "9            19.583  25  -0.927713  3.801942  "
      ]
     },
     "execution_count": 39,
     "metadata": {},
     "output_type": "execute_result"
    }
   ],
   "source": [
    "par_data_exp_1.sort_values(by='Group', inplace=True)\n",
    "par_data_exp_1['ZDotDif'] = participant_zscore(par_data_exp_1, 'DotDifference', 'Group')\n",
    "par_data_exp_1.sort_index(inplace=True)\n",
    "par_data_exp_1.loc[par_data_exp_1['ZDotDif'].abs()>3, :]"
   ]
  },
  {
   "cell_type": "markdown",
   "metadata": {},
   "source": [
    "We note that participant 9 is an outlier, and cap the value at 3SD above the group mean."
   ]
  },
  {
   "cell_type": "code",
   "execution_count": 40,
   "metadata": {
    "collapsed": false,
    "scrolled": false
   },
   "outputs": [
    {
     "data": {
      "text/plain": [
       "-0.28574848306436251"
      ]
     },
     "execution_count": 40,
     "metadata": {},
     "output_type": "execute_result"
    }
   ],
   "source": [
    "CohensD(par_data_exp_1, 'DotDifference')"
   ]
  },
  {
   "cell_type": "code",
   "execution_count": 41,
   "metadata": {
    "collapsed": false,
    "scrolled": true
   },
   "outputs": [
    {
     "data": {
      "text/plain": [
       "\n",
       "\tWelch Two Sample t-test\n",
       "\n",
       "data:  DotDifference by Group\n",
       "t = 1.125, df = 59.906, p-value = 0.2651\n",
       "alternative hypothesis: true difference in means is not equal to 0\n",
       "95 percent confidence interval:\n",
       " -0.2348139  0.8383623\n",
       "sample estimates:\n",
       "  mean in group Bilingual mean in group Monolingual \n",
       "                 4.637742                  4.335968 \n",
       "\n"
      ]
     },
     "metadata": {},
     "output_type": "display_data"
    }
   ],
   "source": [
    "%%R\n",
    "t.test(DotDifference~Group, data=par_data_exp_1)"
   ]
  },
  {
   "cell_type": "markdown",
   "metadata": {},
   "source": [
    "### Dealing with outliers"
   ]
  },
  {
   "cell_type": "code",
   "execution_count": 42,
   "metadata": {
    "collapsed": false,
    "scrolled": true
   },
   "outputs": [
    {
     "data": {
      "text/html": [
       "<div>\n",
       "<table border=\"1\" class=\"dataframe\">\n",
       "  <thead>\n",
       "    <tr style=\"text-align: right;\">\n",
       "      <th></th>\n",
       "      <th>Group</th>\n",
       "      <th>Trial</th>\n",
       "      <th>Block</th>\n",
       "      <th>BlockPresentation</th>\n",
       "      <th>Correct</th>\n",
       "      <th>RT</th>\n",
       "      <th>DotDifference</th>\n",
       "      <th>DotNumberRight</th>\n",
       "      <th>DotNumberLeft</th>\n",
       "      <th>Confidence</th>\n",
       "      <th>ConfidenceRT</th>\n",
       "      <th>TimeStamp</th>\n",
       "      <th>TimeStamp+1</th>\n",
       "      <th>RTConf+1</th>\n",
       "      <th>RT_MS</th>\n",
       "      <th>Age</th>\n",
       "      <th>WM</th>\n",
       "      <th>ZAccuracy</th>\n",
       "      <th>ZDotDif</th>\n",
       "    </tr>\n",
       "    <tr>\n",
       "      <th>Participant</th>\n",
       "      <th></th>\n",
       "      <th></th>\n",
       "      <th></th>\n",
       "      <th></th>\n",
       "      <th></th>\n",
       "      <th></th>\n",
       "      <th></th>\n",
       "      <th></th>\n",
       "      <th></th>\n",
       "      <th></th>\n",
       "      <th></th>\n",
       "      <th></th>\n",
       "      <th></th>\n",
       "      <th></th>\n",
       "      <th></th>\n",
       "      <th></th>\n",
       "      <th></th>\n",
       "      <th></th>\n",
       "      <th></th>\n",
       "    </tr>\n",
       "  </thead>\n",
       "  <tbody>\n",
       "    <tr>\n",
       "      <th>9</th>\n",
       "      <td>Monolingual</td>\n",
       "      <td>100.5</td>\n",
       "      <td>4.5</td>\n",
       "      <td>13.0</td>\n",
       "      <td>0.7</td>\n",
       "      <td>2.216056</td>\n",
       "      <td>8.43</td>\n",
       "      <td>50.945</td>\n",
       "      <td>50.835</td>\n",
       "      <td>0.6119</td>\n",
       "      <td>1.188645</td>\n",
       "      <td>504.569361</td>\n",
       "      <td>502.838646</td>\n",
       "      <td>1.189276</td>\n",
       "      <td>2216.056375</td>\n",
       "      <td>19.583</td>\n",
       "      <td>25</td>\n",
       "      <td>-0.927713</td>\n",
       "      <td>3.801942</td>\n",
       "    </tr>\n",
       "  </tbody>\n",
       "</table>\n",
       "</div>"
      ],
      "text/plain": [
       "                   Group  Trial  Block  BlockPresentation  Correct        RT  \\\n",
       "Participant                                                                    \n",
       "9            Monolingual  100.5    4.5               13.0      0.7  2.216056   \n",
       "\n",
       "             DotDifference  DotNumberRight  DotNumberLeft  Confidence  \\\n",
       "Participant                                                             \n",
       "9                     8.43          50.945         50.835      0.6119   \n",
       "\n",
       "             ConfidenceRT   TimeStamp  TimeStamp+1  RTConf+1        RT_MS  \\\n",
       "Participant                                                                 \n",
       "9                1.188645  504.569361   502.838646  1.189276  2216.056375   \n",
       "\n",
       "                Age  WM  ZAccuracy   ZDotDif  \n",
       "Participant                                   \n",
       "9            19.583  25  -0.927713  3.801942  "
      ]
     },
     "execution_count": 42,
     "metadata": {},
     "output_type": "execute_result"
    }
   ],
   "source": [
    "par_data_exp_1.sort_index(inplace=True)\n",
    "par_data_exp_1.loc[par_data_exp_1['ZDotDif']>3, :]"
   ]
  },
  {
   "cell_type": "code",
   "execution_count": 43,
   "metadata": {
    "collapsed": false
   },
   "outputs": [
    {
     "data": {
      "text/plain": [
       "Group                Monolingual\n",
       "Trial                      100.5\n",
       "Block                        4.5\n",
       "BlockPresentation             13\n",
       "Correct                      0.7\n",
       "RT                       2.21606\n",
       "DotDifference            7.56645\n",
       "DotNumberRight            50.945\n",
       "DotNumberLeft             50.835\n",
       "Confidence                0.6119\n",
       "ConfidenceRT             1.18864\n",
       "TimeStamp                504.569\n",
       "TimeStamp+1              502.839\n",
       "RTConf+1                 1.18928\n",
       "RT_MS                    2216.06\n",
       "Age                       19.583\n",
       "WM                            25\n",
       "ZAccuracy              -0.927713\n",
       "ZDotDif                  3.80194\n",
       "Name: 9, dtype: object"
      ]
     },
     "execution_count": 43,
     "metadata": {},
     "output_type": "execute_result"
    }
   ],
   "source": [
    "par_data_exp_1.loc[9, 'DotDifference'] = par_data_exp_1.loc[(par_data_exp_1['Group'] == 'Monolingual'), 'DotDifference'].mean() + (par_data_exp_1.loc[(par_data_exp_1['Group'] == 'Monolingual'), 'DotDifference'].std() *3)\n",
    "par_data_exp_1.loc[9]"
   ]
  },
  {
   "cell_type": "code",
   "execution_count": 44,
   "metadata": {
    "collapsed": false,
    "scrolled": true
   },
   "outputs": [
    {
     "name": "stdout",
     "output_type": "stream",
     "text": [
      "\n",
      "\tWelch Two Sample t-test\n",
      "\n",
      "data:  DotDifference by Group\n",
      "t = 1.2916, df = 59.778, p-value = 0.2015\n",
      "alternative hypothesis: true difference in means is not equal to 0\n",
      "95 percent confidence interval:\n",
      " -0.1808903  0.8401517\n",
      "sample estimates:\n",
      "  mean in group Bilingual mean in group Monolingual \n",
      "                 4.637742                  4.308111 \n",
      "\n",
      "\n",
      "-0.328077234841\n"
     ]
    }
   ],
   "source": [
    "%R -i par_data_exp_1\n",
    "%R result <- t.test(DotDifference ~ Group, data=par_data_exp_1)\n",
    "%R -o result\n",
    "print result\n",
    "print CohensD(par_data_exp_1, 'DotDifference')"
   ]
  },
  {
   "cell_type": "markdown",
   "metadata": {},
   "source": [
    "### Response Time Confidence"
   ]
  },
  {
   "cell_type": "code",
   "execution_count": 45,
   "metadata": {
    "collapsed": false,
    "scrolled": true
   },
   "outputs": [
    {
     "data": {
      "text/plain": [
       "<seaborn.axisgrid.FacetGrid at 0x1226f3410>"
      ]
     },
     "execution_count": 45,
     "metadata": {},
     "output_type": "execute_result"
    },
    {
     "data": {
      "image/png": "[encoded data removed]",
      "text/plain": [
       "<matplotlib.figure.Figure at 0x11dbee8d0>"
      ]
     },
     "metadata": {},
     "output_type": "display_data"
    }
   ],
   "source": [
    "sns.factorplot(data=par_data_exp_1, x='Group', y='ConfidenceRT', kind='violin')"
   ]
  },
  {
   "cell_type": "code",
   "execution_count": 46,
   "metadata": {
    "collapsed": false,
    "scrolled": true
   },
   "outputs": [
    {
     "data": {
      "text/html": [
       "<div>\n",
       "<table border=\"1\" class=\"dataframe\">\n",
       "  <thead>\n",
       "    <tr style=\"text-align: right;\">\n",
       "      <th></th>\n",
       "      <th>Group</th>\n",
       "      <th>Trial</th>\n",
       "      <th>Block</th>\n",
       "      <th>BlockPresentation</th>\n",
       "      <th>Correct</th>\n",
       "      <th>RT</th>\n",
       "      <th>DotDifference</th>\n",
       "      <th>DotNumberRight</th>\n",
       "      <th>DotNumberLeft</th>\n",
       "      <th>Confidence</th>\n",
       "      <th>ConfidenceRT</th>\n",
       "      <th>TimeStamp</th>\n",
       "      <th>TimeStamp+1</th>\n",
       "      <th>RTConf+1</th>\n",
       "      <th>RT_MS</th>\n",
       "      <th>Age</th>\n",
       "      <th>WM</th>\n",
       "      <th>ZAccuracy</th>\n",
       "      <th>ZDotDif</th>\n",
       "      <th>ZConfidenceRT</th>\n",
       "    </tr>\n",
       "    <tr>\n",
       "      <th>Participant</th>\n",
       "      <th></th>\n",
       "      <th></th>\n",
       "      <th></th>\n",
       "      <th></th>\n",
       "      <th></th>\n",
       "      <th></th>\n",
       "      <th></th>\n",
       "      <th></th>\n",
       "      <th></th>\n",
       "      <th></th>\n",
       "      <th></th>\n",
       "      <th></th>\n",
       "      <th></th>\n",
       "      <th></th>\n",
       "      <th></th>\n",
       "      <th></th>\n",
       "      <th></th>\n",
       "      <th></th>\n",
       "      <th></th>\n",
       "      <th></th>\n",
       "    </tr>\n",
       "  </thead>\n",
       "  <tbody>\n",
       "  </tbody>\n",
       "</table>\n",
       "</div>"
      ],
      "text/plain": [
       "Empty DataFrame\n",
       "Columns: [Group, Trial, Block, BlockPresentation, Correct, RT, DotDifference, DotNumberRight, DotNumberLeft, Confidence, ConfidenceRT, TimeStamp, TimeStamp+1, RTConf+1, RT_MS, Age, WM, ZAccuracy, ZDotDif, ZConfidenceRT]\n",
       "Index: []"
      ]
     },
     "execution_count": 46,
     "metadata": {},
     "output_type": "execute_result"
    }
   ],
   "source": [
    "par_data_exp_1.sort_values(by='Group', inplace=True)\n",
    "par_data_exp_1['ZConfidenceRT'] = participant_zscore(par_data_exp_1, 'ConfidenceRT', 'Group')\n",
    "par_data_exp_1.sort_index(inplace=True)\n",
    "par_data_exp_1.loc[par_data_exp_1['ZConfidenceRT'].abs()>3, :]"
   ]
  },
  {
   "cell_type": "markdown",
   "metadata": {},
   "source": [
    "No outliers for confidence RT."
   ]
  },
  {
   "cell_type": "code",
   "execution_count": 47,
   "metadata": {
    "collapsed": false,
    "scrolled": true
   },
   "outputs": [
    {
     "data": {
      "text/plain": [
       "0.22713889425428901"
      ]
     },
     "execution_count": 47,
     "metadata": {},
     "output_type": "execute_result"
    }
   ],
   "source": [
    "CohensD(par_data_exp_1, 'ConfidenceRT')"
   ]
  },
  {
   "cell_type": "code",
   "execution_count": 48,
   "metadata": {
    "collapsed": false,
    "scrolled": true
   },
   "outputs": [
    {
     "data": {
      "text/plain": [
       "\n",
       "\tWelch Two Sample t-test\n",
       "\n",
       "data:  ConfidenceRT by Group\n",
       "t = -0.89425, df = 58.765, p-value = 0.3748\n",
       "alternative hypothesis: true difference in means is not equal to 0\n",
       "95 percent confidence interval:\n",
       " -0.21873979  0.08362431\n",
       "sample estimates:\n",
       "  mean in group Bilingual mean in group Monolingual \n",
       "                 1.111708                  1.179266 \n",
       "\n"
      ]
     },
     "metadata": {},
     "output_type": "display_data"
    }
   ],
   "source": [
    "%%R\n",
    "t.test(ConfidenceRT~Group, data=par_data_exp_1)"
   ]
  },
  {
   "cell_type": "markdown",
   "metadata": {},
   "source": [
    "### Response Time Choice"
   ]
  },
  {
   "cell_type": "code",
   "execution_count": 49,
   "metadata": {
    "collapsed": false,
    "scrolled": true
   },
   "outputs": [
    {
     "data": {
      "text/plain": [
       "<seaborn.axisgrid.FacetGrid at 0x11dbee990>"
      ]
     },
     "execution_count": 49,
     "metadata": {},
     "output_type": "execute_result"
    },
    {
     "data": {
      "image/png": "[encoded data removed]",
      "text/plain": [
       "<matplotlib.figure.Figure at 0x1227c98d0>"
      ]
     },
     "metadata": {},
     "output_type": "display_data"
    }
   ],
   "source": [
    "sns.factorplot(data=par_data_exp_1, x='Group', y='RT', kind='violin')"
   ]
  },
  {
   "cell_type": "code",
   "execution_count": 50,
   "metadata": {
    "collapsed": false,
    "scrolled": true
   },
   "outputs": [
    {
     "data": {
      "text/html": [
       "<div>\n",
       "<table border=\"1\" class=\"dataframe\">\n",
       "  <thead>\n",
       "    <tr style=\"text-align: right;\">\n",
       "      <th></th>\n",
       "      <th>Group</th>\n",
       "      <th>Trial</th>\n",
       "      <th>Block</th>\n",
       "      <th>BlockPresentation</th>\n",
       "      <th>Correct</th>\n",
       "      <th>RT</th>\n",
       "      <th>DotDifference</th>\n",
       "      <th>DotNumberRight</th>\n",
       "      <th>DotNumberLeft</th>\n",
       "      <th>Confidence</th>\n",
       "      <th>...</th>\n",
       "      <th>TimeStamp</th>\n",
       "      <th>TimeStamp+1</th>\n",
       "      <th>RTConf+1</th>\n",
       "      <th>RT_MS</th>\n",
       "      <th>Age</th>\n",
       "      <th>WM</th>\n",
       "      <th>ZAccuracy</th>\n",
       "      <th>ZDotDif</th>\n",
       "      <th>ZConfidenceRT</th>\n",
       "      <th>ZRT</th>\n",
       "    </tr>\n",
       "    <tr>\n",
       "      <th>Participant</th>\n",
       "      <th></th>\n",
       "      <th></th>\n",
       "      <th></th>\n",
       "      <th></th>\n",
       "      <th></th>\n",
       "      <th></th>\n",
       "      <th></th>\n",
       "      <th></th>\n",
       "      <th></th>\n",
       "      <th></th>\n",
       "      <th></th>\n",
       "      <th></th>\n",
       "      <th></th>\n",
       "      <th></th>\n",
       "      <th></th>\n",
       "      <th></th>\n",
       "      <th></th>\n",
       "      <th></th>\n",
       "      <th></th>\n",
       "      <th></th>\n",
       "      <th></th>\n",
       "    </tr>\n",
       "  </thead>\n",
       "  <tbody>\n",
       "    <tr>\n",
       "      <th>24</th>\n",
       "      <td>Monolingual</td>\n",
       "      <td>100.5</td>\n",
       "      <td>4.5</td>\n",
       "      <td>13.0</td>\n",
       "      <td>0.715</td>\n",
       "      <td>9.496715</td>\n",
       "      <td>3.955</td>\n",
       "      <td>49.67</td>\n",
       "      <td>49.925</td>\n",
       "      <td>0.5552</td>\n",
       "      <td>...</td>\n",
       "      <td>1705.016131</td>\n",
       "      <td>1699.714743</td>\n",
       "      <td>2.045462</td>\n",
       "      <td>9496.714533</td>\n",
       "      <td>27.667</td>\n",
       "      <td>29</td>\n",
       "      <td>0.486669</td>\n",
       "      <td>-0.353787</td>\n",
       "      <td>2.702777</td>\n",
       "      <td>4.161968</td>\n",
       "    </tr>\n",
       "  </tbody>\n",
       "</table>\n",
       "<p>1 rows × 21 columns</p>\n",
       "</div>"
      ],
      "text/plain": [
       "                   Group  Trial  Block  BlockPresentation  Correct        RT  \\\n",
       "Participant                                                                    \n",
       "24           Monolingual  100.5    4.5               13.0    0.715  9.496715   \n",
       "\n",
       "             DotDifference  DotNumberRight  DotNumberLeft  Confidence  \\\n",
       "Participant                                                             \n",
       "24                   3.955           49.67         49.925      0.5552   \n",
       "\n",
       "               ...       TimeStamp  TimeStamp+1  RTConf+1        RT_MS  \\\n",
       "Participant    ...                                                       \n",
       "24             ...     1705.016131  1699.714743  2.045462  9496.714533   \n",
       "\n",
       "                Age  WM  ZAccuracy   ZDotDif  ZConfidenceRT       ZRT  \n",
       "Participant                                                            \n",
       "24           27.667  29   0.486669 -0.353787       2.702777  4.161968  \n",
       "\n",
       "[1 rows x 21 columns]"
      ]
     },
     "execution_count": 50,
     "metadata": {},
     "output_type": "execute_result"
    }
   ],
   "source": [
    "par_data_exp_1.sort_values(by='Group', inplace=True)\n",
    "par_data_exp_1['ZRT'] = participant_zscore(par_data_exp_1, 'RT', 'Group')\n",
    "par_data_exp_1.sort_index(inplace=True)\n",
    "par_data_exp_1.loc[par_data_exp_1['ZRT'].abs()>3, :]"
   ]
  },
  {
   "cell_type": "markdown",
   "metadata": {},
   "source": [
    "Participant 24 is an outlier."
   ]
  },
  {
   "cell_type": "code",
   "execution_count": 51,
   "metadata": {
    "collapsed": false,
    "scrolled": true
   },
   "outputs": [
    {
     "data": {
      "text/plain": [
       "0.55326462809414545"
      ]
     },
     "execution_count": 51,
     "metadata": {},
     "output_type": "execute_result"
    }
   ],
   "source": [
    "CohensD(par_data_exp_1, 'RT')"
   ]
  },
  {
   "cell_type": "code",
   "execution_count": 52,
   "metadata": {
    "collapsed": false,
    "scrolled": false
   },
   "outputs": [
    {
     "data": {
      "text/plain": [
       "\n",
       "\tWelch Two Sample t-test\n",
       "\n",
       "data:  RT by Group\n",
       "t = -2.1782, df = 50.38, p-value = 0.0341\n",
       "alternative hypothesis: true difference in means is not equal to 0\n",
       "95 percent confidence interval:\n",
       " -1.30800101 -0.05312171\n",
       "sample estimates:\n",
       "  mean in group Bilingual mean in group Monolingual \n",
       "                 2.679136                  3.359697 \n",
       "\n"
      ]
     },
     "metadata": {},
     "output_type": "display_data"
    }
   ],
   "source": [
    "%%R\n",
    "t.test(RT~Group, data=par_data_exp_1)"
   ]
  },
  {
   "cell_type": "markdown",
   "metadata": {},
   "source": [
    "### Dealing with outliers"
   ]
  },
  {
   "cell_type": "markdown",
   "metadata": {},
   "source": [
    "Participant 24 is an outlier, so let's trunctate the response time to 3 SD above the mean:"
   ]
  },
  {
   "cell_type": "code",
   "execution_count": 53,
   "metadata": {
    "collapsed": false,
    "scrolled": false
   },
   "outputs": [
    {
     "data": {
      "text/plain": [
       "Group                Monolingual\n",
       "Trial                      100.5\n",
       "Block                        4.5\n",
       "BlockPresentation             13\n",
       "Correct                    0.715\n",
       "RT                       7.78334\n",
       "DotDifference              3.955\n",
       "DotNumberRight             49.67\n",
       "DotNumberLeft             49.925\n",
       "Confidence                0.5552\n",
       "ConfidenceRT             2.03945\n",
       "TimeStamp                1705.02\n",
       "TimeStamp+1              1699.71\n",
       "RTConf+1                 2.04546\n",
       "RT_MS                    9496.71\n",
       "Age                       27.667\n",
       "WM                            29\n",
       "ZAccuracy               0.486669\n",
       "ZDotDif                -0.353787\n",
       "ZConfidenceRT            2.70278\n",
       "ZRT                      4.16197\n",
       "Name: 24, dtype: object"
      ]
     },
     "execution_count": 53,
     "metadata": {},
     "output_type": "execute_result"
    }
   ],
   "source": [
    "par_data_exp_1.loc[24, 'RT'] = par_data_exp_1.loc[(par_data_exp_1['Group'] == 'Monolingual'), 'RT'].mean() + (par_data_exp_1.loc[(par_data_exp_1['Group'] == 'Monolingual'), 'RT'].std() *3)\n",
    "par_data_exp_1.loc[24]"
   ]
  },
  {
   "cell_type": "code",
   "execution_count": 54,
   "metadata": {
    "collapsed": false,
    "scrolled": true
   },
   "outputs": [
    {
     "data": {
      "text/plain": [
       "0.5684576429081174"
      ]
     },
     "execution_count": 54,
     "metadata": {},
     "output_type": "execute_result"
    }
   ],
   "source": [
    "CohensD(par_data_exp_1, 'RT')"
   ]
  },
  {
   "cell_type": "code",
   "execution_count": 55,
   "metadata": {
    "collapsed": true
   },
   "outputs": [],
   "source": [
    "%R -i par_data_exp_1"
   ]
  },
  {
   "cell_type": "code",
   "execution_count": 56,
   "metadata": {
    "collapsed": false,
    "scrolled": false
   },
   "outputs": [
    {
     "data": {
      "text/plain": [
       "\n",
       "\tWelch Two Sample t-test\n",
       "\n",
       "data:  RT by Group\n",
       "t = -2.238, df = 55.169, p-value = 0.02928\n",
       "alternative hypothesis: true difference in means is not equal to 0\n",
       "95 percent confidence interval:\n",
       " -1.18517222 -0.06541008\n",
       "sample estimates:\n",
       "  mean in group Bilingual mean in group Monolingual \n",
       "                 2.679136                  3.304427 \n",
       "\n"
      ]
     },
     "metadata": {},
     "output_type": "display_data"
    }
   ],
   "source": [
    "%%R\n",
    "t.test(RT~Group, data=par_data_exp_1)"
   ]
  },
  {
   "cell_type": "markdown",
   "metadata": {},
   "source": [
    "## First Order Analysis with age and WM as control analysis"
   ]
  },
  {
   "cell_type": "markdown",
   "metadata": {},
   "source": [
    "## Age"
   ]
  },
  {
   "cell_type": "code",
   "execution_count": 57,
   "metadata": {
    "collapsed": false,
    "scrolled": true
   },
   "outputs": [
    {
     "data": {
      "text/plain": [
       "\n",
       "Call:\n",
       "lm(formula = Correct ~ Group + Age, data = par_data_exp_1)\n",
       "\n",
       "Residuals:\n",
       "       Min         1Q     Median         3Q        Max \n",
       "-0.0229637 -0.0071239 -0.0008092  0.0070907  0.0218427 \n",
       "\n",
       "Coefficients:\n",
       "                Estimate Std. Error t value Pr(>|t|)    \n",
       "(Intercept)     0.686702   0.007794  88.109  < 2e-16 ***\n",
       "GroupBilingual -0.005032   0.002913  -1.727  0.08932 .  \n",
       "Age             0.001039   0.000339   3.064  0.00329 ** \n",
       "---\n",
       "Signif. codes:  0 ‘***’ 0.001 ‘**’ 0.01 ‘*’ 0.05 ‘.’ 0.1 ‘ ’ 1\n",
       "\n",
       "Residual standard error: 0.01076 on 59 degrees of freedom\n",
       "Multiple R-squared:  0.1436,\tAdjusted R-squared:  0.1145 \n",
       "F-statistic: 4.946 on 2 and 59 DF,  p-value: 0.01033\n",
       "\n",
       "\n",
       "Call:\n",
       "lm(formula = DotDifference ~ Group + Age, data = par_data_exp_1)\n",
       "\n",
       "Residuals:\n",
       "    Min      1Q  Median      3Q     Max \n",
       "-1.7184 -0.5643 -0.1708  0.3727  3.1038 \n",
       "\n",
       "Coefficients:\n",
       "               Estimate Std. Error t value Pr(>|t|)    \n",
       "(Intercept)     5.58721    0.71373   7.828 1.07e-10 ***\n",
       "GroupBilingual  0.50083    0.26677   1.877   0.0654 .  \n",
       "Age            -0.05743    0.03104  -1.850   0.0693 .  \n",
       "---\n",
       "Signif. codes:  0 ‘***’ 0.001 ‘**’ 0.01 ‘*’ 0.05 ‘.’ 0.1 ‘ ’ 1\n",
       "\n",
       "Residual standard error: 0.9851 on 59 degrees of freedom\n",
       "Multiple R-squared:  0.08039,\tAdjusted R-squared:  0.04922 \n",
       "F-statistic: 2.579 on 2 and 59 DF,  p-value: 0.08439\n",
       "\n",
       "\n",
       "Call:\n",
       "lm(formula = ConfidenceRT ~ Group + Age, data = par_data_exp_1)\n",
       "\n",
       "Residuals:\n",
       "     Min       1Q   Median       3Q      Max \n",
       "-0.48375 -0.19949 -0.04552  0.13015  0.80837 \n",
       "\n",
       "Coefficients:\n",
       "                Estimate Std. Error t value Pr(>|t|)    \n",
       "(Intercept)     0.965248   0.215413   4.481 3.47e-05 ***\n",
       "GroupBilingual -0.096202   0.080515  -1.195    0.237    \n",
       "Age             0.009608   0.009369   1.026    0.309    \n",
       "---\n",
       "Signif. codes:  0 ‘***’ 0.001 ‘**’ 0.01 ‘*’ 0.05 ‘.’ 0.1 ‘ ’ 1\n",
       "\n",
       "Residual standard error: 0.2973 on 59 degrees of freedom\n",
       "Multiple R-squared:  0.03044,\tAdjusted R-squared:  -0.002431 \n",
       "F-statistic: 0.926 on 2 and 59 DF,  p-value: 0.4018\n",
       "\n",
       "\n",
       "Call:\n",
       "lm(formula = RT ~ Group + Age, data = par_data_exp_1)\n",
       "\n",
       "Residuals:\n",
       "    Min      1Q  Median      3Q     Max \n",
       "-1.4734 -0.6937 -0.1763  0.3044  4.2570 \n",
       "\n",
       "Coefficients:\n",
       "               Estimate Std. Error t value Pr(>|t|)   \n",
       "(Intercept)     2.38785    0.79423   3.006  0.00388 **\n",
       "GroupBilingual -0.74797    0.29686  -2.520  0.01448 * \n",
       "Age             0.04115    0.03454   1.191  0.23834   \n",
       "---\n",
       "Signif. codes:  0 ‘***’ 0.001 ‘**’ 0.01 ‘*’ 0.05 ‘.’ 0.1 ‘ ’ 1\n",
       "\n",
       "Residual standard error: 1.096 on 59 degrees of freedom\n",
       "Multiple R-squared:  0.09872,\tAdjusted R-squared:  0.06817 \n",
       "F-statistic: 3.231 on 2 and 59 DF,  p-value: 0.04659\n",
       "\n"
      ]
     },
     "metadata": {},
     "output_type": "display_data"
    }
   ],
   "source": [
    "%%R\n",
    "par_data_exp_1$Group = factor(par_data_exp_1$Group)\n",
    "par_data_exp_1$Group <- relevel(par_data_exp_1$Group, ref=\"Monolingual\")\n",
    "\n",
    "print(summary(lm(Correct~Group + Age, data=par_data_exp_1)))\n",
    "print(summary(lm(DotDifference~Group + Age, data=par_data_exp_1)))\n",
    "print(summary(lm(ConfidenceRT~Group + Age, data=par_data_exp_1)))\n",
    "print(summary(lm(RT~Group + Age, data=par_data_exp_1)))"
   ]
  },
  {
   "cell_type": "markdown",
   "metadata": {},
   "source": [
    "## Working Memory"
   ]
  },
  {
   "cell_type": "code",
   "execution_count": 58,
   "metadata": {
    "collapsed": false
   },
   "outputs": [
    {
     "data": {
      "text/plain": [
       "\n",
       "Call:\n",
       "lm(formula = Correct ~ Group + WM, data = par_data_exp_1)\n",
       "\n",
       "Residuals:\n",
       "      Min        1Q    Median        3Q       Max \n",
       "-0.027968 -0.007869 -0.001290  0.006523  0.027131 \n",
       "\n",
       "Coefficients:\n",
       "                 Estimate Std. Error t value Pr(>|t|)    \n",
       "(Intercept)     7.093e-01  6.546e-03 108.348   <2e-16 ***\n",
       "GroupBilingual -1.874e-03  3.012e-03  -0.622    0.536    \n",
       "WM              3.282e-05  3.467e-04   0.095    0.925    \n",
       "---\n",
       "Signif. codes:  0 ‘***’ 0.001 ‘**’ 0.01 ‘*’ 0.05 ‘.’ 0.1 ‘ ’ 1\n",
       "\n",
       "Residual standard error: 0.01158 on 59 degrees of freedom\n",
       "Multiple R-squared:  0.007435,\tAdjusted R-squared:  -0.02621 \n",
       "F-statistic: 0.221 on 2 and 59 DF,  p-value: 0.8024\n",
       "\n",
       "\n",
       "Call:\n",
       "lm(formula = DotDifference ~ Group + WM, data = par_data_exp_1)\n",
       "\n",
       "Residuals:\n",
       "    Min      1Q  Median      3Q     Max \n",
       "-1.5757 -0.5522 -0.1274  0.4307  3.3398 \n",
       "\n",
       "Coefficients:\n",
       "               Estimate Std. Error t value Pr(>|t|)    \n",
       "(Intercept)     4.51373    0.57206   7.890 8.39e-11 ***\n",
       "GroupBilingual  0.30814    0.26322   1.171    0.246    \n",
       "WM             -0.01148    0.03030  -0.379    0.706    \n",
       "---\n",
       "Signif. codes:  0 ‘***’ 0.001 ‘**’ 0.01 ‘*’ 0.05 ‘.’ 0.1 ‘ ’ 1\n",
       "\n",
       "Residual standard error: 1.012 on 59 degrees of freedom\n",
       "Multiple R-squared:  0.02942,\tAdjusted R-squared:  -0.003484 \n",
       "F-statistic: 0.8941 on 2 and 59 DF,  p-value: 0.4144\n",
       "\n",
       "\n",
       "Call:\n",
       "lm(formula = ConfidenceRT ~ Group + WM, data = par_data_exp_1)\n",
       "\n",
       "Residuals:\n",
       "     Min       1Q   Median       3Q      Max \n",
       "-0.59412 -0.22686 -0.03892  0.14958  0.83814 \n",
       "\n",
       "Coefficients:\n",
       "                Estimate Std. Error t value Pr(>|t|)    \n",
       "(Intercept)     0.986267   0.167468   5.889 1.97e-07 ***\n",
       "GroupBilingual -0.047388   0.077056  -0.615    0.541    \n",
       "WM              0.010780   0.008869   1.215    0.229    \n",
       "---\n",
       "Signif. codes:  0 ‘***’ 0.001 ‘**’ 0.01 ‘*’ 0.05 ‘.’ 0.1 ‘ ’ 1\n",
       "\n",
       "Residual standard error: 0.2963 on 59 degrees of freedom\n",
       "Multiple R-squared:  0.03726,\tAdjusted R-squared:  0.004623 \n",
       "F-statistic: 1.142 on 2 and 59 DF,  p-value: 0.3262\n",
       "\n",
       "\n",
       "Call:\n",
       "lm(formula = RT ~ Group + WM, data = par_data_exp_1)\n",
       "\n",
       "Residuals:\n",
       "    Min      1Q  Median      3Q     Max \n",
       "-1.4242 -0.7363 -0.2653  0.4111  4.1996 \n",
       "\n",
       "Coefficients:\n",
       "               Estimate Std. Error t value Pr(>|t|)    \n",
       "(Intercept)     2.85374    0.62399   4.573 2.51e-05 ***\n",
       "GroupBilingual -0.57819    0.28711  -2.014   0.0486 *  \n",
       "WM              0.02517    0.03305   0.762   0.4493    \n",
       "---\n",
       "Signif. codes:  0 ‘***’ 0.001 ‘**’ 0.01 ‘*’ 0.05 ‘.’ 0.1 ‘ ’ 1\n",
       "\n",
       "Residual standard error: 1.104 on 59 degrees of freedom\n",
       "Multiple R-squared:  0.08604,\tAdjusted R-squared:  0.05505 \n",
       "F-statistic: 2.777 on 2 and 59 DF,  p-value: 0.07037\n",
       "\n"
      ]
     },
     "metadata": {},
     "output_type": "display_data"
    }
   ],
   "source": [
    "%%R\n",
    "print(summary(lm(Correct~Group + WM, data=par_data_exp_1)))\n",
    "print(summary(lm(DotDifference~Group + WM, data=par_data_exp_1)))\n",
    "print(summary(lm(ConfidenceRT~Group + WM, data=par_data_exp_1)))\n",
    "print(summary(lm(RT~Group + WM, data=par_data_exp_1)))"
   ]
  },
  {
   "cell_type": "markdown",
   "metadata": {},
   "source": [
    "### MLM for response time choice"
   ]
  },
  {
   "cell_type": "code",
   "execution_count": 67,
   "metadata": {
    "collapsed": false,
    "scrolled": true
   },
   "outputs": [
    {
     "data": {
      "text/plain": [
       "<seaborn.axisgrid.FacetGrid at 0x1269ccc90>"
      ]
     },
     "execution_count": 67,
     "metadata": {},
     "output_type": "execute_result"
    },
    {
     "data": {
      "image/png": "[encoded data removed]",
      "text/plain": [
       "<matplotlib.figure.Figure at 0x1269ccc50>"
      ]
     },
     "metadata": {},
     "output_type": "display_data"
    }
   ],
   "source": [
    "sns.set(style='white', font_scale=1.5)\n",
    "g = sns.factorplot(\"Block\", \"RT_MS\", data=data_exp_1, hue='Group', hue_order=['Monolingual', 'Bilingual'],\n",
    "                   kind='point', size=6, aspect=1.2, units='Participant', jitter_x=.05).despine(left=True)\n",
    "g.set(ylabel='Response Time (ms)', xlabel='Block')\n",
    "\n",
    "#savefig(\"../Write-Up/Graphs/RT_Block_WriteUp2.png\", dpi=300)"
   ]
  },
  {
   "cell_type": "code",
   "execution_count": 60,
   "metadata": {
    "collapsed": true
   },
   "outputs": [],
   "source": [
    "%R -i data_exp_1"
   ]
  },
  {
   "cell_type": "markdown",
   "metadata": {},
   "source": [
    "### Basic Models"
   ]
  },
  {
   "cell_type": "code",
   "execution_count": 61,
   "metadata": {
    "collapsed": false
   },
   "outputs": [],
   "source": [
    "%%R\n",
    "library(optimx)\n",
    "data_exp_1$Group = factor(data_exp_1$Group) \n",
    "data_exp_1$Group <- relevel(data_exp_1$Group, ref=\"Monolingual\")\n",
    "\n",
    "Empty_RT = lmer(RT_MS ~ 1 + (1 | Participant), data=data_exp_1, REML=FALSE, control=lmerControl(optimizer=\"optimx\", optCtrl=list(method=\"L-BFGS-B\")))\n",
    "Group_RT = lmer(RT_MS ~ Group + (1 | Participant), data=data_exp_1, REML=FALSE, control=lmerControl(optimizer=\"optimx\", optCtrl=list(method=\"L-BFGS-B\")))\n",
    "Block_RT = lmer(RT_MS ~ Group + Block + Block:Group + (1 | Participant), data=data_exp_1, REML=FALSE, control=lmerControl(optimizer=\"optimx\", optCtrl=list(method=\"L-BFGS-B\")))\n",
    "Block_RT_Random = lmer(RT_MS ~ Group + Block + Block:Group + (Block | Participant), data=data_exp_1, REML=FALSE, control=lmerControl(optimizer=\"optimx\", optCtrl=list(method=\"L-BFGS-B\")))\n"
   ]
  },
  {
   "cell_type": "markdown",
   "metadata": {},
   "source": [
    "### Best fitting RT model"
   ]
  },
  {
   "cell_type": "code",
   "execution_count": 62,
   "metadata": {
    "collapsed": false,
    "scrolled": true
   },
   "outputs": [
    {
     "data": {
      "text/plain": [
       "Linear mixed model fit by maximum likelihood  ['lmerMod']\n",
       "Formula: RT_MS ~ Group + Block + Block:Group + (Block | Participant)\n",
       "   Data: data_exp_1\n",
       "Control: lmerControl(optimizer = \"optimx\", optCtrl = list(method = \"L-BFGS-B\"))\n",
       "\n",
       "      AIC       BIC    logLik  deviance  df.resid \n",
       " 224450.5  224509.9 -112217.2  224434.5     12392 \n",
       "\n",
       "Scaled residuals: \n",
       "    Min      1Q  Median      3Q     Max \n",
       "-4.7898 -0.4276 -0.1639  0.2540 21.3528 \n",
       "\n",
       "Random effects:\n",
       " Groups      Name        Variance Std.Dev. Corr \n",
       " Participant (Intercept) 2380701  1543.0        \n",
       "             Block         26127   161.6   -0.65\n",
       " Residual                4116081  2028.8        \n",
       "Number of obs: 12400, groups:  Participant, 62\n",
       "\n",
       "Fixed effects:\n",
       "                     Estimate Std. Error t value\n",
       "(Intercept)           3273.16     282.88  11.571\n",
       "GroupBilingual        -283.11     400.05  -0.708\n",
       "Block                   19.23      31.13   0.618\n",
       "GroupBilingual:Block   -88.32      44.03  -2.006\n",
       "\n",
       "Correlation of Fixed Effects:\n",
       "            (Intr) GrpBln Block \n",
       "GroupBilngl -0.707              \n",
       "Block       -0.661  0.468       \n",
       "GrpBlngl:Bl  0.468 -0.661 -0.707\n",
       "convergence code: 0\n",
       "Model failed to converge with max|grad| = 0.00366519 (tol = 0.002, component 1)\n",
       "\n"
      ]
     },
     "metadata": {},
     "output_type": "display_data"
    }
   ],
   "source": [
    "%%R\n",
    "summary(Block_RT_Random)"
   ]
  },
  {
   "cell_type": "code",
   "execution_count": 63,
   "metadata": {
    "collapsed": false,
    "scrolled": true
   },
   "outputs": [
    {
     "name": "stderr",
     "output_type": "stream",
     "text": [
      "/Users/Tomas/anaconda/lib/python2.7/site-packages/rpy2/rinterface/__init__.py:185: RRuntimeWarning: Note: method with signature ‘sparseMatrix#ANY’ chosen for function ‘kronecker’,\n",
      " target signature ‘dgCMatrix#ngCMatrix’.\n",
      " \"ANY#sparseMatrix\" would also be valid\n",
      "\n",
      "  warnings.warn(x, RRuntimeWarning)\n"
     ]
    },
    {
     "data": {
      "text/plain": [
       "                       Estimate Std..Error    t.value    df.KR     confmax\n",
       "(Intercept)          3273.15594  282.88049 11.5708083 64.03339 3827.601699\n",
       "GroupBilingual       -283.11023  400.05343 -0.7076811 64.03339  500.994486\n",
       "Block                  19.23134   31.13298  0.6177158 64.03339   80.251987\n",
       "GroupBilingual:Block  -88.32247   44.02869 -2.0060210 64.03339   -2.026243\n",
       "                         confmin       p.KR        p.z\n",
       "(Intercept)           2718.71018 0.00000000 0.00000000\n",
       "GroupBilingual       -1067.21494 0.48171125 0.47914335\n",
       "Block                  -41.78931 0.53895339 0.53676267\n",
       "GroupBilingual:Block  -174.61870 0.04908235 0.04485401\n"
      ]
     },
     "metadata": {},
     "output_type": "display_data"
    }
   ],
   "source": [
    "%%R\n",
    "# Package for approximating degrees of freedom for the fixed effects in MLM\n",
    "library(pbkrtest)\n",
    "\n",
    "# get the coefficients for the best fitting model\n",
    "coefs <- data.frame(coef(summary(Block_RT_Random)))\n",
    "\n",
    "# Use the Kenward-Roger approximation to get approximate degrees of freedom\n",
    "df.KR <- get_ddf_Lb(Block_RT_Random, fixef(Block_RT_Random))\n",
    "coefs$df.KR <-(rep(df.KR, each=4))\n",
    "\n",
    "# Calculate confidence intervals from the estimates and the standard errors\n",
    "coefs$confmax <- coefs$Estimate + (coefs$Std..Error * 1.96)\n",
    "coefs$confmin <- coefs$Estimate - (coefs$Std..Error * 1.96)\n",
    "\n",
    "# get p-values from the t-distribution using the t-values and approximated\n",
    "# degrees of freedom\n",
    "coefs$p.KR <- 2 * (1 - pt(abs(coefs$t.value), df.KR))\n",
    "\n",
    "# use normal distribution to approximate p-value (tends to be anti-conservative with small sample sizes)\n",
    "coefs$p.z <- 2 * (1 - pnorm(abs(coefs$t.value)))\n",
    "\n",
    "print(coefs)"
   ]
  },
  {
   "cell_type": "markdown",
   "metadata": {},
   "source": [
    "### Control_Models"
   ]
  },
  {
   "cell_type": "code",
   "execution_count": 64,
   "metadata": {
    "collapsed": false
   },
   "outputs": [],
   "source": [
    "%%R\n",
    "library(optimx)\n",
    "\n",
    "Block_RT_Random = lmer(RT_MS ~ Group + Block + Block:Group + (Block | Participant), data=data_exp_1, REML=FALSE, control=lmerControl(optimizer=\"optimx\", optCtrl=list(method=\"L-BFGS-B\")))\n",
    "Block_RT_Random_Age = lmer(RT_MS ~ Group + Block + Age + Block:Group + (Block | Participant), data=data_exp_1, REML=FALSE, control=lmerControl(optimizer=\"optimx\", optCtrl=list(method=\"L-BFGS-B\")))\n",
    "Block_RT_Random_WM = lmer(RT_MS ~ Group + Block + WM + Block:Group + (Block | Participant), data=data_exp_1, REML=FALSE, control=lmerControl(optimizer=\"optimx\", optCtrl=list(method=\"L-BFGS-B\")))"
   ]
  },
  {
   "cell_type": "code",
   "execution_count": 65,
   "metadata": {
    "collapsed": false
   },
   "outputs": [
    {
     "data": {
      "text/plain": [
       "Data: data_exp_1\n",
       "Models:\n",
       "Block_RT_Random: RT_MS ~ Group + Block + Block:Group + (Block | Participant)\n",
       "Block_RT_Random_Age: RT_MS ~ Group + Block + Age + Block:Group + (Block | Participant)\n",
       "                    Df    AIC    BIC  logLik deviance  Chisq Chi Df Pr(>Chisq)\n",
       "Block_RT_Random      8 224450 224510 -112217   224434                         \n",
       "Block_RT_Random_Age  9 224451 224518 -112217   224433 1.3489      1     0.2455\n"
      ]
     },
     "metadata": {},
     "output_type": "display_data"
    }
   ],
   "source": [
    "%%R\n",
    "anova(Block_RT_Random, Block_RT_Random_Age)"
   ]
  },
  {
   "cell_type": "code",
   "execution_count": 66,
   "metadata": {
    "collapsed": false
   },
   "outputs": [
    {
     "data": {
      "text/plain": [
       "Data: data_exp_1\n",
       "Models:\n",
       "Block_RT_Random: RT_MS ~ Group + Block + Block:Group + (Block | Participant)\n",
       "Block_RT_Random_WM: RT_MS ~ Group + Block + WM + Block:Group + (Block | Participant)\n",
       "                   Df    AIC    BIC  logLik deviance  Chisq Chi Df Pr(>Chisq)\n",
       "Block_RT_Random     8 224450 224510 -112217   224434                         \n",
       "Block_RT_Random_WM  9 224452 224518 -112217   224434 0.9688      1      0.325\n"
      ]
     },
     "metadata": {},
     "output_type": "display_data"
    }
   ],
   "source": [
    "%%R\n",
    "anova(Block_RT_Random, Block_RT_Random_WM)"
   ]
  },
  {
   "cell_type": "code",
   "execution_count": 67,
   "metadata": {
    "collapsed": false,
    "scrolled": true
   },
   "outputs": [
    {
     "data": {
      "text/plain": [
       "                       Estimate Std..Error    t.value    df.KR     confmax\n",
       "(Intercept)          2308.54071  866.48166  2.6642696 72.94682 4006.844767\n",
       "GroupBilingual       -412.21500  409.28113 -1.0071684 72.94682  389.976005\n",
       "Block                  19.23134   31.13609  0.6176542 72.94682   80.258079\n",
       "Age                    43.30640   36.83206  1.1757802 72.94682  115.497237\n",
       "GroupBilingual:Block  -88.32247   44.03308 -2.0058207 72.94682   -2.017628\n",
       "                         confmin        p.KR         p.z\n",
       "(Intercept)            610.23666 0.009491387 0.007715571\n",
       "GroupBilingual       -1214.40601 0.317183121 0.313853874\n",
       "Block                  -41.79540 0.538726787 0.536803326\n",
       "Age                    -28.88443 0.243505890 0.239682723\n",
       "GroupBilingual:Block  -174.62732 0.048584466 0.044875379\n"
      ]
     },
     "metadata": {},
     "output_type": "display_data"
    }
   ],
   "source": [
    "%%R\n",
    "# Package for approximating degrees of freedom for the fixed effects in MLM\n",
    "library(pbkrtest)\n",
    "\n",
    "# get the coefficients for the best fitting model\n",
    "coefs <- data.frame(coef(summary(Block_RT_Random_Age)))\n",
    "\n",
    "# Use the Kenward-Roger approximation to get approximate degrees of freedom\n",
    "df.KR <- get_ddf_Lb(Block_RT_Random_Age, fixef(Block_RT_Random_Age))\n",
    "coefs$df.KR <-(rep(df.KR, each=5))\n",
    "\n",
    "# Calculate confidence intervals from the estimates and the standard errors\n",
    "coefs$confmax <- coefs$Estimate + (coefs$Std..Error * 1.96)\n",
    "coefs$confmin <- coefs$Estimate - (coefs$Std..Error * 1.96)\n",
    "\n",
    "# get p-values from the t-distribution using the t-values and approximated\n",
    "# degrees of freedom\n",
    "coefs$p.KR <- 2 * (1 - pt(abs(coefs$t.value), df.KR))\n",
    "\n",
    "# use normal distribution to approximate p-value (tends to be anti-conservative with small sample sizes)\n",
    "coefs$p.z <- 2 * (1 - pnorm(abs(coefs$t.value)))\n",
    "\n",
    "print(coefs)"
   ]
  },
  {
   "cell_type": "code",
   "execution_count": 68,
   "metadata": {
    "collapsed": false,
    "scrolled": false
   },
   "outputs": [
    {
     "data": {
      "text/plain": [
       "                       Estimate Std..Error    t.value    df.KR     confmax\n",
       "(Intercept)          2646.92318  687.48626  3.8501470 74.92897 3994.396251\n",
       "GroupBilingual       -217.66608  400.47746 -0.5435164 74.92897  567.269745\n",
       "Block                  19.23134   31.13391  0.6176974 74.92897   80.253808\n",
       "WM                     34.97877   35.08713  0.9969117 74.92897  103.749536\n",
       "GroupBilingual:Block  -88.32247   44.03000 -2.0059611 74.92897   -2.023668\n",
       "                         confmin         p.KR          p.z\n",
       "(Intercept)           1299.45011 0.0002466688 0.0001180469\n",
       "GroupBilingual       -1002.60191 0.5883877362 0.5867742759\n",
       "Block                  -41.79113 0.5386476747 0.5367748225\n",
       "WM                     -33.79200 0.3220159872 0.3188073844\n",
       "GroupBilingual:Block  -174.62128 0.0484704444 0.0448603965\n"
      ]
     },
     "metadata": {},
     "output_type": "display_data"
    }
   ],
   "source": [
    "%%R\n",
    "# Package for approximating degrees of freedom for the fixed effects in MLM\n",
    "library(pbkrtest)\n",
    "\n",
    "# get the coefficients for the best fitting model\n",
    "coefs <- data.frame(coef(summary(Block_RT_Random_WM)))\n",
    "\n",
    "# Use the Kenward-Roger approximation to get approximate degrees of freedom\n",
    "df.KR <- get_ddf_Lb(Block_RT_Random_WM, fixef(Block_RT_Random_WM))\n",
    "coefs$df.KR <-(rep(df.KR, each=5))\n",
    "\n",
    "# Calculate confidence intervals from the estimates and the standard errors\n",
    "coefs$confmax <- coefs$Estimate + (coefs$Std..Error * 1.96)\n",
    "coefs$confmin <- coefs$Estimate - (coefs$Std..Error * 1.96)\n",
    "\n",
    "# get p-values from the t-distribution using the t-values and approximated\n",
    "# degrees of freedom\n",
    "coefs$p.KR <- 2 * (1 - pt(abs(coefs$t.value), df.KR))\n",
    "\n",
    "# use normal distribution to approximate p-value (tends to be anti-conservative with small sample sizes)\n",
    "coefs$p.z <- 2 * (1 - pnorm(abs(coefs$t.value)))\n",
    "\n",
    "print(coefs)"
   ]
  },
  {
   "cell_type": "markdown",
   "metadata": {},
   "source": [
    "### Model Comparisions"
   ]
  },
  {
   "cell_type": "code",
   "execution_count": 69,
   "metadata": {
    "collapsed": false,
    "scrolled": true
   },
   "outputs": [],
   "source": [
    "%%R\n",
    "comparison1 = anova(Empty_RT, Group_RT, Block_RT, Block_RT_Random, Block_RT_Random_Age, Block_RT_Random_WM)\n",
    "BIC1 = list(comparison1$BIC)"
   ]
  },
  {
   "cell_type": "code",
   "execution_count": 70,
   "metadata": {
    "collapsed": false,
    "scrolled": true
   },
   "outputs": [
    {
     "data": {
      "text/html": [
       "<div>\n",
       "<table border=\"1\" class=\"dataframe\">\n",
       "  <thead>\n",
       "    <tr style=\"text-align: right;\">\n",
       "      <th></th>\n",
       "      <th>Models</th>\n",
       "      <th>Formulas</th>\n",
       "    </tr>\n",
       "  </thead>\n",
       "  <tbody>\n",
       "    <tr>\n",
       "      <th>0</th>\n",
       "      <td>Empty</td>\n",
       "      <td>RT ~ 1</td>\n",
       "    </tr>\n",
       "    <tr>\n",
       "      <th>1</th>\n",
       "      <td>Model 1</td>\n",
       "      <td>RT ~ Language Group</td>\n",
       "    </tr>\n",
       "    <tr>\n",
       "      <th>2</th>\n",
       "      <td>Model 2</td>\n",
       "      <td>RT ~ Language Group + Block + Group*Block</td>\n",
       "    </tr>\n",
       "    <tr>\n",
       "      <th>3</th>\n",
       "      <td>Model 3</td>\n",
       "      <td>RT ~ Language Group + Block + Group*Block (Blo...</td>\n",
       "    </tr>\n",
       "    <tr>\n",
       "      <th>4</th>\n",
       "      <td>Model 4</td>\n",
       "      <td>RT ~ Language Group + Block + Age + Group*Bloc...</td>\n",
       "    </tr>\n",
       "    <tr>\n",
       "      <th>5</th>\n",
       "      <td>Model 5</td>\n",
       "      <td>RT ~ Language Group + Block + WM + Group*Block...</td>\n",
       "    </tr>\n",
       "  </tbody>\n",
       "</table>\n",
       "</div>"
      ],
      "text/plain": [
       "    Models                                           Formulas\n",
       "0    Empty                                             RT ~ 1\n",
       "1  Model 1                                RT ~ Language Group\n",
       "2  Model 2          RT ~ Language Group + Block + Group*Block\n",
       "3  Model 3  RT ~ Language Group + Block + Group*Block (Blo...\n",
       "4  Model 4  RT ~ Language Group + Block + Age + Group*Bloc...\n",
       "5  Model 5  RT ~ Language Group + Block + WM + Group*Block..."
      ]
     },
     "execution_count": 70,
     "metadata": {},
     "output_type": "execute_result"
    }
   ],
   "source": [
    "RT_models = ['Empty', 'Model 1', 'Model 2', 'Model 3', 'Model 4', 'Model 5']\n",
    "RT_formulas = ['RT ~ 1', 'RT ~ Language Group', 'RT ~ Language Group + Block + Group*Block',\n",
    "                   'RT ~ Language Group + Block + Group*Block (Block as a random variable)',\n",
    "                  'RT ~ Language Group + Block + Age + Group*Block (Block as a random variable)',\n",
    "                  'RT ~ Language Group + Block + WM + Group*Block (Block as a random variable)']\n",
    "RT_Table = pd.DataFrame([RT_models, RT_formulas])\n",
    "RT_Table = RT_Table.transpose(); RT_Table.columns = ['Models', 'Formulas']\n",
    "RT_Table"
   ]
  },
  {
   "cell_type": "code",
   "execution_count": 71,
   "metadata": {
    "collapsed": false
   },
   "outputs": [],
   "source": [
    "#RT_Table.to_csv('../Tables/RT_table.csv', index=False)"
   ]
  },
  {
   "cell_type": "code",
   "execution_count": 72,
   "metadata": {
    "collapsed": false,
    "scrolled": false
   },
   "outputs": [
    {
     "data": {
      "text/plain": [
       "<matplotlib.figure.Figure at 0x117240d90>"
      ]
     },
     "metadata": {},
     "output_type": "display_data"
    },
    {
     "data": {
      "image/png": "[encoded data removed]",
      "text/plain": [
       "<matplotlib.figure.Figure at 0x1231fba50>"
      ]
     },
     "metadata": {},
     "output_type": "display_data"
    }
   ],
   "source": [
    "%R -o BIC1\n",
    "BIC1 = np.array(BIC1); RT_Table['BIC'] = BIC1[0]\n",
    "BIC_bar(RT_Table.copy().reset_index(drop=True), title='')\n",
    "plt.gcf().subplots_adjust(bottom=0.25, left=0.25)\n",
    "#plt.savefig('../Write-Up/Graphs/exp1_transitivity_models.png')"
   ]
  },
  {
   "cell_type": "markdown",
   "metadata": {},
   "source": [
    "## Meta-D Analyses"
   ]
  },
  {
   "cell_type": "code",
   "execution_count": 105,
   "metadata": {
    "collapsed": false
   },
   "outputs": [],
   "source": [
    "Full = DF.from_csv('data/MetaD_Full_Data_Exp1.csv')\n",
    "EaL = DF.from_csv('data/MetaD_Split_Data_Exp1.csv')"
   ]
  },
  {
   "cell_type": "code",
   "execution_count": 106,
   "metadata": {
    "collapsed": true
   },
   "outputs": [],
   "source": [
    "EaL['Half'] = np.repeat([1, 2], 62)\n",
    "EaL.rename(columns={'Condition':'Group'}, inplace=True)"
   ]
  },
  {
   "cell_type": "code",
   "execution_count": 108,
   "metadata": {
    "collapsed": false,
    "scrolled": true
   },
   "outputs": [
    {
     "data": {
      "text/html": [
       "<div>\n",
       "<table border=\"1\" class=\"dataframe\">\n",
       "  <thead>\n",
       "    <tr style=\"text-align: right;\">\n",
       "      <th></th>\n",
       "      <th>Group</th>\n",
       "      <th>Da</th>\n",
       "      <th>MetaDa</th>\n",
       "      <th>Mratio</th>\n",
       "      <th>MratioLog</th>\n",
       "      <th>WM</th>\n",
       "      <th>Raven</th>\n",
       "      <th>BVAT</th>\n",
       "      <th>Age</th>\n",
       "    </tr>\n",
       "    <tr>\n",
       "      <th>Participant</th>\n",
       "      <th></th>\n",
       "      <th></th>\n",
       "      <th></th>\n",
       "      <th></th>\n",
       "      <th></th>\n",
       "      <th></th>\n",
       "      <th></th>\n",
       "      <th></th>\n",
       "      <th></th>\n",
       "    </tr>\n",
       "  </thead>\n",
       "  <tbody>\n",
       "    <tr>\n",
       "      <th>1</th>\n",
       "      <td>Monolingual</td>\n",
       "      <td>0.972673</td>\n",
       "      <td>0.433915</td>\n",
       "      <td>0.446106</td>\n",
       "      <td>-0.807199</td>\n",
       "      <td>17</td>\n",
       "      <td>12</td>\n",
       "      <td>40</td>\n",
       "      <td>23.083</td>\n",
       "    </tr>\n",
       "    <tr>\n",
       "      <th>2</th>\n",
       "      <td>Monolingual</td>\n",
       "      <td>1.135793</td>\n",
       "      <td>0.514078</td>\n",
       "      <td>0.452616</td>\n",
       "      <td>-0.792711</td>\n",
       "      <td>16</td>\n",
       "      <td>12</td>\n",
       "      <td>43</td>\n",
       "      <td>22.333</td>\n",
       "    </tr>\n",
       "    <tr>\n",
       "      <th>3</th>\n",
       "      <td>Monolingual</td>\n",
       "      <td>1.077151</td>\n",
       "      <td>0.622900</td>\n",
       "      <td>0.578285</td>\n",
       "      <td>-0.547689</td>\n",
       "      <td>11</td>\n",
       "      <td>9</td>\n",
       "      <td>40</td>\n",
       "      <td>20.917</td>\n",
       "    </tr>\n",
       "    <tr>\n",
       "      <th>4</th>\n",
       "      <td>Monolingual</td>\n",
       "      <td>1.068356</td>\n",
       "      <td>0.644793</td>\n",
       "      <td>0.603538</td>\n",
       "      <td>-0.504947</td>\n",
       "      <td>16</td>\n",
       "      <td>8</td>\n",
       "      <td>50</td>\n",
       "      <td>28.917</td>\n",
       "    </tr>\n",
       "    <tr>\n",
       "      <th>5</th>\n",
       "      <td>Monolingual</td>\n",
       "      <td>1.119841</td>\n",
       "      <td>0.575878</td>\n",
       "      <td>0.514249</td>\n",
       "      <td>-0.665047</td>\n",
       "      <td>17</td>\n",
       "      <td>7</td>\n",
       "      <td>47</td>\n",
       "      <td>20.250</td>\n",
       "    </tr>\n",
       "  </tbody>\n",
       "</table>\n",
       "</div>"
      ],
      "text/plain": [
       "                   Group        Da    MetaDa    Mratio  MratioLog  WM  Raven  \\\n",
       "Participant                                                                    \n",
       "1            Monolingual  0.972673  0.433915  0.446106  -0.807199  17     12   \n",
       "2            Monolingual  1.135793  0.514078  0.452616  -0.792711  16     12   \n",
       "3            Monolingual  1.077151  0.622900  0.578285  -0.547689  11      9   \n",
       "4            Monolingual  1.068356  0.644793  0.603538  -0.504947  16      8   \n",
       "5            Monolingual  1.119841  0.575878  0.514249  -0.665047  17      7   \n",
       "\n",
       "             BVAT     Age  \n",
       "Participant                \n",
       "1              40  23.083  \n",
       "2              43  22.333  \n",
       "3              40  20.917  \n",
       "4              50  28.917  \n",
       "5              47  20.250  "
      ]
     },
     "execution_count": 108,
     "metadata": {},
     "output_type": "execute_result"
    }
   ],
   "source": [
    "Full[['WM', 'Raven', 'BVAT']] = ControlData[['WM', 'NVR', 'BVAT']]\n",
    "Full['Age'] = ControlData ['Age']\n",
    "EaL['Age'] = ControlData ['Age']; EaL['WM']  = ControlData['WM']\n",
    "Full.rename(columns={'Condition':'Group'}, inplace=True)\n",
    "Full.head()"
   ]
  },
  {
   "cell_type": "markdown",
   "metadata": {},
   "source": [
    "### means "
   ]
  },
  {
   "cell_type": "code",
   "execution_count": 109,
   "metadata": {
    "collapsed": false,
    "scrolled": false
   },
   "outputs": [
    {
     "data": {
      "text/html": [
       "<div>\n",
       "<table border=\"1\" class=\"dataframe\">\n",
       "  <thead>\n",
       "    <tr style=\"text-align: right;\">\n",
       "      <th></th>\n",
       "      <th>Da</th>\n",
       "      <th>MetaDa</th>\n",
       "      <th>Mratio</th>\n",
       "      <th>MratioLog</th>\n",
       "      <th>WM</th>\n",
       "      <th>Raven</th>\n",
       "      <th>BVAT</th>\n",
       "      <th>Age</th>\n",
       "    </tr>\n",
       "    <tr>\n",
       "      <th>Group</th>\n",
       "      <th></th>\n",
       "      <th></th>\n",
       "      <th></th>\n",
       "      <th></th>\n",
       "      <th></th>\n",
       "      <th></th>\n",
       "      <th></th>\n",
       "      <th></th>\n",
       "    </tr>\n",
       "  </thead>\n",
       "  <tbody>\n",
       "    <tr>\n",
       "      <th>Bilingual</th>\n",
       "      <td>1.083094</td>\n",
       "      <td>0.533191</td>\n",
       "      <td>0.492195</td>\n",
       "      <td>-0.710882</td>\n",
       "      <td>16.032258</td>\n",
       "      <td>10.290323</td>\n",
       "      <td>36.935484</td>\n",
       "      <td>25.255387</td>\n",
       "    </tr>\n",
       "    <tr>\n",
       "      <th>Monolingual</th>\n",
       "      <td>1.071439</td>\n",
       "      <td>0.617980</td>\n",
       "      <td>0.577896</td>\n",
       "      <td>-0.559336</td>\n",
       "      <td>17.903226</td>\n",
       "      <td>9.967742</td>\n",
       "      <td>42.419355</td>\n",
       "      <td>22.274194</td>\n",
       "    </tr>\n",
       "  </tbody>\n",
       "</table>\n",
       "</div>"
      ],
      "text/plain": [
       "                   Da    MetaDa    Mratio  MratioLog         WM      Raven  \\\n",
       "Group                                                                        \n",
       "Bilingual    1.083094  0.533191  0.492195  -0.710882  16.032258  10.290323   \n",
       "Monolingual  1.071439  0.617980  0.577896  -0.559336  17.903226   9.967742   \n",
       "\n",
       "                  BVAT        Age  \n",
       "Group                              \n",
       "Bilingual    36.935484  25.255387  \n",
       "Monolingual  42.419355  22.274194  "
      ]
     },
     "execution_count": 109,
     "metadata": {},
     "output_type": "execute_result"
    }
   ],
   "source": [
    "Full.groupby('Group').mean()"
   ]
  },
  {
   "cell_type": "markdown",
   "metadata": {},
   "source": [
    "### stds"
   ]
  },
  {
   "cell_type": "code",
   "execution_count": 110,
   "metadata": {
    "collapsed": false,
    "scrolled": true
   },
   "outputs": [
    {
     "data": {
      "text/html": [
       "<div>\n",
       "<table border=\"1\" class=\"dataframe\">\n",
       "  <thead>\n",
       "    <tr style=\"text-align: right;\">\n",
       "      <th></th>\n",
       "      <th>Da</th>\n",
       "      <th>MetaDa</th>\n",
       "      <th>Mratio</th>\n",
       "      <th>MratioLog</th>\n",
       "      <th>WM</th>\n",
       "      <th>Raven</th>\n",
       "      <th>BVAT</th>\n",
       "      <th>Age</th>\n",
       "    </tr>\n",
       "    <tr>\n",
       "      <th>Group</th>\n",
       "      <th></th>\n",
       "      <th></th>\n",
       "      <th></th>\n",
       "      <th></th>\n",
       "      <th></th>\n",
       "      <th></th>\n",
       "      <th></th>\n",
       "      <th></th>\n",
       "    </tr>\n",
       "  </thead>\n",
       "  <tbody>\n",
       "    <tr>\n",
       "      <th>Bilingual</th>\n",
       "      <td>0.123882</td>\n",
       "      <td>0.068612</td>\n",
       "      <td>0.031707</td>\n",
       "      <td>0.064283</td>\n",
       "      <td>3.728126</td>\n",
       "      <td>1.792457</td>\n",
       "      <td>5.988519</td>\n",
       "      <td>4.463613</td>\n",
       "    </tr>\n",
       "    <tr>\n",
       "      <th>Monolingual</th>\n",
       "      <td>0.078354</td>\n",
       "      <td>0.096726</td>\n",
       "      <td>0.088319</td>\n",
       "      <td>0.149865</td>\n",
       "      <td>4.826005</td>\n",
       "      <td>1.682931</td>\n",
       "      <td>7.783633</td>\n",
       "      <td>3.693233</td>\n",
       "    </tr>\n",
       "  </tbody>\n",
       "</table>\n",
       "</div>"
      ],
      "text/plain": [
       "                   Da    MetaDa    Mratio  MratioLog        WM     Raven  \\\n",
       "Group                                                                      \n",
       "Bilingual    0.123882  0.068612  0.031707   0.064283  3.728126  1.792457   \n",
       "Monolingual  0.078354  0.096726  0.088319   0.149865  4.826005  1.682931   \n",
       "\n",
       "                 BVAT       Age  \n",
       "Group                            \n",
       "Bilingual    5.988519  4.463613  \n",
       "Monolingual  7.783633  3.693233  "
      ]
     },
     "execution_count": 110,
     "metadata": {},
     "output_type": "execute_result"
    }
   ],
   "source": [
    "Full.groupby('Group').std()"
   ]
  },
  {
   "cell_type": "markdown",
   "metadata": {},
   "source": [
    "### t-test and cohen's d"
   ]
  },
  {
   "cell_type": "code",
   "execution_count": 270,
   "metadata": {
    "collapsed": false
   },
   "outputs": [
    {
     "data": {
      "text/plain": [
       "1.2915821982969971"
      ]
     },
     "execution_count": 270,
     "metadata": {},
     "output_type": "execute_result"
    }
   ],
   "source": [
    "CohensD(Full, 'Mratio')"
   ]
  },
  {
   "cell_type": "code",
   "execution_count": 100,
   "metadata": {
    "collapsed": true
   },
   "outputs": [],
   "source": [
    "%R -i Full"
   ]
  },
  {
   "cell_type": "code",
   "execution_count": 101,
   "metadata": {
    "collapsed": false,
    "scrolled": true
   },
   "outputs": [
    {
     "data": {
      "text/plain": [
       "\n",
       "\tWelch Two Sample t-test\n",
       "\n",
       "data:  Mratio by Group\n",
       "t = -5.085, df = 37.607, p-value = 1.043e-05\n",
       "alternative hypothesis: true difference in means is not equal to 0\n",
       "95 percent confidence interval:\n",
       " -0.11983121 -0.05157043\n",
       "sample estimates:\n",
       "  mean in group Bilingual mean in group Monolingual \n",
       "                0.4921950                 0.5778959 \n",
       "\n"
      ]
     },
     "metadata": {},
     "output_type": "display_data"
    }
   ],
   "source": [
    "%%R\n",
    "t.test(Mratio ~ Group, Full)"
   ]
  },
  {
   "cell_type": "markdown",
   "metadata": {},
   "source": [
    "### BVAT Correlation for Bilinguals"
   ]
  },
  {
   "cell_type": "code",
   "execution_count": 266,
   "metadata": {
    "collapsed": true
   },
   "outputs": [],
   "source": [
    "Bilinguals = Full[Full['Group']=='Bilingual'].copy()"
   ]
  },
  {
   "cell_type": "code",
   "execution_count": 267,
   "metadata": {
    "collapsed": false,
    "scrolled": true
   },
   "outputs": [
    {
     "data": {
      "text/plain": [
       "\n",
       "Call:\n",
       "lm(formula = Mratio ~ BVAT, data = Bilinguals)\n",
       "\n",
       "Residuals:\n",
       "      Min        1Q    Median        3Q       Max \n",
       "-0.049914 -0.021335 -0.001652  0.019628  0.064601 \n",
       "\n",
       "Coefficients:\n",
       "             Estimate Std. Error t value Pr(>|t|)    \n",
       "(Intercept) 4.896e-01  3.677e-02  13.314 6.97e-14 ***\n",
       "BVAT        7.087e-05  9.831e-04   0.072    0.943    \n",
       "---\n",
       "Signif. codes:  0 ‘***’ 0.001 ‘**’ 0.01 ‘*’ 0.05 ‘.’ 0.1 ‘ ’ 1\n",
       "\n",
       "Residual standard error: 0.03225 on 29 degrees of freedom\n",
       "Multiple R-squared:  0.0001792,\tAdjusted R-squared:  -0.0343 \n",
       "F-statistic: 0.005197 on 1 and 29 DF,  p-value: 0.943\n",
       "\n"
      ]
     },
     "metadata": {},
     "output_type": "display_data"
    }
   ],
   "source": [
    "%R -i Bilinguals\n",
    "%R results <- lm(Mratio ~ BVAT, data=Bilinguals)\n",
    "%R print(summary(results))"
   ]
  },
  {
   "cell_type": "markdown",
   "metadata": {},
   "source": [
    "## Mratio Analysis with age and WM as control analysis"
   ]
  },
  {
   "cell_type": "markdown",
   "metadata": {},
   "source": [
    "### Age"
   ]
  },
  {
   "cell_type": "code",
   "execution_count": 102,
   "metadata": {
    "collapsed": false,
    "scrolled": true
   },
   "outputs": [
    {
     "data": {
      "text/plain": [
       "\n",
       "Call:\n",
       "lm(formula = Mratio ~ Group + Age, data = Full)\n",
       "\n",
       "Residuals:\n",
       "      Min        1Q    Median        3Q       Max \n",
       "-0.141059 -0.035679 -0.002934  0.028864  0.225752 \n",
       "\n",
       "Coefficients:\n",
       "                Estimate Std. Error t value Pr(>|t|)    \n",
       "(Intercept)     0.531696   0.048084  11.058 5.20e-16 ***\n",
       "GroupBilingual -0.091884   0.017972  -5.113 3.61e-06 ***\n",
       "Age             0.002074   0.002091   0.992    0.325    \n",
       "---\n",
       "Signif. codes:  0 ‘***’ 0.001 ‘**’ 0.01 ‘*’ 0.05 ‘.’ 0.1 ‘ ’ 1\n",
       "\n",
       "Residual standard error: 0.06636 on 59 degrees of freedom\n",
       "Multiple R-squared:  0.3126,\tAdjusted R-squared:  0.2893 \n",
       "F-statistic: 13.42 on 2 and 59 DF,  p-value: 1.575e-05\n",
       "\n"
      ]
     },
     "metadata": {},
     "output_type": "display_data"
    }
   ],
   "source": [
    "%%R\n",
    "Full$Group = factor(Full$Group)\n",
    "Full$Group <- relevel(Full$Group, ref=\"Monolingual\")\n",
    "\n",
    "print(summary(lm(Mratio ~ Group + Age, data=Full)))"
   ]
  },
  {
   "cell_type": "markdown",
   "metadata": {},
   "source": [
    "### WM"
   ]
  },
  {
   "cell_type": "code",
   "execution_count": 104,
   "metadata": {
    "collapsed": false
   },
   "outputs": [
    {
     "data": {
      "text/plain": [
       "\n",
       "Call:\n",
       "lm(formula = Mratio ~ Group + WM, data = Full)\n",
       "\n",
       "Residuals:\n",
       "      Min        1Q    Median        3Q       Max \n",
       "-0.149458 -0.040318 -0.001599  0.030791  0.203749 \n",
       "\n",
       "Coefficients:\n",
       "                Estimate Std. Error t value Pr(>|t|)    \n",
       "(Intercept)     0.536471   0.037395  14.346  < 2e-16 ***\n",
       "GroupBilingual -0.081372   0.017206  -4.729 1.45e-05 ***\n",
       "WM              0.002314   0.001981   1.168    0.247    \n",
       "---\n",
       "Signif. codes:  0 ‘***’ 0.001 ‘**’ 0.01 ‘*’ 0.05 ‘.’ 0.1 ‘ ’ 1\n",
       "\n",
       "Residual standard error: 0.06615 on 59 degrees of freedom\n",
       "Multiple R-squared:  0.317,\tAdjusted R-squared:  0.2938 \n",
       "F-statistic: 13.69 on 2 and 59 DF,  p-value: 1.306e-05\n",
       "\n"
      ]
     },
     "metadata": {},
     "output_type": "display_data"
    }
   ],
   "source": [
    "%%R\n",
    "print(summary(lm(Mratio ~ Group + WM, data=Full)))"
   ]
  },
  {
   "cell_type": "markdown",
   "metadata": {},
   "source": [
    "## Mratio Time interaction"
   ]
  },
  {
   "cell_type": "code",
   "execution_count": 331,
   "metadata": {
    "collapsed": false
   },
   "outputs": [
    {
     "data": {
      "image/png": "[encoded data removed]",
      "text/plain": [
       "<matplotlib.figure.Figure at 0x12c53d910>"
      ]
     },
     "metadata": {},
     "output_type": "display_data"
    }
   ],
   "source": [
    "sns.set(style=\"white\", font_scale=1.5)\n",
    "g = sns.factorplot(\"Half\", 'Mratio', hue='Group', hue_order=['Monolingual', 'Bilingual'],\n",
    "                    data=EaL, kind=\"point\", sharey=False, size=6, aspect=1.2).despine(left=True)\n",
    "g.set(ylabel = 'Mratio',\n",
    "      xlabel= 'Half', xticklabels = (['First', 'Second']))\n",
    "savefig(\"../Write-Up/Graphs/Mratio_WriteUp2.png\", dpi=300)"
   ]
  },
  {
   "cell_type": "code",
   "execution_count": 112,
   "metadata": {
    "collapsed": true
   },
   "outputs": [],
   "source": [
    "EaL.reset_index(inplace=True)\n",
    "%R -i EaL"
   ]
  },
  {
   "cell_type": "code",
   "execution_count": 114,
   "metadata": {
    "collapsed": false
   },
   "outputs": [],
   "source": [
    "%%R\n",
    "#Comparing my MLM model to an ANOVA for concurrent validity\n",
    "EaL$Participant = factor(EaL$Participant)\n",
    "EaL$Group = factor(EaL$Group)\n",
    "EaL$Half = factor(EaL$Half)\n",
    "EaL$Group <- relevel(EaL$Group, ref=\"Monolingual\")\n",
    "\n",
    "Baseline_D = lmer(Mratio ~ 1 + (1 | Participant), data=EaL, REML=FALSE)\n",
    "Group_D = lmer(Mratio ~ Group + (1 | Participant), data=EaL, REML=FALSE)\n",
    "Half_D = lmer(Mratio ~ Group + Half + (1 | Participant), data=EaL, REML=FALSE)\n",
    "Interaction_D_Fixed = lmer(Mratio ~ Group + Half + Half:Group + (1 | Participant), data=EaL, REML=FALSE)"
   ]
  },
  {
   "cell_type": "code",
   "execution_count": 140,
   "metadata": {
    "collapsed": false
   },
   "outputs": [
    {
     "data": {
      "text/plain": [
       "Linear mixed model fit by maximum likelihood  ['lmerMod']\n",
       "Formula: Mratio ~ Group + Half + Half:Group + (1 | Participant)\n",
       "   Data: EaL\n",
       "\n",
       "     AIC      BIC   logLik deviance df.resid \n",
       "  -397.7   -380.7    204.8   -409.7      118 \n",
       "\n",
       "Scaled residuals: \n",
       "    Min      1Q  Median      3Q     Max \n",
       "-3.4374 -0.4685 -0.0787  0.4153  2.7539 \n",
       "\n",
       "Random effects:\n",
       " Groups      Name        Variance  Std.Dev.\n",
       " Participant (Intercept) 0.0008156 0.02856 \n",
       " Residual                0.0014853 0.03854 \n",
       "Number of obs: 124, groups:  Participant, 62\n",
       "\n",
       "Fixed effects:\n",
       "                      Estimate Std. Error t value\n",
       "(Intercept)           0.581518   0.008615   67.50\n",
       "GroupBilingual       -0.026147   0.012184   -2.15\n",
       "Half2                -0.098401   0.009789  -10.05\n",
       "GroupBilingual:Half2 -0.039507   0.013844   -2.85\n",
       "\n",
       "Correlation of Fixed Effects:\n",
       "            (Intr) GrpBln Half2 \n",
       "GroupBilngl -0.707              \n",
       "Half2       -0.568  0.402       \n",
       "GrpBlngl:H2  0.402 -0.568 -0.707\n"
      ]
     },
     "metadata": {},
     "output_type": "display_data"
    }
   ],
   "source": [
    "%%R\n",
    "summary(Interaction_D_Fixed)"
   ]
  },
  {
   "cell_type": "code",
   "execution_count": 313,
   "metadata": {
    "collapsed": false,
    "scrolled": false
   },
   "outputs": [
    {
     "data": {
      "text/plain": [
       "                        Estimate  Std..Error    t.value    df.KR      confmax\n",
       "(Intercept)           0.58151838 0.008615267  67.498592 123.6988  0.598404305\n",
       "GroupBilingual       -0.02614706 0.012183827  -2.146046 123.6988 -0.002266754\n",
       "Half2                -0.09840081 0.009789080 -10.052100 123.6988 -0.079214216\n",
       "GroupBilingual:Half2 -0.03950686 0.013843849  -2.853748 123.6988 -0.012372914\n",
       "                         confmin        p.KR         p.z\n",
       "(Intercept)           0.56463246 0.000000000 0.000000000\n",
       "GroupBilingual       -0.05002736 0.033822306 0.031869296\n",
       "Half2                -0.11758741 0.000000000 0.000000000\n",
       "GroupBilingual:Half2 -0.06664080 0.005067012 0.004320677\n"
      ]
     },
     "metadata": {},
     "output_type": "display_data"
    }
   ],
   "source": [
    "%%R\n",
    "# Package for approximating degrees of freedom for the fixed effects in MLM\n",
    "library(pbkrtest)\n",
    "\n",
    "# get the coefficients for the best fitting model\n",
    "coefs <- data.frame(coef(summary(Interaction_D_Fixed)))\n",
    "\n",
    "# Use the Kenward-Roger approximation to get approximate degrees of freedom\n",
    "df.KR <- get_ddf_Lb(Interaction_D_Fixed, fixef(Interaction_D_Fixed))\n",
    "coefs$df.KR <-(rep(df.KR, each=4))\n",
    "\n",
    "# Calculate confidence intervals from the estimates and the standard errors\n",
    "coefs$confmax <- coefs$Estimate + (coefs$Std..Error * 1.96)\n",
    "coefs$confmin <- coefs$Estimate - (coefs$Std..Error * 1.96)\n",
    "\n",
    "# get p-values from the t-distribution using the t-values and approximated\n",
    "# degrees of freedom\n",
    "coefs$p.KR <- 2 * (1 - pt(abs(coefs$t.value), df.KR))\n",
    "\n",
    "# use normal distribution to approximate p-value (tends to be anti-conservative with small sample sizes)\n",
    "coefs$p.z <- 2 * (1 - pnorm(abs(coefs$t.value)))\n",
    "\n",
    "print(coefs)"
   ]
  },
  {
   "cell_type": "markdown",
   "metadata": {},
   "source": [
    "## Mratio Time Interaction Controls"
   ]
  },
  {
   "cell_type": "markdown",
   "metadata": {},
   "source": [
    "## Mean RT Models"
   ]
  },
  {
   "cell_type": "code",
   "execution_count": 142,
   "metadata": {
    "collapsed": true
   },
   "outputs": [],
   "source": [
    "Full['MeanRT'] = par_data_exp_1['RT']*1000"
   ]
  },
  {
   "cell_type": "code",
   "execution_count": 330,
   "metadata": {
    "collapsed": false
   },
   "outputs": [
    {
     "data": {
      "image/png": "[encoded data removed]",
      "text/plain": [
       "<matplotlib.figure.Figure at 0x12c63c1d0>"
      ]
     },
     "metadata": {},
     "output_type": "display_data"
    }
   ],
   "source": [
    "ax = sns.lmplot(data=Full, x='MeanRT', y='Mratio', hue='Group', size=6, aspect=1, scatter_kws={'s':35}).despine(left=True)\n",
    "ax.set(ylabel = 'Mratio',\n",
    "      xlabel= 'Mean Response Time (ms)')\n",
    "savefig(\"../Write-Up/Graphs/Mratio_RT_WriteUp2.png\", dpi=300)"
   ]
  },
  {
   "cell_type": "code",
   "execution_count": 143,
   "metadata": {
    "collapsed": false
   },
   "outputs": [],
   "source": [
    "%R -i Full"
   ]
  },
  {
   "cell_type": "code",
   "execution_count": 144,
   "metadata": {
    "collapsed": false
   },
   "outputs": [
    {
     "data": {
      "text/plain": [
       "\n",
       "Call:\n",
       "lm(formula = Mratio ~ Group + MeanRT + MeanRT * Group, data = Full)\n",
       "\n",
       "Residuals:\n",
       "      Min        1Q    Median        3Q       Max \n",
       "-0.153979 -0.036953 -0.003008  0.026591  0.215779 \n",
       "\n",
       "Coefficients:\n",
       "                          Estimate Std. Error t value Pr(>|t|)    \n",
       "(Intercept)              4.829e-01  3.767e-02  12.818   <2e-16 ***\n",
       "GroupMonolingual         1.079e-01  4.847e-02   2.226   0.0299 *  \n",
       "MeanRT                   3.478e-06  1.332e-05   0.261   0.7949    \n",
       "GroupMonolingual:MeanRT -7.317e-06  1.571e-05  -0.466   0.6431    \n",
       "---\n",
       "Signif. codes:  0 ‘***’ 0.001 ‘**’ 0.01 ‘*’ 0.05 ‘.’ 0.1 ‘ ’ 1\n",
       "\n",
       "Residual standard error: 0.06733 on 58 degrees of freedom\n",
       "Multiple R-squared:  0.3045,\tAdjusted R-squared:  0.2686 \n",
       "F-statistic: 8.465 on 3 and 58 DF,  p-value: 9.395e-05\n",
       "\n"
      ]
     },
     "metadata": {},
     "output_type": "display_data"
    }
   ],
   "source": [
    "%%R\n",
    "summary(lm(Mratio ~ Group + MeanRT + MeanRT*Group, data=Full))"
   ]
  },
  {
   "cell_type": "code",
   "execution_count": 145,
   "metadata": {
    "collapsed": false
   },
   "outputs": [
    {
     "data": {
      "text/plain": [
       "\n",
       "Call:\n",
       "lm(formula = Mratio ~ Group + Age + MeanRT + MeanRT * Group, \n",
       "    data = Full)\n",
       "\n",
       "Residuals:\n",
       "      Min        1Q    Median        3Q       Max \n",
       "-0.146770 -0.037540 -0.000802  0.028255  0.220310 \n",
       "\n",
       "Coefficients:\n",
       "                          Estimate Std. Error t value Pr(>|t|)    \n",
       "(Intercept)              4.293e-01  6.377e-02   6.732  8.9e-09 ***\n",
       "GroupMonolingual         1.160e-01  4.906e-02   2.365   0.0215 *  \n",
       "Age                      2.239e-03  2.151e-03   1.041   0.3023    \n",
       "MeanRT                   2.373e-06  1.335e-05   0.178   0.8595    \n",
       "GroupMonolingual:MeanRT -7.520e-06  1.570e-05  -0.479   0.6338    \n",
       "---\n",
       "Signif. codes:  0 ‘***’ 0.001 ‘**’ 0.01 ‘*’ 0.05 ‘.’ 0.1 ‘ ’ 1\n",
       "\n",
       "Residual standard error: 0.06728 on 57 degrees of freedom\n",
       "Multiple R-squared:  0.3175,\tAdjusted R-squared:  0.2696 \n",
       "F-statistic: 6.629 on 4 and 57 DF,  p-value: 0.0001879\n",
       "\n"
      ]
     },
     "metadata": {},
     "output_type": "display_data"
    }
   ],
   "source": [
    "%%R\n",
    "summary(lm(Mratio ~ Group + Age + MeanRT + MeanRT*Group, data=Full))"
   ]
  },
  {
   "cell_type": "code",
   "execution_count": 146,
   "metadata": {
    "collapsed": false
   },
   "outputs": [
    {
     "data": {
      "text/plain": [
       "\n",
       "Call:\n",
       "lm(formula = Mratio ~ Group + WM + MeanRT + MeanRT * Group, data = Full)\n",
       "\n",
       "Residuals:\n",
       "      Min        1Q    Median        3Q       Max \n",
       "-0.156450 -0.040466 -0.003075  0.030478  0.195664 \n",
       "\n",
       "Coefficients:\n",
       "                          Estimate Std. Error t value Pr(>|t|)    \n",
       "(Intercept)              4.423e-01  4.958e-02   8.922 2.07e-12 ***\n",
       "GroupMonolingual         1.090e-01  4.825e-02   2.258   0.0278 *  \n",
       "WM                       2.544e-03  2.036e-03   1.250   0.2165    \n",
       "MeanRT                   3.383e-06  1.325e-05   0.255   0.7994    \n",
       "GroupMonolingual:MeanRT -9.023e-06  1.570e-05  -0.575   0.5676    \n",
       "---\n",
       "Signif. codes:  0 ‘***’ 0.001 ‘**’ 0.01 ‘*’ 0.05 ‘.’ 0.1 ‘ ’ 1\n",
       "\n",
       "Residual standard error: 0.067 on 57 degrees of freedom\n",
       "Multiple R-squared:  0.3231,\tAdjusted R-squared:  0.2756 \n",
       "F-statistic: 6.801 on 4 and 57 DF,  p-value: 0.0001512\n",
       "\n"
      ]
     },
     "metadata": {},
     "output_type": "display_data"
    }
   ],
   "source": [
    "%%R\n",
    "summary(lm(Mratio ~ Group + WM + MeanRT + MeanRT*Group, data=Full))"
   ]
  },
  {
   "cell_type": "markdown",
   "metadata": {},
   "source": [
    "## Control Analyses"
   ]
  },
  {
   "cell_type": "code",
   "execution_count": 116,
   "metadata": {
    "collapsed": true
   },
   "outputs": [],
   "source": [
    "%%R\n",
    "Interaction_D_Age = lmer(Mratio ~ Group + Age + Half + Half:Group + (1 | Participant), data=EaL, REML=FALSE)\n",
    "Interaction_D_WM = lmer(Mratio ~ Group + WM + Half + Half:Group + (1 | Participant), data=EaL, REML=FALSE)"
   ]
  },
  {
   "cell_type": "markdown",
   "metadata": {},
   "source": [
    "### Age"
   ]
  },
  {
   "cell_type": "code",
   "execution_count": 118,
   "metadata": {
    "collapsed": false,
    "scrolled": true
   },
   "outputs": [
    {
     "data": {
      "text/plain": [
       "                         Estimate  Std..Error    t.value    df.KR      confmax\n",
       "(Intercept)           0.547545379 0.028673891  19.095608 71.52867  0.603746206\n",
       "GroupBilingual       -0.030694026 0.012626506  -2.430920 71.52867 -0.005946074\n",
       "Age                   0.001525218 0.001228834   1.241191 71.52867  0.003933734\n",
       "Half2                -0.098400813 0.009789080 -10.052100 71.52867 -0.079214216\n",
       "GroupBilingual:Half2 -0.039506859 0.013843850  -2.853748 71.52867 -0.012372914\n",
       "                           confmin         p.KR         p.z\n",
       "(Intercept)           0.4913445528 0.000000e+00 0.000000000\n",
       "GroupBilingual       -0.0554419786 1.756879e-02 0.015060542\n",
       "Age                  -0.0008832975 2.185904e-01 0.214535270\n",
       "Half2                -0.1175874092 2.664535e-15 0.000000000\n",
       "GroupBilingual:Half2 -0.0666408043 5.647528e-03 0.004320678\n"
      ]
     },
     "metadata": {},
     "output_type": "display_data"
    }
   ],
   "source": [
    "%%R\n",
    "# Package for approximating degrees of freedom for the fixed effects in MLM\n",
    "library(pbkrtest)\n",
    "\n",
    "# get the coefficients for the best fitting model\n",
    "coefs <- data.frame(coef(summary(Interaction_D_Age)))\n",
    "\n",
    "# Use the Kenward-Roger approximation to get approximate degrees of freedom\n",
    "df.KR <- get_ddf_Lb(Interaction_D_Age, fixef(Interaction_D_Age))\n",
    "coefs$df.KR <-(rep(df.KR, each=5))\n",
    "\n",
    "# Calculate confidence intervals from the estimates and the standard errors\n",
    "coefs$confmax <- coefs$Estimate + (coefs$Std..Error * 1.96)\n",
    "coefs$confmin <- coefs$Estimate - (coefs$Std..Error * 1.96)\n",
    "\n",
    "# get p-values from the t-distribution using the t-values and approximated\n",
    "# degrees of freedom\n",
    "coefs$p.KR <- 2 * (1 - pt(abs(coefs$t.value), df.KR))\n",
    "\n",
    "# use normal distribution to approximate p-value (tends to be anti-conservative with small sample sizes)\n",
    "coefs$p.z <- 2 * (1 - pnorm(abs(coefs$t.value)))\n",
    "\n",
    "print(coefs)"
   ]
  },
  {
   "cell_type": "markdown",
   "metadata": {},
   "source": [
    "### Working Memory"
   ]
  },
  {
   "cell_type": "code",
   "execution_count": 119,
   "metadata": {
    "collapsed": false,
    "scrolled": false
   },
   "outputs": [
    {
     "data": {
      "text/plain": [
       "                         Estimate  Std..Error     t.value    df.KR\n",
       "(Intercept)           0.563355874 0.022715183  24.8008513 74.92942\n",
       "GroupBilingual       -0.024248992 0.012332147  -1.9663236 74.92942\n",
       "WM                    0.001014482 0.001174772   0.8635566 74.92942\n",
       "Half2                -0.098400813 0.009789080 -10.0521003 74.92942\n",
       "GroupBilingual:Half2 -0.039506859 0.013843850  -2.8537481 74.92942\n",
       "                           confmax      confmin         p.KR         p.z\n",
       "(Intercept)           0.6078776323  0.518834115 0.000000e+00 0.000000000\n",
       "GroupBilingual       -0.0000779832 -0.048420000 5.296541e-02 0.049261246\n",
       "WM                    0.0033170364 -0.001288072 3.905874e-01 0.387831535\n",
       "Half2                -0.0792142161 -0.117587409 1.554312e-15 0.000000000\n",
       "GroupBilingual:Half2 -0.0123729142 -0.066640804 5.583615e-03 0.004320678\n"
      ]
     },
     "metadata": {},
     "output_type": "display_data"
    }
   ],
   "source": [
    "%%R\n",
    "# Package for approximating degrees of freedom for the fixed effects in MLM\n",
    "library(pbkrtest)\n",
    "\n",
    "# get the coefficients for the best fitting model\n",
    "coefs <- data.frame(coef(summary(Interaction_D_WM)))\n",
    "\n",
    "# Use the Kenward-Roger approximation to get approximate degrees of freedom\n",
    "df.KR <- get_ddf_Lb(Interaction_D_WM, fixef(Interaction_D_WM))\n",
    "coefs$df.KR <-(rep(df.KR, each=5))\n",
    "\n",
    "# Calculate confidence intervals from the estimates and the standard errors\n",
    "coefs$confmax <- coefs$Estimate + (coefs$Std..Error * 1.96)\n",
    "coefs$confmin <- coefs$Estimate - (coefs$Std..Error * 1.96)\n",
    "\n",
    "# get p-values from the t-distribution using the t-values and approximated\n",
    "# degrees of freedom\n",
    "coefs$p.KR <- 2 * (1 - pt(abs(coefs$t.value), df.KR))\n",
    "\n",
    "# use normal distribution to approximate p-value (tends to be anti-conservative with small sample sizes)\n",
    "coefs$p.z <- 2 * (1 - pnorm(abs(coefs$t.value)))\n",
    "\n",
    "print(coefs)"
   ]
  },
  {
   "cell_type": "markdown",
   "metadata": {},
   "source": [
    "### Model Comparison"
   ]
  },
  {
   "cell_type": "code",
   "execution_count": 123,
   "metadata": {
    "collapsed": false,
    "scrolled": true
   },
   "outputs": [],
   "source": [
    "%%R\n",
    "comparison2 = anova(Baseline_D, Group_D, Half_D, Interaction_D_Fixed, Interaction_D_Age, Interaction_D_WM)\n",
    "BIC2 = list(comparison2$BIC)"
   ]
  },
  {
   "cell_type": "code",
   "execution_count": 125,
   "metadata": {
    "collapsed": false,
    "scrolled": true
   },
   "outputs": [
    {
     "data": {
      "text/html": [
       "<div>\n",
       "<table border=\"1\" class=\"dataframe\">\n",
       "  <thead>\n",
       "    <tr style=\"text-align: right;\">\n",
       "      <th></th>\n",
       "      <th>Models</th>\n",
       "      <th>Formulas</th>\n",
       "    </tr>\n",
       "  </thead>\n",
       "  <tbody>\n",
       "    <tr>\n",
       "      <th>0</th>\n",
       "      <td>Empty</td>\n",
       "      <td>Mratio ~ 1</td>\n",
       "    </tr>\n",
       "    <tr>\n",
       "      <th>1</th>\n",
       "      <td>Model 1</td>\n",
       "      <td>Mratio ~ Language Group</td>\n",
       "    </tr>\n",
       "    <tr>\n",
       "      <th>2</th>\n",
       "      <td>Model 2</td>\n",
       "      <td>Mratio ~ Language Group + Half</td>\n",
       "    </tr>\n",
       "    <tr>\n",
       "      <th>3</th>\n",
       "      <td>Model 3</td>\n",
       "      <td>Mratio ~ Language Group + Half + Group*Half</td>\n",
       "    </tr>\n",
       "    <tr>\n",
       "      <th>4</th>\n",
       "      <td>Model 4</td>\n",
       "      <td>Mratio ~ Language Group + Half + Age + Group*Half</td>\n",
       "    </tr>\n",
       "    <tr>\n",
       "      <th>5</th>\n",
       "      <td>Model 5</td>\n",
       "      <td>Mratio ~ Language Group + Half + WM + Group*Half</td>\n",
       "    </tr>\n",
       "  </tbody>\n",
       "</table>\n",
       "</div>"
      ],
      "text/plain": [
       "    Models                                           Formulas\n",
       "0    Empty                                         Mratio ~ 1\n",
       "1  Model 1                            Mratio ~ Language Group\n",
       "2  Model 2                     Mratio ~ Language Group + Half\n",
       "3  Model 3        Mratio ~ Language Group + Half + Group*Half\n",
       "4  Model 4  Mratio ~ Language Group + Half + Age + Group*Half\n",
       "5  Model 5   Mratio ~ Language Group + Half + WM + Group*Half"
      ]
     },
     "execution_count": 125,
     "metadata": {},
     "output_type": "execute_result"
    }
   ],
   "source": [
    "Mratio_models = ['Empty', 'Model 1', 'Model 2', 'Model 3', 'Model 4', 'Model 5']\n",
    "Mratio_formulas = ['Mratio ~ 1', 'Mratio ~ Language Group', 'Mratio ~ Language Group + Half',\n",
    "                   'Mratio ~ Language Group + Half + Group*Half',\n",
    "                  'Mratio ~ Language Group + Half + Age + Group*Half',\n",
    "                  'Mratio ~ Language Group + Half + WM + Group*Half']\n",
    "Mratio_Table = pd.DataFrame([Mratio_models, Mratio_formulas])\n",
    "Mratio_Table = Mratio_Table.transpose(); Mratio_Table.columns = ['Models', 'Formulas']\n",
    "Mratio_Table"
   ]
  },
  {
   "cell_type": "code",
   "execution_count": 126,
   "metadata": {
    "collapsed": false
   },
   "outputs": [],
   "source": [
    "Mratio_Table.to_csv('../Tables/Mratio_table.csv', index=False)"
   ]
  },
  {
   "cell_type": "code",
   "execution_count": 139,
   "metadata": {
    "collapsed": false,
    "scrolled": true
   },
   "outputs": [
    {
     "data": {
      "text/plain": [
       "<matplotlib.figure.Figure at 0x11e9ec890>"
      ]
     },
     "metadata": {},
     "output_type": "display_data"
    },
    {
     "data": {
      "image/png": "[encoded data removed]",
      "text/plain": [
       "<matplotlib.figure.Figure at 0x11c63d590>"
      ]
     },
     "metadata": {},
     "output_type": "display_data"
    }
   ],
   "source": [
    "%R -o BIC2\n",
    "BIC2 = np.array(BIC2); Mratio_Table['BIC'] = BIC2[0]\n",
    "BIC_bar(Mratio_Table.copy().reset_index(drop=True), title='')\n",
    "plt.gcf().subplots_adjust(bottom=0.25, left=0.25)\n",
    "plt.savefig('../Write-Up/Graphs/exp1_mratio_models.png')"
   ]
  },
  {
   "cell_type": "markdown",
   "metadata": {},
   "source": [
    "### Grey Scale Images"
   ]
  },
  {
   "cell_type": "code",
   "execution_count": 43,
   "metadata": {
    "collapsed": false
   },
   "outputs": [
    {
     "data": {
      "image/png": "[encoded data removed]",
      "text/plain": [
       "<matplotlib.figure.Figure at 0x10e77cbd0>"
      ]
     },
     "metadata": {},
     "output_type": "display_data"
    }
   ],
   "source": [
    "greyscale = ['#929591', '#000000', '#d8dcd6', '#d8dcd6', '#d8dcd6', '#d8dcd6']\n",
    "sns.palplot(sns.color_palette(greyscale))"
   ]
  },
  {
   "cell_type": "code",
   "execution_count": 44,
   "metadata": {
    "collapsed": false,
    "scrolled": false
   },
   "outputs": [
    {
     "data": {
      "image/png": "[encoded data removed]",
      "text/plain": [
       "<matplotlib.figure.Figure at 0x10f36d250>"
      ]
     },
     "metadata": {},
     "output_type": "display_data"
    }
   ],
   "source": [
    "sns.set(style=\"whitegrid\")\n",
    "sns.set(style=\"whitegrid\", font_scale=1.5)\n",
    "g = sns.factorplot(\"Block\", \"RT_MS\", data=data_exp_1, palette=greyscale, hue='Group', hue_order=['Monolingual', 'Bilingual'], kind='point', size=6, aspect=1.2).despine(left=True)\n",
    "g.set(ylabel='Response Time (ms)', xlabel='Block')\n",
    "\n",
    "savefig(\"Graphs/RT_Block_WriteUp_Grey.png\", dpi=300)"
   ]
  }
 ],
 "metadata": {
  "anaconda-cloud": {},
  "kernelspec": {
   "display_name": "Python 2",
   "language": "python",
   "name": "python2"
  },
  "language_info": {
   "codemirror_mode": {
    "name": "ipython",
    "version": 2
   },
   "file_extension": ".py",
   "mimetype": "text/x-python",
   "name": "python",
   "nbconvert_exporter": "python",
   "pygments_lexer": "ipython2",
   "version": "2.7.12"
  }
 },
 "nbformat": 4,
 "nbformat_minor": 0
}
