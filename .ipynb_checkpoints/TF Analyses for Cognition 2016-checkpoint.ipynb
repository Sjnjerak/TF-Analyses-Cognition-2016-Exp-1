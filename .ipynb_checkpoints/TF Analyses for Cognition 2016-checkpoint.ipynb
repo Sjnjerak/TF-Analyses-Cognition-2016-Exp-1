{
 "cells": [
  {
   "cell_type": "markdown",
   "metadata": {},
   "source": [
    "## Loading packages "
   ]
  },
  {
   "cell_type": "code",
   "execution_count": 1,
   "metadata": {
    "collapsed": false
   },
   "outputs": [
    {
     "name": "stderr",
     "output_type": "stream",
     "text": [
      "/Users/Tomas/anaconda/lib/python2.7/site-packages/matplotlib/font_manager.py:273: UserWarning: Matplotlib is building the font cache using fc-list. This may take a moment.\n",
      "  warnings.warn('Matplotlib is building the font cache using fc-list. This may take a moment.')\n"
     ]
    },
    {
     "name": "stdout",
     "output_type": "stream",
     "text": [
      "Populating the interactive namespace from numpy and matplotlib\n"
     ]
    },
    {
     "name": "stderr",
     "output_type": "stream",
     "text": [
      "/Users/Tomas/anaconda/lib/python2.7/site-packages/IPython/core/magics/pylab.py:161: UserWarning: pylab import has clobbered these variables: ['copy', 'pylab']\n",
      "`%matplotlib` prevents importing * from pylab and numpy\n",
      "  \"\\n`%matplotlib` prevents importing * from pylab and numpy\"\n"
     ]
    }
   ],
   "source": [
    "import numpy as np\n",
    "import pandas as pd\n",
    "from scipy import stats\n",
    "from pandas.core.frame import DataFrame as DF\n",
    "from copy import copy as copy\n",
    "import operator as operator\n",
    "import pylab\n",
    "import scipy.io as spi\n",
    "\n",
    "# Show graphs in Notebook\n",
    "%matplotlib inline\n",
    "\n",
    "# Plotting tools\n",
    "import matplotlib.pyplot as plt\n",
    "import seaborn as sns\n",
    "%pylab inline\n",
    "figsize(15, 15);\n",
    "\n",
    "# Set up interface with R\n",
    "import rpy2\n",
    "%load_ext rpy2.ipython"
   ]
  },
  {
   "cell_type": "markdown",
   "metadata": {},
   "source": [
    "### Loading R packages"
   ]
  },
  {
   "cell_type": "code",
   "execution_count": 2,
   "metadata": {
    "collapsed": false
   },
   "outputs": [
    {
     "name": "stderr",
     "output_type": "stream",
     "text": [
      "/Users/Tomas/anaconda/lib/python2.7/site-packages/rpy2/rinterface/__init__.py:185: RRuntimeWarning: Loading required package: lme4\n",
      "\n",
      "  warnings.warn(x, RRuntimeWarning)\n",
      "/Users/Tomas/anaconda/lib/python2.7/site-packages/rpy2/rinterface/__init__.py:185: RRuntimeWarning: Loading required package: Matrix\n",
      "\n",
      "  warnings.warn(x, RRuntimeWarning)\n",
      "/Users/Tomas/anaconda/lib/python2.7/site-packages/rpy2/rinterface/__init__.py:185: RRuntimeWarning: Loading required package: car\n",
      "\n",
      "  warnings.warn(x, RRuntimeWarning)\n",
      "/Users/Tomas/anaconda/lib/python2.7/site-packages/rpy2/rinterface/__init__.py:185: RRuntimeWarning: Loading required package: gdata\n",
      "\n",
      "  warnings.warn(x, RRuntimeWarning)\n",
      "/Users/Tomas/anaconda/lib/python2.7/site-packages/rpy2/rinterface/__init__.py:185: RRuntimeWarning: gdata: read.xls support for 'XLS' (Excel 97-2004) files ENABLED.\n",
      "\n",
      "  warnings.warn(x, RRuntimeWarning)\n",
      "/Users/Tomas/anaconda/lib/python2.7/site-packages/rpy2/rinterface/__init__.py:185: RRuntimeWarning: \n",
      "\n",
      "  warnings.warn(x, RRuntimeWarning)\n",
      "/Users/Tomas/anaconda/lib/python2.7/site-packages/rpy2/rinterface/__init__.py:185: RRuntimeWarning: gdata: read.xls support for 'XLSX' (Excel 2007+) files ENABLED.\n",
      "\n",
      "  warnings.warn(x, RRuntimeWarning)\n",
      "/Users/Tomas/anaconda/lib/python2.7/site-packages/rpy2/rinterface/__init__.py:185: RRuntimeWarning: \n",
      "Attaching package: ‘gdata’\n",
      "\n",
      "\n",
      "  warnings.warn(x, RRuntimeWarning)\n",
      "/Users/Tomas/anaconda/lib/python2.7/site-packages/rpy2/rinterface/__init__.py:185: RRuntimeWarning: The following object is masked from ‘package:stats’:\n",
      "\n",
      "    nobs\n",
      "\n",
      "\n",
      "  warnings.warn(x, RRuntimeWarning)\n",
      "/Users/Tomas/anaconda/lib/python2.7/site-packages/rpy2/rinterface/__init__.py:185: RRuntimeWarning: The following object is masked from ‘package:utils’:\n",
      "\n",
      "    object.size\n",
      "\n",
      "\n",
      "  warnings.warn(x, RRuntimeWarning)\n"
     ]
    }
   ],
   "source": [
    "%%R\n",
    "require(lme4)\n",
    "require(car)\n",
    "require(gdata)"
   ]
  },
  {
   "cell_type": "markdown",
   "metadata": {},
   "source": [
    "## Loading the datasets"
   ]
  },
  {
   "cell_type": "markdown",
   "metadata": {},
   "source": [
    "#### Loading the dataset"
   ]
  },
  {
   "cell_type": "code",
   "execution_count": 3,
   "metadata": {
    "collapsed": false
   },
   "outputs": [],
   "source": [
    "# Loading the dataset I got from Julia\n",
    "#FullData = DF.from_csv('RawData.csv', index_col=None)\n",
    "# Loading the dataset I have generated from the raw data\n",
    "MyData = DF.from_csv('../Data/Raw_Data/MyRawData.csv') #index_col=['Participant', 'Trial'])"
   ]
  },
  {
   "cell_type": "code",
   "execution_count": 4,
   "metadata": {
    "collapsed": false
   },
   "outputs": [
    {
     "data": {
      "text/plain": [
       "0.73499999999999999"
      ]
     },
     "execution_count": 4,
     "metadata": {},
     "output_type": "execute_result"
    }
   ],
   "source": [
    "MyData.groupby(level='Participant')['Correct'].mean().max()"
   ]
  },
  {
   "cell_type": "code",
   "execution_count": 5,
   "metadata": {
    "collapsed": false
   },
   "outputs": [
    {
     "data": {
      "text/plain": [
       "0.68000000000000005"
      ]
     },
     "execution_count": 5,
     "metadata": {},
     "output_type": "execute_result"
    }
   ],
   "source": [
    "MyData.groupby(level='Participant')['Correct'].mean().min()"
   ]
  },
  {
   "cell_type": "code",
   "execution_count": 6,
   "metadata": {
    "collapsed": false
   },
   "outputs": [],
   "source": [
    "MyData.reset_index(drop=False, inplace=True)"
   ]
  },
  {
   "cell_type": "markdown",
   "metadata": {},
   "source": [
    "#### Loading control measures"
   ]
  },
  {
   "cell_type": "code",
   "execution_count": 19,
   "metadata": {
    "collapsed": false
   },
   "outputs": [],
   "source": [
    "# Loading the participantwise control measures\n",
    "ControlData = DF.from_csv('../Data/Control_measures.csv')\n",
    "DemoData = DF.from_csv('../Data/ParticipantDemographics.csv')"
   ]
  },
  {
   "cell_type": "markdown",
   "metadata": {},
   "source": [
    "### Setting up the demographics data so that the participant numbers corresponds with the other dataframes"
   ]
  },
  {
   "cell_type": "code",
   "execution_count": 24,
   "metadata": {
    "collapsed": false
   },
   "outputs": [
    {
     "data": {
      "text/html": [
       "<div>\n",
       "<table border=\"1\" class=\"dataframe\">\n",
       "  <thead>\n",
       "    <tr style=\"text-align: right;\">\n",
       "      <th></th>\n",
       "      <th>Participant ID</th>\n",
       "      <th>Participant Group</th>\n",
       "      <th>Age in digits</th>\n",
       "      <th>State Anx</th>\n",
       "      <th>Trait Anx</th>\n",
       "      <th>RSS</th>\n",
       "      <th>WM</th>\n",
       "      <th>NVR</th>\n",
       "      <th>BVPS</th>\n",
       "      <th>UK time</th>\n",
       "      <th>First exp</th>\n",
       "      <th>Reading</th>\n",
       "      <th>Writing</th>\n",
       "      <th>Speaking</th>\n",
       "      <th>Listening</th>\n",
       "    </tr>\n",
       "    <tr>\n",
       "      <th>Participant</th>\n",
       "      <th></th>\n",
       "      <th></th>\n",
       "      <th></th>\n",
       "      <th></th>\n",
       "      <th></th>\n",
       "      <th></th>\n",
       "      <th></th>\n",
       "      <th></th>\n",
       "      <th></th>\n",
       "      <th></th>\n",
       "      <th></th>\n",
       "      <th></th>\n",
       "      <th></th>\n",
       "      <th></th>\n",
       "      <th></th>\n",
       "    </tr>\n",
       "  </thead>\n",
       "  <tbody>\n",
       "    <tr>\n",
       "      <th>1</th>\n",
       "      <td>1_1</td>\n",
       "      <td>Monolingual</td>\n",
       "      <td>23.083</td>\n",
       "      <td>7</td>\n",
       "      <td>34</td>\n",
       "      <td>28</td>\n",
       "      <td>17</td>\n",
       "      <td>12</td>\n",
       "      <td>40</td>\n",
       "      <td>NaN</td>\n",
       "      <td>NaN</td>\n",
       "      <td>NaN</td>\n",
       "      <td>NaN</td>\n",
       "      <td>NaN</td>\n",
       "      <td>NaN</td>\n",
       "    </tr>\n",
       "    <tr>\n",
       "      <th>2</th>\n",
       "      <td>2_1</td>\n",
       "      <td>Monolingual</td>\n",
       "      <td>22.333</td>\n",
       "      <td>14</td>\n",
       "      <td>36</td>\n",
       "      <td>37</td>\n",
       "      <td>16</td>\n",
       "      <td>12</td>\n",
       "      <td>43</td>\n",
       "      <td>NaN</td>\n",
       "      <td>NaN</td>\n",
       "      <td>NaN</td>\n",
       "      <td>NaN</td>\n",
       "      <td>NaN</td>\n",
       "      <td>NaN</td>\n",
       "    </tr>\n",
       "    <tr>\n",
       "      <th>3</th>\n",
       "      <td>3_1</td>\n",
       "      <td>Monolingual</td>\n",
       "      <td>20.917</td>\n",
       "      <td>16</td>\n",
       "      <td>37</td>\n",
       "      <td>35</td>\n",
       "      <td>11</td>\n",
       "      <td>9</td>\n",
       "      <td>40</td>\n",
       "      <td>NaN</td>\n",
       "      <td>NaN</td>\n",
       "      <td>NaN</td>\n",
       "      <td>NaN</td>\n",
       "      <td>NaN</td>\n",
       "      <td>NaN</td>\n",
       "    </tr>\n",
       "    <tr>\n",
       "      <th>4</th>\n",
       "      <td>4_1</td>\n",
       "      <td>Monolingual</td>\n",
       "      <td>28.917</td>\n",
       "      <td>9</td>\n",
       "      <td>37</td>\n",
       "      <td>44</td>\n",
       "      <td>16</td>\n",
       "      <td>8</td>\n",
       "      <td>50</td>\n",
       "      <td>NaN</td>\n",
       "      <td>NaN</td>\n",
       "      <td>NaN</td>\n",
       "      <td>NaN</td>\n",
       "      <td>NaN</td>\n",
       "      <td>NaN</td>\n",
       "    </tr>\n",
       "    <tr>\n",
       "      <th>5</th>\n",
       "      <td>5_1</td>\n",
       "      <td>Monolingual</td>\n",
       "      <td>20.250</td>\n",
       "      <td>13</td>\n",
       "      <td>51</td>\n",
       "      <td>68</td>\n",
       "      <td>17</td>\n",
       "      <td>7</td>\n",
       "      <td>47</td>\n",
       "      <td>NaN</td>\n",
       "      <td>NaN</td>\n",
       "      <td>NaN</td>\n",
       "      <td>NaN</td>\n",
       "      <td>NaN</td>\n",
       "      <td>NaN</td>\n",
       "    </tr>\n",
       "  </tbody>\n",
       "</table>\n",
       "</div>"
      ],
      "text/plain": [
       "            Participant ID Participant Group  Age in digits  State Anx  \\\n",
       "Participant                                                              \n",
       "1                      1_1       Monolingual         23.083          7   \n",
       "2                      2_1       Monolingual         22.333         14   \n",
       "3                      3_1       Monolingual         20.917         16   \n",
       "4                      4_1       Monolingual         28.917          9   \n",
       "5                      5_1       Monolingual         20.250         13   \n",
       "\n",
       "             Trait Anx  RSS  WM  NVR  BVPS  UK time  First exp  Reading  \\\n",
       "Participant                                                               \n",
       "1                   34   28  17   12    40      NaN        NaN      NaN   \n",
       "2                   36   37  16   12    43      NaN        NaN      NaN   \n",
       "3                   37   35  11    9    40      NaN        NaN      NaN   \n",
       "4                   37   44  16    8    50      NaN        NaN      NaN   \n",
       "5                   51   68  17    7    47      NaN        NaN      NaN   \n",
       "\n",
       "             Writing  Speaking  Listening  \n",
       "Participant                                \n",
       "1                NaN       NaN        NaN  \n",
       "2                NaN       NaN        NaN  \n",
       "3                NaN       NaN        NaN  \n",
       "4                NaN       NaN        NaN  \n",
       "5                NaN       NaN        NaN  "
      ]
     },
     "execution_count": 24,
     "metadata": {},
     "output_type": "execute_result"
    }
   ],
   "source": [
    "DemoData.reset_index(inplace=True)\n",
    "\n",
    "DemoData['Participant'] = DemoData['Participant ID'].map(lambda x: str(x)[:-2])\n",
    "DemoData.columns\n",
    "\n",
    "DemoData_B = DemoData[DemoData['Participant Group'] == 'Bilingual'].copy()\n",
    "DemoData_M = DemoData[DemoData['Participant Group'] == 'Monolingual'].copy()\n",
    "\n",
    "DemoData_B['Participant'] = DemoData_B['Participant'].astype(int)\n",
    "DemoData_B.sort('Participant', inplace=True)\n",
    "DemoData_B['Participant'] = np.arange(32, 63)\n",
    "DemoData_M['Participant'] = DemoData_M['Participant'].astype(int)\n",
    "DemoData_M.sort('Participant', inplace=True)\n",
    "DemoData = pd.concat((DemoData_M, DemoData_B))\n",
    "\n",
    "DemoData.set_index('Participant', inplace=True)\n",
    "DemoData.head()"
   ]
  },
  {
   "cell_type": "markdown",
   "metadata": {},
   "source": [
    "### Preparing the data for Maniscalco's & Lau's code"
   ]
  },
  {
   "cell_type": "markdown",
   "metadata": {},
   "source": [
    "#### Generate binary variables for the correct choice of every trial and participant choice of every trial"
   ]
  },
  {
   "cell_type": "code",
   "execution_count": 8,
   "metadata": {
    "collapsed": false
   },
   "outputs": [],
   "source": [
    "MyData['presented_left'] = MyData['CorrectKey'] == 'left'\n",
    "MyData['presented_left'] = MyData['presented_left'].astype(float)\n",
    "MyData['picked_left'] = MyData['Response'] == 'left'\n",
    "MyData['picked_left'] = MyData['picked_left'].astype(float)"
   ]
  },
  {
   "cell_type": "markdown",
   "metadata": {},
   "source": [
    "### Generate participant-wise Z-scores"
   ]
  },
  {
   "cell_type": "markdown",
   "metadata": {},
   "source": [
    "#### Function to generate participantwise Zscores for any variable"
   ]
  },
  {
   "cell_type": "code",
   "execution_count": 9,
   "metadata": {
    "collapsed": false
   },
   "outputs": [],
   "source": [
    "def ZScore(df, inputV): # A function to generate a z-scored variable\n",
    "    # 3 input arguments are required, a dataframe, the name of the z-scored variable and the name of the original variable\n",
    "    df = df.set_index('Participant')\n",
    "    outputV = (df[inputV]-df.groupby(level='Participant')[inputV].mean())/df.groupby(level='Participant')[inputV].std()\n",
    "    df.reset_index(inplace=True)\n",
    "    return outputV.get_values()"
   ]
  },
  {
   "cell_type": "markdown",
   "metadata": {},
   "source": [
    "#### Function to generate groupwise Zscores for any variable"
   ]
  },
  {
   "cell_type": "code",
   "execution_count": 10,
   "metadata": {
    "collapsed": false
   },
   "outputs": [],
   "source": [
    "def ZScoreGroup(df, inputV): # A function to generate a z-scored variable\n",
    "    # 3 input arguments are required, a dataframe, the name of the z-scored variable and the name of the original variable\n",
    "    df = df.set_index('Group')\n",
    "    outputV = (df[inputV]-df.groupby(level='Group')[inputV].mean())/df.groupby(level='Group')[inputV].std()\n",
    "    df.reset_index('Group', inplace=True)\n",
    "    return outputV"
   ]
  },
  {
   "cell_type": "markdown",
   "metadata": {},
   "source": [
    "#### Generate Participant Wise Zscores"
   ]
  },
  {
   "cell_type": "code",
   "execution_count": 11,
   "metadata": {
    "collapsed": false
   },
   "outputs": [],
   "source": [
    "MyData.reset_index(drop=False, inplace=True)"
   ]
  },
  {
   "cell_type": "code",
   "execution_count": 12,
   "metadata": {
    "collapsed": false
   },
   "outputs": [],
   "source": [
    "MyData['Zconf'] = ZScore(MyData, 'Confidence')\n",
    "MyData['Zdiff'] = ZScore(MyData, 'DotDifference')\n",
    "MyData['ZRT'] = ZScore(MyData, 'RT')"
   ]
  },
  {
   "cell_type": "markdown",
   "metadata": {},
   "source": [
    "#### My Data"
   ]
  },
  {
   "cell_type": "code",
   "execution_count": 13,
   "metadata": {
    "collapsed": false
   },
   "outputs": [
    {
     "data": {
      "image/png": "[encoded data removed]",
      "text/plain": [
       "<matplotlib.figure.Figure at 0x11a995610>"
      ]
     },
     "metadata": {},
     "output_type": "display_data"
    }
   ],
   "source": [
    "sns.distplot(MyData['Zconf'].get_values(), color=sns.desaturate(\"indianred\", .75));"
   ]
  },
  {
   "cell_type": "markdown",
   "metadata": {},
   "source": [
    "## Functions for data analysis"
   ]
  },
  {
   "cell_type": "code",
   "execution_count": 14,
   "metadata": {
    "collapsed": true
   },
   "outputs": [],
   "source": [
    "# Cohen's D\n",
    "def CohensD(DF, variable):\n",
    "    cohensd = (DF[variable][DF['Group']=='Monolingual'].mean() - DF[variable][DF['Group']=='Bilingual'].mean()) / (sqrt((DF[variable][DF['Group']=='Monolingual'].std() ** 2 + DF[variable][DF['Group']=='Bilingual'].std() ** 2) / 2))\n",
    "    return cohensd\n",
    "\n",
    "# T-test\n",
    "def QuickTtest(DF, variable):\n",
    "    return stats.ttest_ind(DF[variable][DF['Group']=='Monolingual'], DF[variable][DF['Group']=='Bilingual'])\n",
    "\n",
    "# T-test with D\n",
    "def TtestD(DF, variable):\n",
    "    output = np.array(QuickTtest(DF, variable))\n",
    "    output = np.append(output, CohensD(DF, variable))\n",
    "    output = [round(output[0], 2), round(output[1], 5), round(output[2], 2)]\n",
    "    return output"
   ]
  },
  {
   "cell_type": "markdown",
   "metadata": {},
   "source": [
    "## Examine changes over time in difficullty response time and confidence"
   ]
  },
  {
   "cell_type": "markdown",
   "metadata": {
    "collapsed": false,
    "scrolled": true
   },
   "source": [
    "#### Generating a dataframe with participantwise means"
   ]
  },
  {
   "cell_type": "code",
   "execution_count": 15,
   "metadata": {
    "collapsed": false
   },
   "outputs": [],
   "source": [
    "MyDataMeans = DF(MyData.groupby(['Group','Participant']).mean())\n",
    "MyDataMeans.reset_index('Group', drop=False, inplace=True)\n",
    "MyDataMeans = MyDataMeans.sort_index()"
   ]
  },
  {
   "cell_type": "code",
   "execution_count": 16,
   "metadata": {
    "collapsed": false
   },
   "outputs": [
    {
     "data": {
      "text/html": [
       "<div>\n",
       "<table border=\"1\" class=\"dataframe\">\n",
       "  <thead>\n",
       "    <tr style=\"text-align: right;\">\n",
       "      <th></th>\n",
       "      <th>Group</th>\n",
       "      <th>index</th>\n",
       "      <th>Trial</th>\n",
       "      <th>Block</th>\n",
       "      <th>BlockPresentation</th>\n",
       "      <th>Correct</th>\n",
       "      <th>RT</th>\n",
       "      <th>DotDifference</th>\n",
       "      <th>DotNumberRight</th>\n",
       "      <th>DotNumberLeft</th>\n",
       "      <th>Confidence</th>\n",
       "      <th>ConfidenceRT</th>\n",
       "      <th>TimeStamp</th>\n",
       "      <th>TimeStamp+1</th>\n",
       "      <th>RTConf+1</th>\n",
       "      <th>presented_left</th>\n",
       "      <th>picked_left</th>\n",
       "      <th>Zconf</th>\n",
       "      <th>Zdiff</th>\n",
       "      <th>ZRT</th>\n",
       "    </tr>\n",
       "    <tr>\n",
       "      <th>Participant</th>\n",
       "      <th></th>\n",
       "      <th></th>\n",
       "      <th></th>\n",
       "      <th></th>\n",
       "      <th></th>\n",
       "      <th></th>\n",
       "      <th></th>\n",
       "      <th></th>\n",
       "      <th></th>\n",
       "      <th></th>\n",
       "      <th></th>\n",
       "      <th></th>\n",
       "      <th></th>\n",
       "      <th></th>\n",
       "      <th></th>\n",
       "      <th></th>\n",
       "      <th></th>\n",
       "      <th></th>\n",
       "      <th></th>\n",
       "      <th></th>\n",
       "    </tr>\n",
       "  </thead>\n",
       "  <tbody>\n",
       "    <tr>\n",
       "      <th>1</th>\n",
       "      <td>Monolingual</td>\n",
       "      <td>99.5</td>\n",
       "      <td>100.5</td>\n",
       "      <td>4.5</td>\n",
       "      <td>13.0</td>\n",
       "      <td>0.695</td>\n",
       "      <td>5.695748</td>\n",
       "      <td>4.550</td>\n",
       "      <td>50.365</td>\n",
       "      <td>50.035</td>\n",
       "      <td>0.5129</td>\n",
       "      <td>0.926065</td>\n",
       "      <td>771.952732</td>\n",
       "      <td>768.118173</td>\n",
       "      <td>0.928357</td>\n",
       "      <td>0.460</td>\n",
       "      <td>0.515</td>\n",
       "      <td>3.378964e-15</td>\n",
       "      <td>-1.057487e-16</td>\n",
       "      <td>6.106227e-17</td>\n",
       "    </tr>\n",
       "    <tr>\n",
       "      <th>2</th>\n",
       "      <td>Monolingual</td>\n",
       "      <td>299.5</td>\n",
       "      <td>100.5</td>\n",
       "      <td>4.5</td>\n",
       "      <td>13.0</td>\n",
       "      <td>0.725</td>\n",
       "      <td>3.464218</td>\n",
       "      <td>2.965</td>\n",
       "      <td>50.100</td>\n",
       "      <td>50.085</td>\n",
       "      <td>0.4877</td>\n",
       "      <td>1.081625</td>\n",
       "      <td>637.669028</td>\n",
       "      <td>635.264193</td>\n",
       "      <td>1.084935</td>\n",
       "      <td>0.490</td>\n",
       "      <td>0.545</td>\n",
       "      <td>4.873879e-16</td>\n",
       "      <td>4.662937e-16</td>\n",
       "      <td>1.099121e-16</td>\n",
       "    </tr>\n",
       "    <tr>\n",
       "      <th>3</th>\n",
       "      <td>Monolingual</td>\n",
       "      <td>499.5</td>\n",
       "      <td>100.5</td>\n",
       "      <td>4.5</td>\n",
       "      <td>13.0</td>\n",
       "      <td>0.715</td>\n",
       "      <td>2.294877</td>\n",
       "      <td>4.745</td>\n",
       "      <td>49.530</td>\n",
       "      <td>50.005</td>\n",
       "      <td>0.5721</td>\n",
       "      <td>0.848640</td>\n",
       "      <td>495.103344</td>\n",
       "      <td>493.464775</td>\n",
       "      <td>0.846010</td>\n",
       "      <td>0.555</td>\n",
       "      <td>0.680</td>\n",
       "      <td>-1.765255e-16</td>\n",
       "      <td>-9.992007e-18</td>\n",
       "      <td>-2.070566e-16</td>\n",
       "    </tr>\n",
       "    <tr>\n",
       "      <th>4</th>\n",
       "      <td>Monolingual</td>\n",
       "      <td>699.5</td>\n",
       "      <td>100.5</td>\n",
       "      <td>4.5</td>\n",
       "      <td>13.0</td>\n",
       "      <td>0.715</td>\n",
       "      <td>3.736113</td>\n",
       "      <td>3.215</td>\n",
       "      <td>50.030</td>\n",
       "      <td>49.995</td>\n",
       "      <td>0.5312</td>\n",
       "      <td>1.301550</td>\n",
       "      <td>712.720249</td>\n",
       "      <td>710.172152</td>\n",
       "      <td>1.303915</td>\n",
       "      <td>0.485</td>\n",
       "      <td>0.440</td>\n",
       "      <td>6.687706e-16</td>\n",
       "      <td>3.996803e-17</td>\n",
       "      <td>3.330669e-17</td>\n",
       "    </tr>\n",
       "    <tr>\n",
       "      <th>5</th>\n",
       "      <td>Monolingual</td>\n",
       "      <td>899.5</td>\n",
       "      <td>100.5</td>\n",
       "      <td>4.5</td>\n",
       "      <td>13.0</td>\n",
       "      <td>0.725</td>\n",
       "      <td>2.801287</td>\n",
       "      <td>3.895</td>\n",
       "      <td>49.965</td>\n",
       "      <td>50.250</td>\n",
       "      <td>0.5479</td>\n",
       "      <td>0.836905</td>\n",
       "      <td>579.497557</td>\n",
       "      <td>577.622902</td>\n",
       "      <td>0.838814</td>\n",
       "      <td>0.530</td>\n",
       "      <td>0.585</td>\n",
       "      <td>4.640732e-15</td>\n",
       "      <td>1.276756e-17</td>\n",
       "      <td>-1.509903e-15</td>\n",
       "    </tr>\n",
       "  </tbody>\n",
       "</table>\n",
       "</div>"
      ],
      "text/plain": [
       "                   Group  index  Trial  Block  BlockPresentation  Correct  \\\n",
       "Participant                                                                 \n",
       "1            Monolingual   99.5  100.5    4.5               13.0    0.695   \n",
       "2            Monolingual  299.5  100.5    4.5               13.0    0.725   \n",
       "3            Monolingual  499.5  100.5    4.5               13.0    0.715   \n",
       "4            Monolingual  699.5  100.5    4.5               13.0    0.715   \n",
       "5            Monolingual  899.5  100.5    4.5               13.0    0.725   \n",
       "\n",
       "                   RT  DotDifference  DotNumberRight  DotNumberLeft  \\\n",
       "Participant                                                           \n",
       "1            5.695748          4.550          50.365         50.035   \n",
       "2            3.464218          2.965          50.100         50.085   \n",
       "3            2.294877          4.745          49.530         50.005   \n",
       "4            3.736113          3.215          50.030         49.995   \n",
       "5            2.801287          3.895          49.965         50.250   \n",
       "\n",
       "             Confidence  ConfidenceRT   TimeStamp  TimeStamp+1  RTConf+1  \\\n",
       "Participant                                                                \n",
       "1                0.5129      0.926065  771.952732   768.118173  0.928357   \n",
       "2                0.4877      1.081625  637.669028   635.264193  1.084935   \n",
       "3                0.5721      0.848640  495.103344   493.464775  0.846010   \n",
       "4                0.5312      1.301550  712.720249   710.172152  1.303915   \n",
       "5                0.5479      0.836905  579.497557   577.622902  0.838814   \n",
       "\n",
       "             presented_left  picked_left         Zconf         Zdiff  \\\n",
       "Participant                                                            \n",
       "1                     0.460        0.515  3.378964e-15 -1.057487e-16   \n",
       "2                     0.490        0.545  4.873879e-16  4.662937e-16   \n",
       "3                     0.555        0.680 -1.765255e-16 -9.992007e-18   \n",
       "4                     0.485        0.440  6.687706e-16  3.996803e-17   \n",
       "5                     0.530        0.585  4.640732e-15  1.276756e-17   \n",
       "\n",
       "                      ZRT  \n",
       "Participant                \n",
       "1            6.106227e-17  \n",
       "2            1.099121e-16  \n",
       "3           -2.070566e-16  \n",
       "4            3.330669e-17  \n",
       "5           -1.509903e-15  "
      ]
     },
     "execution_count": 16,
     "metadata": {},
     "output_type": "execute_result"
    }
   ],
   "source": [
    "MyDataMeans.head()"
   ]
  },
  {
   "cell_type": "markdown",
   "metadata": {},
   "source": [
    "## Control Analysis of Accuracy, Difficulty, RT and Confidence RT"
   ]
  },
  {
   "cell_type": "markdown",
   "metadata": {},
   "source": [
    "## Accuracy"
   ]
  },
  {
   "cell_type": "code",
   "execution_count": 17,
   "metadata": {
    "collapsed": false
   },
   "outputs": [
    {
     "data": {
      "text/plain": [
       "[<matplotlib.text.Text at 0x122252590>]"
      ]
     },
     "execution_count": 17,
     "metadata": {},
     "output_type": "execute_result"
    },
    {
     "data": {
      "image/png": "[encoded data removed]",
      "text/plain": [
       "<matplotlib.figure.Figure at 0x11aa0eb10>"
      ]
     },
     "metadata": {},
     "output_type": "display_data"
    }
   ],
   "source": [
    "f = plt.figure(figsize=(20, 5))\n",
    "gs = plt.GridSpec(1, 2)\n",
    "left = f.add_subplot(gs[0, 0])\n",
    "right = f.add_subplot(gs[0, 1])\n",
    "left.hist(MyDataMeans.loc[(MyDataMeans['Group']=='Bilingual'), 'Correct'].get_values()); left.set(title='Bilinguals')\n",
    "right.hist(MyDataMeans.loc[(MyDataMeans['Group']=='Monolingual'), 'Correct'].get_values()); right.set(title = 'Monolinguals')"
   ]
  },
  {
   "cell_type": "markdown",
   "metadata": {},
   "source": [
    "No strong outliers."
   ]
  },
  {
   "cell_type": "markdown",
   "metadata": {},
   "source": [
    "#### Inferential and descriptive statistics"
   ]
  },
  {
   "cell_type": "code",
   "execution_count": 35,
   "metadata": {
    "collapsed": false
   },
   "outputs": [
    {
     "name": "stdout",
     "output_type": "stream",
     "text": [
      "[0.66, 0.50953, 0.17]\n",
      "Group\n",
      "Bilingual      0.707903\n",
      "Monolingual    0.709839\n",
      "Name: Correct, dtype: float64\n",
      "Group\n",
      "Bilingual      0.012300\n",
      "Monolingual    0.010605\n",
      "Name: Correct, dtype: float64\n",
      "\n",
      "\tWelch Two Sample t-test\n",
      "\n",
      "data:  Correct by Group\n",
      "t = -0.6635, df = 58.728, p-value = 0.5096\n",
      "alternative hypothesis: true difference in means is not equal to 0\n",
      "95 percent confidence interval:\n",
      " -0.007772819  0.003901851\n",
      "sample estimates:\n",
      "  mean in group Bilingual mean in group Monolingual \n",
      "                0.7079032                 0.7098387 \n",
      "\n",
      "\n"
     ]
    }
   ],
   "source": [
    "print TtestD(MyDataMeans, 'Correct')\n",
    "print MyDataMeans.groupby('Group')['Correct'].mean()\n",
    "print MyDataMeans.groupby('Group')['Correct'].std()\n",
    "%R -i MyDataMeans\n",
    "%R result <- t.test(Correct ~ Group, data=MyDataMeans)\n",
    "%R -o result\n",
    "print result"
   ]
  },
  {
   "cell_type": "markdown",
   "metadata": {},
   "source": [
    "## Difficulty"
   ]
  },
  {
   "cell_type": "code",
   "execution_count": 36,
   "metadata": {
    "collapsed": false
   },
   "outputs": [
    {
     "data": {
      "text/plain": [
       "[<matplotlib.text.Text at 0x110450410>]"
      ]
     },
     "execution_count": 36,
     "metadata": {},
     "output_type": "execute_result"
    },
    {
     "data": {
      "image/png": "[encoded data removed]",
      "text/plain": [
       "<matplotlib.figure.Figure at 0x116b86d90>"
      ]
     },
     "metadata": {},
     "output_type": "display_data"
    }
   ],
   "source": [
    "f = plt.figure(figsize=(20, 5))\n",
    "gs = plt.GridSpec(1, 2)\n",
    "left = f.add_subplot(gs[0, 0])\n",
    "right = f.add_subplot(gs[0, 1])\n",
    "left.hist(MyDataMeans.loc[(MyDataMeans['Group']=='Bilingual'), 'DotDifference'].get_values()); left.set(title='Bilinguals')\n",
    "right.hist(MyDataMeans.loc[(MyDataMeans['Group']=='Monolingual'), 'DotDifference'].get_values()); right.set(title = 'Monolinguals')"
   ]
  },
  {
   "cell_type": "code",
   "execution_count": 38,
   "metadata": {
    "collapsed": false
   },
   "outputs": [
    {
     "name": "stdout",
     "output_type": "stream",
     "text": [
      "[-1.12, 0.26507, -0.29]\n",
      "Group\n",
      "Bilingual      4.637742\n",
      "Monolingual    4.335968\n",
      "Name: DotDifference, dtype: float64\n",
      "Group\n",
      "Bilingual      1.034924\n",
      "Monolingual    1.076827\n",
      "Name: DotDifference, dtype: float64\n",
      "\n",
      "\tWelch Two Sample t-test\n",
      "\n",
      "data:  DotDifference by Group\n",
      "t = 1.125, df = 59.906, p-value = 0.2651\n",
      "alternative hypothesis: true difference in means is not equal to 0\n",
      "95 percent confidence interval:\n",
      " -0.2348139  0.8383623\n",
      "sample estimates:\n",
      "  mean in group Bilingual mean in group Monolingual \n",
      "                 4.637742                  4.335968 \n",
      "\n",
      "\n"
     ]
    }
   ],
   "source": [
    "print TtestD(MyDataMeans, 'DotDifference')\n",
    "print MyDataMeans.groupby('Group')['DotDifference'].mean()\n",
    "print MyDataMeans.groupby('Group')['DotDifference'].std()\n",
    "%R -i MyDataMeans\n",
    "%R result <- t.test(DotDifference ~ Group, data=MyDataMeans)\n",
    "%R -o result\n",
    "print result"
   ]
  },
  {
   "cell_type": "markdown",
   "metadata": {},
   "source": [
    "One participant in the monolingual group appears to be an outlier, let's investigate."
   ]
  },
  {
   "cell_type": "code",
   "execution_count": 35,
   "metadata": {
    "collapsed": false
   },
   "outputs": [
    {
     "data": {
      "text/html": [
       "<div style=\"max-height:1000px;max-width:1500px;overflow:auto;\">\n",
       "<table border=\"1\" class=\"dataframe\">\n",
       "  <thead>\n",
       "    <tr style=\"text-align: right;\">\n",
       "      <th></th>\n",
       "      <th>Group</th>\n",
       "      <th>Trial</th>\n",
       "      <th>Block</th>\n",
       "      <th>BlockPresentation</th>\n",
       "      <th>Correct</th>\n",
       "      <th>RT</th>\n",
       "      <th>DotDifference</th>\n",
       "      <th>DotNumberRight</th>\n",
       "      <th>DotNumberLeft</th>\n",
       "      <th>Confidence</th>\n",
       "      <th>ConfidenceRT</th>\n",
       "      <th>TimeStamp</th>\n",
       "      <th>TimeStamp+1</th>\n",
       "      <th>RTConf+1</th>\n",
       "      <th>presented_left</th>\n",
       "      <th>picked_left</th>\n",
       "      <th>Zconf</th>\n",
       "      <th>Zdiff</th>\n",
       "      <th>ZRT</th>\n",
       "      <th>ZDotDif</th>\n",
       "    </tr>\n",
       "    <tr>\n",
       "      <th>Participant</th>\n",
       "      <th></th>\n",
       "      <th></th>\n",
       "      <th></th>\n",
       "      <th></th>\n",
       "      <th></th>\n",
       "      <th></th>\n",
       "      <th></th>\n",
       "      <th></th>\n",
       "      <th></th>\n",
       "      <th></th>\n",
       "      <th></th>\n",
       "      <th></th>\n",
       "      <th></th>\n",
       "      <th></th>\n",
       "      <th></th>\n",
       "      <th></th>\n",
       "      <th></th>\n",
       "      <th></th>\n",
       "      <th></th>\n",
       "      <th></th>\n",
       "    </tr>\n",
       "  </thead>\n",
       "  <tbody>\n",
       "    <tr>\n",
       "      <th>9</th>\n",
       "      <td>Monolingual</td>\n",
       "      <td>100.5</td>\n",
       "      <td>4.5</td>\n",
       "      <td>13</td>\n",
       "      <td>0.7</td>\n",
       "      <td>2.216056</td>\n",
       "      <td>8.43</td>\n",
       "      <td>50.945</td>\n",
       "      <td>50.835</td>\n",
       "      <td>0.6119</td>\n",
       "      <td>1.188645</td>\n",
       "      <td>504.569361</td>\n",
       "      <td>502.838646</td>\n",
       "      <td>1.189276</td>\n",
       "      <td>0.49</td>\n",
       "      <td>0.49</td>\n",
       "      <td>1.013634e-15</td>\n",
       "      <td>2.409184e-16</td>\n",
       "      <td>2.375877e-16</td>\n",
       "      <td>3.801942</td>\n",
       "    </tr>\n",
       "  </tbody>\n",
       "</table>\n",
       "</div>"
      ],
      "text/plain": [
       "                   Group  Trial  Block  BlockPresentation  Correct        RT  \\\n",
       "Participant                                                                    \n",
       "9            Monolingual  100.5    4.5                 13      0.7  2.216056   \n",
       "\n",
       "             DotDifference  DotNumberRight  DotNumberLeft  Confidence  \\\n",
       "Participant                                                             \n",
       "9                     8.43          50.945         50.835      0.6119   \n",
       "\n",
       "             ConfidenceRT   TimeStamp  TimeStamp+1  RTConf+1  presented_left  \\\n",
       "Participant                                                                    \n",
       "9                1.188645  504.569361   502.838646  1.189276            0.49   \n",
       "\n",
       "             picked_left         Zconf         Zdiff           ZRT   ZDotDif  \n",
       "Participant                                                                   \n",
       "9                   0.49  1.013634e-15  2.409184e-16  2.375877e-16  3.801942  "
      ]
     },
     "execution_count": 35,
     "metadata": {},
     "output_type": "execute_result"
    }
   ],
   "source": [
    "MyDataMeans.sort('Group', inplace=True)\n",
    "output = ZScoreGroup(MyDataMeans, 'DotDifference')\n",
    "MyDataMeans['ZDotDif'] = output.get_values()\n",
    "MyDataMeans.sort_index(inplace=True)\n",
    "MyDataMeans.loc[MyDataMeans['ZDotDif']>3, :]"
   ]
  },
  {
   "cell_type": "markdown",
   "metadata": {},
   "source": [
    "We note that participant 9 is an outlier, and cap the value at 3SD above the group mean."
   ]
  },
  {
   "cell_type": "code",
   "execution_count": 36,
   "metadata": {
    "collapsed": false
   },
   "outputs": [
    {
     "data": {
      "text/plain": [
       "Group                 Monolingual\n",
       "Trial                       100.5\n",
       "Block                         4.5\n",
       "BlockPresentation              13\n",
       "Correct                       0.7\n",
       "RT                       2.216056\n",
       "DotDifference            7.566448\n",
       "DotNumberRight             50.945\n",
       "DotNumberLeft              50.835\n",
       "Confidence                 0.6119\n",
       "ConfidenceRT             1.188645\n",
       "TimeStamp                504.5694\n",
       "TimeStamp+1              502.8386\n",
       "RTConf+1                 1.189276\n",
       "presented_left               0.49\n",
       "picked_left                  0.49\n",
       "Zconf                1.013634e-15\n",
       "Zdiff                2.409184e-16\n",
       "ZRT                  2.375877e-16\n",
       "ZDotDif                  3.801942\n",
       "Name: 9, dtype: object"
      ]
     },
     "execution_count": 36,
     "metadata": {},
     "output_type": "execute_result"
    }
   ],
   "source": [
    "MyDataMeans.loc[9, 'DotDifference'] = MyDataMeans.loc[(MyDataMeans['Group'] == 'Monolingual'), 'DotDifference'].mean() + (MyDataMeans.loc[(MyDataMeans['Group'] == 'Monolingual'), 'DotDifference'].std() *3)\n",
    "MyDataMeans.loc[9]"
   ]
  },
  {
   "cell_type": "code",
   "execution_count": 37,
   "metadata": {
    "collapsed": false
   },
   "outputs": [
    {
     "name": "stdout",
     "output_type": "stream",
     "text": [
      "[-1.29, 0.20143, -0.33]\n",
      "Group\n",
      "Bilingual      4.637742\n",
      "Monolingual    4.308111\n",
      "Name: DotDifference, dtype: float64\n",
      "Group\n",
      "Bilingual      1.034924\n",
      "Monolingual    0.973610\n",
      "Name: DotDifference, dtype: float64\n",
      "\n",
      "\tWelch Two Sample t-test\n",
      "\n",
      "data:  DotDifference by Group\n",
      "t = 1.2916, df = 59.778, p-value = 0.2015\n",
      "alternative hypothesis: true difference in means is not equal to 0\n",
      "95 percent confidence interval:\n",
      " -0.1808903  0.8401517\n",
      "sample estimates:\n",
      "  mean in group Bilingual mean in group Monolingual \n",
      "                 4.637742                  4.308111 \n",
      "\n",
      "\n"
     ]
    }
   ],
   "source": [
    "print TtestD(MyDataMeans, 'DotDifference')\n",
    "print MyDataMeans.groupby('Group')['DotDifference'].mean()\n",
    "print MyDataMeans.groupby('Group')['DotDifference'].std()\n",
    "%R -i MyDataMeans\n",
    "%R result <- t.test(DotDifference ~ Group, data=MyDataMeans)\n",
    "%R -o result\n",
    "print result"
   ]
  },
  {
   "cell_type": "markdown",
   "metadata": {},
   "source": [
    "## Response Time"
   ]
  },
  {
   "cell_type": "code",
   "execution_count": 18,
   "metadata": {
    "collapsed": false
   },
   "outputs": [
    {
     "data": {
      "text/plain": [
       "0.015887096774193549"
      ]
     },
     "execution_count": 18,
     "metadata": {},
     "output_type": "execute_result"
    }
   ],
   "source": [
    "sum(MyData['ZRT'] > 3)/np.float(len(MyData['ZRT'].notnull()))"
   ]
  },
  {
   "cell_type": "markdown",
   "metadata": {},
   "source": [
    "### Plot frequency distributions by group"
   ]
  },
  {
   "cell_type": "code",
   "execution_count": 38,
   "metadata": {
    "collapsed": false
   },
   "outputs": [
    {
     "data": {
      "text/plain": [
       "[<matplotlib.text.Text at 0x10ef85490>]"
      ]
     },
     "execution_count": 38,
     "metadata": {},
     "output_type": "execute_result"
    },
    {
     "data": {
      "image/png": "[encoded data removed]",
      "text/plain": [
       "<matplotlib.figure.Figure at 0x11878f510>"
      ]
     },
     "metadata": {},
     "output_type": "display_data"
    }
   ],
   "source": [
    "f = plt.figure(figsize=(20, 5))\n",
    "gs = plt.GridSpec(1, 2)\n",
    "left = f.add_subplot(gs[0, 0])\n",
    "right = f.add_subplot(gs[0, 1])\n",
    "left.hist(MyDataMeans.loc[(MyDataMeans['Group']=='Bilingual'), 'RT'].get_values()); left.set(title='Bilinguals')\n",
    "right.hist(MyDataMeans.loc[(MyDataMeans['Group']=='Monolingual'), 'RT'].get_values()); right.set(title = 'Monolinguals')"
   ]
  },
  {
   "cell_type": "code",
   "execution_count": 39,
   "metadata": {
    "collapsed": false
   },
   "outputs": [
    {
     "name": "stdout",
     "output_type": "stream",
     "text": [
      "[2.18, 0.03333, 0.55]\n",
      "Group\n",
      "Bilingual      2.679136\n",
      "Monolingual    3.359697\n",
      "Name: RT, dtype: float64\n",
      "Group\n",
      "Bilingual      0.922995\n",
      "Monolingual    1.474547\n",
      "Name: RT, dtype: float64\n",
      "\n",
      "\tWelch Two Sample t-test\n",
      "\n",
      "data:  RT by Group\n",
      "t = -2.1782, df = 50.38, p-value = 0.0341\n",
      "alternative hypothesis: true difference in means is not equal to 0\n",
      "95 percent confidence interval:\n",
      " -1.30800101 -0.05312171\n",
      "sample estimates:\n",
      "  mean in group Bilingual mean in group Monolingual \n",
      "                 2.679136                  3.359697 \n",
      "\n",
      "\n"
     ]
    }
   ],
   "source": [
    "print TtestD(MyDataMeans, 'RT')\n",
    "print MyDataMeans.groupby('Group')['RT'].mean()\n",
    "print MyDataMeans.groupby('Group')['RT'].std()\n",
    "%R -i MyDataMeans\n",
    "%R result <- t.test(RT ~ Group, data=MyDataMeans)\n",
    "%R -o result\n",
    "print result"
   ]
  },
  {
   "cell_type": "markdown",
   "metadata": {},
   "source": [
    "There seems to be an extreme outlier in the monolingual groups. Let's calculate groupwise Z-scores to confirm this."
   ]
  },
  {
   "cell_type": "code",
   "execution_count": 39,
   "metadata": {
    "collapsed": false
   },
   "outputs": [],
   "source": [
    "def ZScore(df, inputV): # A function to generate a z-scored variable\n",
    "    # 3 input arguments are required, a dataframe, the name of the z-scored variable and the name of the original variable\n",
    "    outputV = (df[inputV]-df[inputV].mean())/df[inputV].std()\n",
    "    return outputV.get_values()"
   ]
  },
  {
   "cell_type": "code",
   "execution_count": 40,
   "metadata": {
    "collapsed": false
   },
   "outputs": [],
   "source": [
    "test = MyDataMeans.groupby('Group').apply(ZScore, 'RT')\n",
    "MyDataMeans['ZRT'] = np.append(test['Monolingual'], test['Bilingual'])"
   ]
  },
  {
   "cell_type": "code",
   "execution_count": 41,
   "metadata": {
    "collapsed": false,
    "scrolled": true
   },
   "outputs": [
    {
     "data": {
      "text/html": [
       "<div style=\"max-height:1000px;max-width:1500px;overflow:auto;\">\n",
       "<table border=\"1\" class=\"dataframe\">\n",
       "  <thead>\n",
       "    <tr style=\"text-align: right;\">\n",
       "      <th></th>\n",
       "      <th>Group</th>\n",
       "      <th>Trial</th>\n",
       "      <th>Block</th>\n",
       "      <th>BlockPresentation</th>\n",
       "      <th>Correct</th>\n",
       "      <th>RT</th>\n",
       "      <th>DotDifference</th>\n",
       "      <th>DotNumberRight</th>\n",
       "      <th>DotNumberLeft</th>\n",
       "      <th>Confidence</th>\n",
       "      <th>ConfidenceRT</th>\n",
       "      <th>TimeStamp</th>\n",
       "      <th>TimeStamp+1</th>\n",
       "      <th>RTConf+1</th>\n",
       "      <th>presented_left</th>\n",
       "      <th>picked_left</th>\n",
       "      <th>Zconf</th>\n",
       "      <th>Zdiff</th>\n",
       "      <th>ZRT</th>\n",
       "      <th>ZDotDif</th>\n",
       "    </tr>\n",
       "    <tr>\n",
       "      <th>Participant</th>\n",
       "      <th></th>\n",
       "      <th></th>\n",
       "      <th></th>\n",
       "      <th></th>\n",
       "      <th></th>\n",
       "      <th></th>\n",
       "      <th></th>\n",
       "      <th></th>\n",
       "      <th></th>\n",
       "      <th></th>\n",
       "      <th></th>\n",
       "      <th></th>\n",
       "      <th></th>\n",
       "      <th></th>\n",
       "      <th></th>\n",
       "      <th></th>\n",
       "      <th></th>\n",
       "      <th></th>\n",
       "      <th></th>\n",
       "      <th></th>\n",
       "    </tr>\n",
       "  </thead>\n",
       "  <tbody>\n",
       "    <tr>\n",
       "      <th>24</th>\n",
       "      <td>Monolingual</td>\n",
       "      <td>100.5</td>\n",
       "      <td>4.5</td>\n",
       "      <td>13</td>\n",
       "      <td>0.715</td>\n",
       "      <td>9.496715</td>\n",
       "      <td>3.955</td>\n",
       "      <td>49.67</td>\n",
       "      <td>49.925</td>\n",
       "      <td>0.5552</td>\n",
       "      <td>2.039455</td>\n",
       "      <td>1705.016131</td>\n",
       "      <td>1699.714743</td>\n",
       "      <td>2.045462</td>\n",
       "      <td>0.515</td>\n",
       "      <td>0.46</td>\n",
       "      <td>4.785061e-16</td>\n",
       "      <td>-2.886580e-16</td>\n",
       "      <td>4.161968</td>\n",
       "      <td>-0.353787</td>\n",
       "    </tr>\n",
       "  </tbody>\n",
       "</table>\n",
       "</div>"
      ],
      "text/plain": [
       "                   Group  Trial  Block  BlockPresentation  Correct        RT  \\\n",
       "Participant                                                                    \n",
       "24           Monolingual  100.5    4.5                 13    0.715  9.496715   \n",
       "\n",
       "             DotDifference  DotNumberRight  DotNumberLeft  Confidence  \\\n",
       "Participant                                                             \n",
       "24                   3.955           49.67         49.925      0.5552   \n",
       "\n",
       "             ConfidenceRT    TimeStamp  TimeStamp+1  RTConf+1  presented_left  \\\n",
       "Participant                                                                     \n",
       "24               2.039455  1705.016131  1699.714743  2.045462           0.515   \n",
       "\n",
       "             picked_left         Zconf         Zdiff       ZRT   ZDotDif  \n",
       "Participant                                                               \n",
       "24                  0.46  4.785061e-16 -2.886580e-16  4.161968 -0.353787  "
      ]
     },
     "execution_count": 41,
     "metadata": {},
     "output_type": "execute_result"
    }
   ],
   "source": [
    "MyDataMeans[MyDataMeans['ZRT']>3]"
   ]
  },
  {
   "cell_type": "markdown",
   "metadata": {},
   "source": [
    "Participant 24 is an outlier, so let's trunctate the response time to 3 SD above the mean:"
   ]
  },
  {
   "cell_type": "code",
   "execution_count": 42,
   "metadata": {
    "collapsed": false,
    "scrolled": true
   },
   "outputs": [
    {
     "data": {
      "text/plain": [
       "Group                 Monolingual\n",
       "Trial                       100.5\n",
       "Block                         4.5\n",
       "BlockPresentation              13\n",
       "Correct                     0.715\n",
       "RT                       7.783338\n",
       "DotDifference               3.955\n",
       "DotNumberRight              49.67\n",
       "DotNumberLeft              49.925\n",
       "Confidence                 0.5552\n",
       "ConfidenceRT             2.039455\n",
       "TimeStamp                1705.016\n",
       "TimeStamp+1              1699.715\n",
       "RTConf+1                 2.045462\n",
       "presented_left              0.515\n",
       "picked_left                  0.46\n",
       "Zconf                4.785061e-16\n",
       "Zdiff                -2.88658e-16\n",
       "ZRT                      4.161968\n",
       "ZDotDif                -0.3537874\n",
       "Name: 24, dtype: object"
      ]
     },
     "execution_count": 42,
     "metadata": {},
     "output_type": "execute_result"
    }
   ],
   "source": [
    "MyDataMeans.loc[24, 'RT'] = MyDataMeans.loc[(MyDataMeans['Group'] == 'Monolingual'), 'RT'].mean() + (MyDataMeans.loc[(MyDataMeans['Group'] == 'Monolingual'), 'RT'].std() *3)\n",
    "MyDataMeans.loc[24]"
   ]
  },
  {
   "cell_type": "markdown",
   "metadata": {},
   "source": [
    "### Analyse capped data"
   ]
  },
  {
   "cell_type": "code",
   "execution_count": 43,
   "metadata": {
    "collapsed": false
   },
   "outputs": [
    {
     "name": "stdout",
     "output_type": "stream",
     "text": [
      "[2.24, 0.02894, 0.57]\n",
      "Group\n",
      "Bilingual      2.679136\n",
      "Monolingual    3.304427\n",
      "Name: RT, dtype: float64\n",
      "Group\n",
      "Bilingual      0.922995\n",
      "Monolingual    1.252193\n",
      "Name: RT, dtype: float64\n",
      "\n",
      "\tWelch Two Sample t-test\n",
      "\n",
      "data:  RT by Group\n",
      "t = -2.238, df = 55.169, p-value = 0.02928\n",
      "alternative hypothesis: true difference in means is not equal to 0\n",
      "95 percent confidence interval:\n",
      " -1.18517222 -0.06541008\n",
      "sample estimates:\n",
      "  mean in group Bilingual mean in group Monolingual \n",
      "                 2.679136                  3.304427 \n",
      "\n",
      "\n"
     ]
    }
   ],
   "source": [
    "print TtestD(MyDataMeans, 'RT')\n",
    "print MyDataMeans.groupby('Group')['RT'].mean()\n",
    "print MyDataMeans.groupby('Group')['RT'].std()\n",
    "%R -i MyDataMeans\n",
    "%R result <- t.test(RT ~ Group, data=MyDataMeans)\n",
    "%R -o result\n",
    "print result"
   ]
  },
  {
   "cell_type": "markdown",
   "metadata": {},
   "source": [
    "The results are unaffected by the capping of the extreme data point."
   ]
  },
  {
   "cell_type": "markdown",
   "metadata": {},
   "source": [
    "## Confidence Response Time"
   ]
  },
  {
   "cell_type": "code",
   "execution_count": 44,
   "metadata": {
    "collapsed": false
   },
   "outputs": [
    {
     "data": {
      "text/plain": [
       "[<matplotlib.text.Text at 0x1198779d0>]"
      ]
     },
     "execution_count": 44,
     "metadata": {},
     "output_type": "execute_result"
    },
    {
     "data": {
      "image/png": "[encoded data removed]",
      "text/plain": [
       "<matplotlib.figure.Figure at 0x11943a350>"
      ]
     },
     "metadata": {},
     "output_type": "display_data"
    }
   ],
   "source": [
    "f = plt.figure(figsize=(20, 5))\n",
    "gs = plt.GridSpec(1, 2)\n",
    "left = f.add_subplot(gs[0, 0])\n",
    "right = f.add_subplot(gs[0, 1])\n",
    "left.hist(MyDataMeans.loc[(MyDataMeans['Group']=='Bilingual'), 'ConfidenceRT'].get_values()); left.set(title='Bilinguals')\n",
    "right.hist(MyDataMeans.loc[(MyDataMeans['Group']=='Monolingual'), 'ConfidenceRT'].get_values()); right.set(title = 'Monolinguals')"
   ]
  },
  {
   "cell_type": "markdown",
   "metadata": {},
   "source": [
    "There does not seem to be any outliers here."
   ]
  },
  {
   "cell_type": "code",
   "execution_count": 45,
   "metadata": {
    "collapsed": false
   },
   "outputs": [],
   "source": [
    "test = MyDataMeans.groupby('Group').apply(ZScore, 'ConfidenceRT')\n",
    "MyDataMeans['ZConfidenceRT'] = np.append(test['Monolingual'], test['Bilingual'])"
   ]
  },
  {
   "cell_type": "code",
   "execution_count": 46,
   "metadata": {
    "collapsed": false,
    "scrolled": true
   },
   "outputs": [
    {
     "data": {
      "text/html": [
       "<div style=\"max-height:1000px;max-width:1500px;overflow:auto;\">\n",
       "<table border=\"1\" class=\"dataframe\">\n",
       "  <thead>\n",
       "    <tr style=\"text-align: right;\">\n",
       "      <th></th>\n",
       "      <th>Group</th>\n",
       "      <th>Trial</th>\n",
       "      <th>Block</th>\n",
       "      <th>BlockPresentation</th>\n",
       "      <th>Correct</th>\n",
       "      <th>RT</th>\n",
       "      <th>DotDifference</th>\n",
       "      <th>DotNumberRight</th>\n",
       "      <th>DotNumberLeft</th>\n",
       "      <th>Confidence</th>\n",
       "      <th>...</th>\n",
       "      <th>TimeStamp</th>\n",
       "      <th>TimeStamp+1</th>\n",
       "      <th>RTConf+1</th>\n",
       "      <th>presented_left</th>\n",
       "      <th>picked_left</th>\n",
       "      <th>Zconf</th>\n",
       "      <th>Zdiff</th>\n",
       "      <th>ZRT</th>\n",
       "      <th>ZDotDif</th>\n",
       "      <th>ZConfidenceRT</th>\n",
       "    </tr>\n",
       "    <tr>\n",
       "      <th>Participant</th>\n",
       "      <th></th>\n",
       "      <th></th>\n",
       "      <th></th>\n",
       "      <th></th>\n",
       "      <th></th>\n",
       "      <th></th>\n",
       "      <th></th>\n",
       "      <th></th>\n",
       "      <th></th>\n",
       "      <th></th>\n",
       "      <th></th>\n",
       "      <th></th>\n",
       "      <th></th>\n",
       "      <th></th>\n",
       "      <th></th>\n",
       "      <th></th>\n",
       "      <th></th>\n",
       "      <th></th>\n",
       "      <th></th>\n",
       "      <th></th>\n",
       "      <th></th>\n",
       "    </tr>\n",
       "  </thead>\n",
       "  <tbody>\n",
       "  </tbody>\n",
       "</table>\n",
       "<p>0 rows × 21 columns</p>\n",
       "</div>"
      ],
      "text/plain": [
       "Empty DataFrame\n",
       "Columns: [Group, Trial, Block, BlockPresentation, Correct, RT, DotDifference, DotNumberRight, DotNumberLeft, Confidence, ConfidenceRT, TimeStamp, TimeStamp+1, RTConf+1, presented_left, picked_left, Zconf, Zdiff, ZRT, ZDotDif, ZConfidenceRT]\n",
       "Index: []\n",
       "\n",
       "[0 rows x 21 columns]"
      ]
     },
     "execution_count": 46,
     "metadata": {},
     "output_type": "execute_result"
    }
   ],
   "source": [
    "MyDataMeans[MyDataMeans['ZConfidenceRT']>3]"
   ]
  },
  {
   "cell_type": "markdown",
   "metadata": {},
   "source": [
    "This analysis confirms the lack of outliers so we can move on to the main analysis."
   ]
  },
  {
   "cell_type": "code",
   "execution_count": 14,
   "metadata": {
    "collapsed": false
   },
   "outputs": [],
   "source": [
    "MyData['RT_MS'] = MyData['RT']*1000\n",
    "MyDataMeans['RT_MS'] = MyDataMeans['RT']*1000"
   ]
  },
  {
   "cell_type": "markdown",
   "metadata": {},
   "source": [
    "### Analyse the data"
   ]
  },
  {
   "cell_type": "code",
   "execution_count": 13,
   "metadata": {
    "collapsed": false
   },
   "outputs": [
    {
     "data": {
      "text/plain": [
       "Participant      31.500000\n",
       "TimeStamp      1107.324153\n",
       "dtype: float64"
      ]
     },
     "execution_count": 13,
     "metadata": {},
     "output_type": "execute_result"
    }
   ],
   "source": [
    "ExperimentalTime = MyData.copy()\n",
    "ExperimentalTime.reset_index(inplace=True)\n",
    "ExperimentalTime.head()\n",
    "ExperimentalTime.loc[ExperimentalTime['Trial']==200, ['Participant', 'TimeStamp']].mean()"
   ]
  },
  {
   "cell_type": "code",
   "execution_count": 47,
   "metadata": {
    "collapsed": false,
    "scrolled": true
   },
   "outputs": [
    {
     "name": "stdout",
     "output_type": "stream",
     "text": [
      "[0.89, 0.37476, 0.23]\n",
      "Group\n",
      "Bilingual      1.111708\n",
      "Monolingual    1.179266\n",
      "Name: ConfidenceRT, dtype: float64\n",
      "Group\n",
      "Bilingual      0.275024\n",
      "Monolingual    0.318261\n",
      "Name: ConfidenceRT, dtype: float64\n",
      "\n",
      "\tWelch Two Sample t-test\n",
      "\n",
      "data:  ConfidenceRT by Group\n",
      "t = -0.8942, df = 58.765, p-value = 0.3748\n",
      "alternative hypothesis: true difference in means is not equal to 0\n",
      "95 percent confidence interval:\n",
      " -0.21873979  0.08362431\n",
      "sample estimates:\n",
      "  mean in group Bilingual mean in group Monolingual \n",
      "                 1.111708                  1.179266 \n",
      "\n",
      "\n"
     ]
    }
   ],
   "source": [
    "print TtestD(MyDataMeans, 'ConfidenceRT')\n",
    "print MyDataMeans.groupby('Group')['ConfidenceRT'].mean()\n",
    "print MyDataMeans.groupby('Group')['ConfidenceRT'].std()\n",
    "%R result <- t.test(ConfidenceRT ~ Group, data=MyDataMeans)\n",
    "%R -o result\n",
    "print result"
   ]
  },
  {
   "cell_type": "markdown",
   "metadata": {},
   "source": [
    "### Adding age as a covariate"
   ]
  },
  {
   "cell_type": "code",
   "execution_count": 16,
   "metadata": {
    "collapsed": true
   },
   "outputs": [],
   "source": [
    "# GLM in python\n",
    "import patsy\n",
    "import statsmodels.api as sm\n",
    "import statsmodels.formula.api as smf\n",
    "import statsmodels.stats as sm_stats"
   ]
  },
  {
   "cell_type": "code",
   "execution_count": 51,
   "metadata": {
    "collapsed": true
   },
   "outputs": [],
   "source": [
    "MyDataMeans['Age'] = DemoData['Age in digits']\n",
    "MyDataMeans['WM'] = DemoData['WM']\n",
    "MyData.reset_index(inplace=True)"
   ]
  },
  {
   "cell_type": "code",
   "execution_count": 52,
   "metadata": {
    "collapsed": false
   },
   "outputs": [],
   "source": [
    "MyData.set_index('Participant', inplace=True)\n",
    "MyData['Age'] = MyDataMeans['Age']\n",
    "MyData['WM'] = MyDataMeans['WM']\n",
    "MyData.reset_index(inplace=True)"
   ]
  },
  {
   "cell_type": "code",
   "execution_count": 46,
   "metadata": {
    "collapsed": false
   },
   "outputs": [
    {
     "data": {
      "text/html": [
       "<div>\n",
       "<table border=\"1\" class=\"dataframe\">\n",
       "  <thead>\n",
       "    <tr style=\"text-align: right;\">\n",
       "      <th></th>\n",
       "      <th>Participant</th>\n",
       "      <th>Trial</th>\n",
       "      <th>Group</th>\n",
       "      <th>Block</th>\n",
       "      <th>BlockPresentation</th>\n",
       "      <th>Correct</th>\n",
       "      <th>CorrectKey</th>\n",
       "      <th>Response</th>\n",
       "      <th>RT</th>\n",
       "      <th>DotDifference</th>\n",
       "      <th>...</th>\n",
       "      <th>TimeStamp+1</th>\n",
       "      <th>RTConf+1</th>\n",
       "      <th>expName</th>\n",
       "      <th>presented_left</th>\n",
       "      <th>picked_left</th>\n",
       "      <th>Zconf</th>\n",
       "      <th>Zdiff</th>\n",
       "      <th>ZRT</th>\n",
       "      <th>Age</th>\n",
       "      <th>WM</th>\n",
       "    </tr>\n",
       "  </thead>\n",
       "  <tbody>\n",
       "    <tr>\n",
       "      <th>0</th>\n",
       "      <td>1</td>\n",
       "      <td>1</td>\n",
       "      <td>Monolingual</td>\n",
       "      <td>1</td>\n",
       "      <td>1</td>\n",
       "      <td>0</td>\n",
       "      <td>right</td>\n",
       "      <td>left</td>\n",
       "      <td>4.408616</td>\n",
       "      <td>3</td>\n",
       "      <td>...</td>\n",
       "      <td>NaN</td>\n",
       "      <td>NaN</td>\n",
       "      <td>MetaDots</td>\n",
       "      <td>0</td>\n",
       "      <td>1</td>\n",
       "      <td>0.958774</td>\n",
       "      <td>-1.047766</td>\n",
       "      <td>-0.420842</td>\n",
       "      <td>23.083</td>\n",
       "      <td>17</td>\n",
       "    </tr>\n",
       "    <tr>\n",
       "      <th>1</th>\n",
       "      <td>1</td>\n",
       "      <td>2</td>\n",
       "      <td>Monolingual</td>\n",
       "      <td>1</td>\n",
       "      <td>2</td>\n",
       "      <td>1</td>\n",
       "      <td>right</td>\n",
       "      <td>right</td>\n",
       "      <td>2.673370</td>\n",
       "      <td>4</td>\n",
       "      <td>...</td>\n",
       "      <td>211.632328</td>\n",
       "      <td>0.973</td>\n",
       "      <td>MetaDots</td>\n",
       "      <td>0</td>\n",
       "      <td>0</td>\n",
       "      <td>-0.142000</td>\n",
       "      <td>-0.371788</td>\n",
       "      <td>-0.988200</td>\n",
       "      <td>23.083</td>\n",
       "      <td>17</td>\n",
       "    </tr>\n",
       "    <tr>\n",
       "      <th>2</th>\n",
       "      <td>1</td>\n",
       "      <td>3</td>\n",
       "      <td>Monolingual</td>\n",
       "      <td>1</td>\n",
       "      <td>3</td>\n",
       "      <td>0</td>\n",
       "      <td>right</td>\n",
       "      <td>left</td>\n",
       "      <td>3.291777</td>\n",
       "      <td>4</td>\n",
       "      <td>...</td>\n",
       "      <td>215.278698</td>\n",
       "      <td>0.456</td>\n",
       "      <td>MetaDots</td>\n",
       "      <td>0</td>\n",
       "      <td>1</td>\n",
       "      <td>0.738619</td>\n",
       "      <td>-0.371788</td>\n",
       "      <td>-0.786005</td>\n",
       "      <td>23.083</td>\n",
       "      <td>17</td>\n",
       "    </tr>\n",
       "    <tr>\n",
       "      <th>3</th>\n",
       "      <td>1</td>\n",
       "      <td>4</td>\n",
       "      <td>Monolingual</td>\n",
       "      <td>1</td>\n",
       "      <td>4</td>\n",
       "      <td>0</td>\n",
       "      <td>right</td>\n",
       "      <td>left</td>\n",
       "      <td>2.777241</td>\n",
       "      <td>5</td>\n",
       "      <td>...</td>\n",
       "      <td>219.026475</td>\n",
       "      <td>0.842</td>\n",
       "      <td>MetaDots</td>\n",
       "      <td>0</td>\n",
       "      <td>1</td>\n",
       "      <td>0.298310</td>\n",
       "      <td>0.304190</td>\n",
       "      <td>-0.954238</td>\n",
       "      <td>23.083</td>\n",
       "      <td>17</td>\n",
       "    </tr>\n",
       "    <tr>\n",
       "      <th>4</th>\n",
       "      <td>1</td>\n",
       "      <td>5</td>\n",
       "      <td>Monolingual</td>\n",
       "      <td>1</td>\n",
       "      <td>5</td>\n",
       "      <td>1</td>\n",
       "      <td>left</td>\n",
       "      <td>left</td>\n",
       "      <td>2.860097</td>\n",
       "      <td>6</td>\n",
       "      <td>...</td>\n",
       "      <td>222.645716</td>\n",
       "      <td>1.036</td>\n",
       "      <td>MetaDots</td>\n",
       "      <td>1</td>\n",
       "      <td>1</td>\n",
       "      <td>0.738619</td>\n",
       "      <td>0.980168</td>\n",
       "      <td>-0.927147</td>\n",
       "      <td>23.083</td>\n",
       "      <td>17</td>\n",
       "    </tr>\n",
       "  </tbody>\n",
       "</table>\n",
       "<p>5 rows × 26 columns</p>\n",
       "</div>"
      ],
      "text/plain": [
       "   Participant  Trial        Group  Block  BlockPresentation  Correct  \\\n",
       "0            1      1  Monolingual      1                  1        0   \n",
       "1            1      2  Monolingual      1                  2        1   \n",
       "2            1      3  Monolingual      1                  3        0   \n",
       "3            1      4  Monolingual      1                  4        0   \n",
       "4            1      5  Monolingual      1                  5        1   \n",
       "\n",
       "  CorrectKey Response        RT  DotDifference ...  TimeStamp+1  RTConf+1  \\\n",
       "0      right     left  4.408616              3 ...          NaN       NaN   \n",
       "1      right    right  2.673370              4 ...   211.632328     0.973   \n",
       "2      right     left  3.291777              4 ...   215.278698     0.456   \n",
       "3      right     left  2.777241              5 ...   219.026475     0.842   \n",
       "4       left     left  2.860097              6 ...   222.645716     1.036   \n",
       "\n",
       "    expName  presented_left picked_left     Zconf     Zdiff       ZRT     Age  \\\n",
       "0  MetaDots               0           1  0.958774 -1.047766 -0.420842  23.083   \n",
       "1  MetaDots               0           0 -0.142000 -0.371788 -0.988200  23.083   \n",
       "2  MetaDots               0           1  0.738619 -0.371788 -0.786005  23.083   \n",
       "3  MetaDots               0           1  0.298310  0.304190 -0.954238  23.083   \n",
       "4  MetaDots               1           1  0.738619  0.980168 -0.927147  23.083   \n",
       "\n",
       "   WM  \n",
       "0  17  \n",
       "1  17  \n",
       "2  17  \n",
       "3  17  \n",
       "4  17  \n",
       "\n",
       "[5 rows x 26 columns]"
      ]
     },
     "execution_count": 46,
     "metadata": {},
     "output_type": "execute_result"
    }
   ],
   "source": [
    "MyData.head()"
   ]
  },
  {
   "cell_type": "code",
   "execution_count": 22,
   "metadata": {
    "collapsed": false
   },
   "outputs": [
    {
     "name": "stdout",
     "output_type": "stream",
     "text": [
      "                 Generalized Linear Model Regression Results                  \n",
      "==============================================================================\n",
      "Dep. Variable:                     RT   No. Observations:                   62\n",
      "Model:                            GLM   Df Residuals:                       60\n",
      "Model Family:                Gaussian   Df Model:                            1\n",
      "Link Function:               identity   Scale:                   1.51310393993\n",
      "Method:                          IRLS   Log-Likelihood:                -99.797\n",
      "Date:                Tue, 15 Sep 2015   Deviance:                       90.786\n",
      "Time:                        16:06:04   Pearson chi2:                     90.8\n",
      "No. Iterations:                     4                                         \n",
      "========================================================================================\n",
      "                           coef    std err          z      P>|z|      [95.0% Conf. Int.]\n",
      "----------------------------------------------------------------------------------------\n",
      "Intercept                2.6791      0.221     12.127      0.000         2.246     3.112\n",
      "Group[T.Monolingual]     0.6806      0.312      2.178      0.029         0.068     1.293\n",
      "========================================================================================\n"
     ]
    }
   ],
   "source": [
    "x, Y = patsy.dmatrices('RT ~ Group', MyDataMeans)\n",
    "fit = sm.GLM(x, Y).fit()\n",
    "print (fit.summary())"
   ]
  },
  {
   "cell_type": "code",
   "execution_count": 23,
   "metadata": {
    "collapsed": false
   },
   "outputs": [
    {
     "name": "stdout",
     "output_type": "stream",
     "text": [
      "                 Generalized Linear Model Regression Results                  \n",
      "==============================================================================\n",
      "Dep. Variable:                     RT   No. Observations:                   62\n",
      "Model:                            GLM   Df Residuals:                       59\n",
      "Model Family:                Gaussian   Df Model:                            2\n",
      "Link Function:               identity   Scale:                    1.4955251335\n",
      "Method:                          IRLS   Log-Likelihood:                -98.913\n",
      "Date:                Tue, 15 Sep 2015   Deviance:                       88.236\n",
      "Time:                        16:06:19   Pearson chi2:                     88.2\n",
      "No. Iterations:                     4                                         \n",
      "========================================================================================\n",
      "                           coef    std err          z      P>|z|      [95.0% Conf. Int.]\n",
      "----------------------------------------------------------------------------------------\n",
      "Intercept                1.4081      0.998      1.411      0.158        -0.548     3.364\n",
      "Group[T.Monolingual]     0.8306      0.331      2.508      0.012         0.181     1.480\n",
      "Age                      0.0503      0.039      1.306      0.192        -0.025     0.126\n",
      "========================================================================================\n"
     ]
    }
   ],
   "source": [
    "x, Y = patsy.dmatrices('RT ~ Group + Age', MyDataMeans)\n",
    "fit = sm.GLM(x, Y).fit()\n",
    "print (fit.summary())"
   ]
  },
  {
   "cell_type": "code",
   "execution_count": 24,
   "metadata": {
    "collapsed": false
   },
   "outputs": [
    {
     "name": "stdout",
     "output_type": "stream",
     "text": [
      "                 Generalized Linear Model Regression Results                  \n",
      "==============================================================================\n",
      "Dep. Variable:                     RT   No. Observations:                   62\n",
      "Model:                            GLM   Df Residuals:                       58\n",
      "Model Family:                Gaussian   Df Model:                            3\n",
      "Link Function:               identity   Scale:                   1.49963407541\n",
      "Method:                          IRLS   Log-Likelihood:                -98.469\n",
      "Date:                Tue, 15 Sep 2015   Deviance:                       86.979\n",
      "Time:                        16:06:41   Pearson chi2:                     87.0\n",
      "No. Iterations:                     4                                         \n",
      "============================================================================================\n",
      "                               coef    std err          z      P>|z|      [95.0% Conf. Int.]\n",
      "--------------------------------------------------------------------------------------------\n",
      "Intercept                    2.1465      1.284      1.672      0.095        -0.370     4.663\n",
      "Group[T.Monolingual]        -0.8590      1.875     -0.458      0.647        -4.534     2.816\n",
      "Age                          0.0211      0.050      0.421      0.674        -0.077     0.119\n",
      "Group[T.Monolingual]:Age     0.0719      0.079      0.916      0.360        -0.082     0.226\n",
      "============================================================================================\n"
     ]
    }
   ],
   "source": [
    "x, Y = patsy.dmatrices('RT ~ Group + Age + Group*Age', MyDataMeans)\n",
    "fit = sm.GLM(x, Y).fit()\n",
    "print (fit.summary())"
   ]
  },
  {
   "cell_type": "code",
   "execution_count": 33,
   "metadata": {
    "collapsed": false
   },
   "outputs": [
    {
     "data": {
      "text/plain": [
       "Index([u'Participant ID', u'Participant Group', u'Age in digits', u'State Anx',\n",
       "       u'Trait Anx', u'RSS', u'WM', u'NVR', u'BVPS', u'UK time', u'First exp',\n",
       "       u'Reading', u'Writing', u'Speaking', u'Listening'],\n",
       "      dtype='object')"
      ]
     },
     "execution_count": 33,
     "metadata": {},
     "output_type": "execute_result"
    }
   ],
   "source": [
    "DemoData.columns"
   ]
  },
  {
   "cell_type": "markdown",
   "metadata": {},
   "source": [
    "### Changes in response time over blocks, by group"
   ]
  },
  {
   "cell_type": "code",
   "execution_count": 30,
   "metadata": {
    "collapsed": false,
    "scrolled": false
   },
   "outputs": [
    {
     "data": {
      "text/plain": [
       "<seaborn.axisgrid.FacetGrid at 0x11709bb50>"
      ]
     },
     "execution_count": 30,
     "metadata": {},
     "output_type": "execute_result"
    },
    {
     "data": {
      "image/png": "[encoded data removed]",
      "text/plain": [
       "<matplotlib.figure.Figure at 0x11709b890>"
      ]
     },
     "metadata": {},
     "output_type": "display_data"
    }
   ],
   "source": [
    "sns.set(style=\"whitegrid\")\n",
    "sns.factorplot(\"Block\", \"ConfidenceRT\", data=MyData, ci=99, hue='Group', kind='point',\n",
    "               size=6, aspect=1.5).despine(left=True)"
   ]
  },
  {
   "cell_type": "code",
   "execution_count": 41,
   "metadata": {
    "collapsed": false,
    "scrolled": true
   },
   "outputs": [
    {
     "data": {
      "image/png": "[encoded data removed]",
      "text/plain": [
       "<matplotlib.figure.Figure at 0x116b6dd10>"
      ]
     },
     "metadata": {},
     "output_type": "display_data"
    }
   ],
   "source": [
    "sns.set(style=\"whitegrid\")\n",
    "sns.set(style=\"whitegrid\", font_scale=1.5)\n",
    "g = sns.factorplot(\"Block\", \"RT_MS\", data=MyData, hue='Group', hue_order=['Monolingual', 'Bilingual'], kind='point', size=6, aspect=1.2).despine(left=True)\n",
    "g.set(ylabel='Response Time (ms)', xlabel='Block')\n",
    "\n",
    "savefig(\"Graphs/RT_Block_WriteUp2.png\", dpi=300)"
   ]
  },
  {
   "cell_type": "code",
   "execution_count": 43,
   "metadata": {
    "collapsed": false
   },
   "outputs": [
    {
     "data": {
      "image/png": "[encoded data removed]",
      "text/plain": [
       "<matplotlib.figure.Figure at 0x10e77cbd0>"
      ]
     },
     "metadata": {},
     "output_type": "display_data"
    }
   ],
   "source": [
    "greyscale = ['#929591', '#000000', '#d8dcd6', '#d8dcd6', '#d8dcd6', '#d8dcd6']\n",
    "sns.palplot(sns.color_palette(greyscale))"
   ]
  },
  {
   "cell_type": "code",
   "execution_count": 44,
   "metadata": {
    "collapsed": false,
    "scrolled": true
   },
   "outputs": [
    {
     "data": {
      "image/png": "[encoded data removed]",
      "text/plain": [
       "<matplotlib.figure.Figure at 0x10f36d250>"
      ]
     },
     "metadata": {},
     "output_type": "display_data"
    }
   ],
   "source": [
    "sns.set(style=\"whitegrid\")\n",
    "sns.set(style=\"whitegrid\", font_scale=1.5)\n",
    "g = sns.factorplot(\"Block\", \"RT_MS\", data=MyData, palette=greyscale, hue='Group', hue_order=['Monolingual', 'Bilingual'], kind='point', size=6, aspect=1.2).despine(left=True)\n",
    "g.set(ylabel='Response Time (ms)', xlabel='Block')\n",
    "\n",
    "savefig(\"Graphs/RT_Block_WriteUp_Grey.png\", dpi=300)"
   ]
  },
  {
   "cell_type": "code",
   "execution_count": 40,
   "metadata": {
    "collapsed": false
   },
   "outputs": [
    {
     "data": {
      "text/html": [
       "<div>\n",
       "<table border=\"1\" class=\"dataframe\">\n",
       "  <thead>\n",
       "    <tr style=\"text-align: right;\">\n",
       "      <th></th>\n",
       "      <th>Participant</th>\n",
       "      <th>Trial</th>\n",
       "      <th>Group</th>\n",
       "      <th>Block</th>\n",
       "      <th>BlockPresentation</th>\n",
       "      <th>Correct</th>\n",
       "      <th>CorrectKey</th>\n",
       "      <th>Response</th>\n",
       "      <th>RT</th>\n",
       "      <th>DotDifference</th>\n",
       "      <th>...</th>\n",
       "      <th>TimeStamp+1</th>\n",
       "      <th>RTConf+1</th>\n",
       "      <th>expName</th>\n",
       "      <th>presented_left</th>\n",
       "      <th>picked_left</th>\n",
       "      <th>Zconf</th>\n",
       "      <th>Zdiff</th>\n",
       "      <th>ZRT</th>\n",
       "      <th>Age</th>\n",
       "      <th>WM</th>\n",
       "    </tr>\n",
       "  </thead>\n",
       "  <tbody>\n",
       "    <tr>\n",
       "      <th>0</th>\n",
       "      <td>1</td>\n",
       "      <td>1</td>\n",
       "      <td>Monolingual</td>\n",
       "      <td>1</td>\n",
       "      <td>1</td>\n",
       "      <td>0</td>\n",
       "      <td>right</td>\n",
       "      <td>left</td>\n",
       "      <td>4.408616</td>\n",
       "      <td>3</td>\n",
       "      <td>...</td>\n",
       "      <td>NaN</td>\n",
       "      <td>NaN</td>\n",
       "      <td>MetaDots</td>\n",
       "      <td>0</td>\n",
       "      <td>1</td>\n",
       "      <td>0.958774</td>\n",
       "      <td>-1.047766</td>\n",
       "      <td>-0.420842</td>\n",
       "      <td>NaN</td>\n",
       "      <td>NaN</td>\n",
       "    </tr>\n",
       "    <tr>\n",
       "      <th>1</th>\n",
       "      <td>1</td>\n",
       "      <td>2</td>\n",
       "      <td>Monolingual</td>\n",
       "      <td>1</td>\n",
       "      <td>2</td>\n",
       "      <td>1</td>\n",
       "      <td>right</td>\n",
       "      <td>right</td>\n",
       "      <td>2.673370</td>\n",
       "      <td>4</td>\n",
       "      <td>...</td>\n",
       "      <td>211.632328</td>\n",
       "      <td>0.973</td>\n",
       "      <td>MetaDots</td>\n",
       "      <td>0</td>\n",
       "      <td>0</td>\n",
       "      <td>-0.142000</td>\n",
       "      <td>-0.371788</td>\n",
       "      <td>-0.988200</td>\n",
       "      <td>23.083</td>\n",
       "      <td>17</td>\n",
       "    </tr>\n",
       "    <tr>\n",
       "      <th>2</th>\n",
       "      <td>1</td>\n",
       "      <td>3</td>\n",
       "      <td>Monolingual</td>\n",
       "      <td>1</td>\n",
       "      <td>3</td>\n",
       "      <td>0</td>\n",
       "      <td>right</td>\n",
       "      <td>left</td>\n",
       "      <td>3.291777</td>\n",
       "      <td>4</td>\n",
       "      <td>...</td>\n",
       "      <td>215.278698</td>\n",
       "      <td>0.456</td>\n",
       "      <td>MetaDots</td>\n",
       "      <td>0</td>\n",
       "      <td>1</td>\n",
       "      <td>0.738619</td>\n",
       "      <td>-0.371788</td>\n",
       "      <td>-0.786005</td>\n",
       "      <td>22.333</td>\n",
       "      <td>16</td>\n",
       "    </tr>\n",
       "    <tr>\n",
       "      <th>3</th>\n",
       "      <td>1</td>\n",
       "      <td>4</td>\n",
       "      <td>Monolingual</td>\n",
       "      <td>1</td>\n",
       "      <td>4</td>\n",
       "      <td>0</td>\n",
       "      <td>right</td>\n",
       "      <td>left</td>\n",
       "      <td>2.777241</td>\n",
       "      <td>5</td>\n",
       "      <td>...</td>\n",
       "      <td>219.026475</td>\n",
       "      <td>0.842</td>\n",
       "      <td>MetaDots</td>\n",
       "      <td>0</td>\n",
       "      <td>1</td>\n",
       "      <td>0.298310</td>\n",
       "      <td>0.304190</td>\n",
       "      <td>-0.954238</td>\n",
       "      <td>20.917</td>\n",
       "      <td>11</td>\n",
       "    </tr>\n",
       "    <tr>\n",
       "      <th>4</th>\n",
       "      <td>1</td>\n",
       "      <td>5</td>\n",
       "      <td>Monolingual</td>\n",
       "      <td>1</td>\n",
       "      <td>5</td>\n",
       "      <td>1</td>\n",
       "      <td>left</td>\n",
       "      <td>left</td>\n",
       "      <td>2.860097</td>\n",
       "      <td>6</td>\n",
       "      <td>...</td>\n",
       "      <td>222.645716</td>\n",
       "      <td>1.036</td>\n",
       "      <td>MetaDots</td>\n",
       "      <td>1</td>\n",
       "      <td>1</td>\n",
       "      <td>0.738619</td>\n",
       "      <td>0.980168</td>\n",
       "      <td>-0.927147</td>\n",
       "      <td>28.917</td>\n",
       "      <td>16</td>\n",
       "    </tr>\n",
       "  </tbody>\n",
       "</table>\n",
       "<p>5 rows × 26 columns</p>\n",
       "</div>"
      ],
      "text/plain": [
       "   Participant  Trial        Group  Block  BlockPresentation  Correct  \\\n",
       "0            1      1  Monolingual      1                  1        0   \n",
       "1            1      2  Monolingual      1                  2        1   \n",
       "2            1      3  Monolingual      1                  3        0   \n",
       "3            1      4  Monolingual      1                  4        0   \n",
       "4            1      5  Monolingual      1                  5        1   \n",
       "\n",
       "  CorrectKey Response        RT  DotDifference ...  TimeStamp+1  RTConf+1  \\\n",
       "0      right     left  4.408616              3 ...          NaN       NaN   \n",
       "1      right    right  2.673370              4 ...   211.632328     0.973   \n",
       "2      right     left  3.291777              4 ...   215.278698     0.456   \n",
       "3      right     left  2.777241              5 ...   219.026475     0.842   \n",
       "4       left     left  2.860097              6 ...   222.645716     1.036   \n",
       "\n",
       "    expName  presented_left picked_left     Zconf     Zdiff       ZRT     Age  \\\n",
       "0  MetaDots               0           1  0.958774 -1.047766 -0.420842     NaN   \n",
       "1  MetaDots               0           0 -0.142000 -0.371788 -0.988200  23.083   \n",
       "2  MetaDots               0           1  0.738619 -0.371788 -0.786005  22.333   \n",
       "3  MetaDots               0           1  0.298310  0.304190 -0.954238  20.917   \n",
       "4  MetaDots               1           1  0.738619  0.980168 -0.927147  28.917   \n",
       "\n",
       "   WM  \n",
       "0 NaN  \n",
       "1  17  \n",
       "2  16  \n",
       "3  11  \n",
       "4  16  \n",
       "\n",
       "[5 rows x 26 columns]"
      ]
     },
     "execution_count": 40,
     "metadata": {},
     "output_type": "execute_result"
    }
   ],
   "source": [
    "MyDataMeans.head()\n",
    "MyData.head()"
   ]
  },
  {
   "cell_type": "markdown",
   "metadata": {},
   "source": [
    "#### Create a numeric variable for group to use in the MLMs"
   ]
  },
  {
   "cell_type": "code",
   "execution_count": 32,
   "metadata": {
    "collapsed": false
   },
   "outputs": [
    {
     "data": {
      "text/plain": [
       "1    6200\n",
       "0    6200\n",
       "dtype: int64"
      ]
     },
     "execution_count": 32,
     "metadata": {},
     "output_type": "execute_result"
    }
   ],
   "source": [
    "MyData['GroupNum'] = np.nan\n",
    "MyData.loc[(MyData['Group']=='Monolingual'), 'GroupNum'] = 0\n",
    "MyData.loc[(MyData['Group']=='Bilingual'), 'GroupNum'] = 1\n",
    "MyData['GroupNum'].value_counts()"
   ]
  },
  {
   "cell_type": "code",
   "execution_count": 4,
   "metadata": {
    "collapsed": false
   },
   "outputs": [
    {
     "data": {
      "text/plain": [
       "Index([u'Group', u'Block', u'BlockPresentation', u'Correct', u'CorrectKey',\n",
       "       u'Response', u'RT', u'DotDifference', u'DotNumberRight',\n",
       "       u'DotNumberLeft', u'Confidence', u'ConfidenceRT', u'Date', u'TimeStamp',\n",
       "       u'TimeStamp+1', u'RTConf+1', u'expName'],\n",
       "      dtype='object')"
      ]
     },
     "execution_count": 4,
     "metadata": {},
     "output_type": "execute_result"
    }
   ],
   "source": [
    "MyData.columns"
   ]
  },
  {
   "cell_type": "code",
   "execution_count": 6,
   "metadata": {
    "collapsed": true
   },
   "outputs": [],
   "source": [
    "def participant_zscore(data, old_var, sort_var):\n",
    "    data2 = data.set_index(sort_var).copy()\n",
    "    output = ((data2[old_var] - data2.groupby(level=sort_var)[old_var].mean())/\n",
    "              data2.groupby(level=sort_var)[old_var].std())\n",
    "    return output.values"
   ]
  },
  {
   "cell_type": "code",
   "execution_count": 32,
   "metadata": {
    "collapsed": true
   },
   "outputs": [],
   "source": [
    "def parsplit(DF, input, quantiles):\n",
    "    qvalues = pd.qcut(DF[input], quantiles, labels = range(1, quantiles+1))\n",
    "    return qvalues"
   ]
  },
  {
   "cell_type": "code",
   "execution_count": 13,
   "metadata": {
    "collapsed": false
   },
   "outputs": [],
   "source": [
    "MyData['zRT'] = participant_zscore(MyData, 'RT', 'Participant')"
   ]
  },
  {
   "cell_type": "code",
   "execution_count": 40,
   "metadata": {
    "collapsed": false
   },
   "outputs": [],
   "source": [
    "MyData['Difficulty_Split'] = MyData.groupby('Participant').apply(parsplit, 'DotDifference', 2).values\n",
    "MyData['Difficulty_Split'] = MyData['Difficulty_Split'].astype('object')\n",
    "MyData.loc[MyData['Difficulty_Split'] == 1, 'Difficulty_Split'] = 'Hard'\n",
    "MyData.loc[MyData['Difficulty_Split'] == 2, 'Difficulty_Split'] = 'Easy'"
   ]
  },
  {
   "cell_type": "code",
   "execution_count": 43,
   "metadata": {
    "collapsed": false
   },
   "outputs": [
    {
     "data": {
      "text/plain": [
       "<seaborn.axisgrid.FacetGrid at 0x1188e14d0>"
      ]
     },
     "execution_count": 43,
     "metadata": {},
     "output_type": "execute_result"
    },
    {
     "data": {
      "image/png": "[encoded data removed]",
      "text/plain": [
       "<matplotlib.figure.Figure at 0x118e2b590>"
      ]
     },
     "metadata": {},
     "output_type": "display_data"
    }
   ],
   "source": [
    "sns.factorplot(data=MyData, x='Difficulty_Split', y='zRT', kind='violin', col='Group')"
   ]
  },
  {
   "cell_type": "code",
   "execution_count": 59,
   "metadata": {
    "collapsed": false
   },
   "outputs": [
    {
     "data": {
      "image/png": "[encoded data removed]",
      "text/plain": [
       "<matplotlib.figure.Figure at 0x129784750>"
      ]
     },
     "metadata": {},
     "output_type": "display_data"
    }
   ],
   "source": [
    "sns.factorplot(data=MyData, x='Difficulty_Split', y='zRT', kind='bar')\n",
    "plt.savefig('Difficulty_RT.png')"
   ]
  },
  {
   "cell_type": "code",
   "execution_count": 61,
   "metadata": {
    "collapsed": false
   },
   "outputs": [
    {
     "data": {
      "text/plain": [
       "Difficulty_Split\n",
       "Easy   -0.068845\n",
       "Hard    0.044736\n",
       "Name: zRT, dtype: float64"
      ]
     },
     "execution_count": 61,
     "metadata": {},
     "output_type": "execute_result"
    }
   ],
   "source": [
    "MyData.groupby('Difficulty_Split')['zRT'].mean()"
   ]
  },
  {
   "cell_type": "code",
   "execution_count": 62,
   "metadata": {
    "collapsed": false
   },
   "outputs": [
    {
     "data": {
      "text/plain": [
       "Difficulty_Split\n",
       "Easy    0.980069\n",
       "Hard    1.006269\n",
       "Name: zRT, dtype: float64"
      ]
     },
     "execution_count": 62,
     "metadata": {},
     "output_type": "execute_result"
    }
   ],
   "source": [
    "MyData.groupby('Difficulty_Split')['zRT'].std()"
   ]
  },
  {
   "cell_type": "code",
   "execution_count": 55,
   "metadata": {
    "collapsed": false
   },
   "outputs": [
    {
     "data": {
      "text/plain": [
       "\n",
       "\tWelch Two Sample t-test\n",
       "\n",
       "data:  zRT by Difficulty_Split\n",
       "t = -6.2393, df = 10624.73, p-value = 4.564e-10\n",
       "alternative hypothesis: true difference in means is not equal to 0\n",
       "95 percent confidence interval:\n",
       " -0.14926433 -0.07789707\n",
       "sample estimates:\n",
       "mean in group Easy mean in group Hard \n",
       "       -0.06884456         0.04473614 \n",
       "\n"
      ]
     },
     "metadata": {},
     "output_type": "display_data"
    }
   ],
   "source": [
    "%%R\n",
    "MyData$Difficulty_Split = factor(MyData$Difficulty_Split)\n",
    "t.test(data=MyData, zRT~Difficulty_Split)"
   ]
  },
  {
   "cell_type": "code",
   "execution_count": null,
   "metadata": {
    "collapsed": true
   },
   "outputs": [],
   "source": [
    "%%R\n",
    "library(lsr)\n",
    "\n",
    "cohensD(x,y)"
   ]
  },
  {
   "cell_type": "code",
   "execution_count": 48,
   "metadata": {
    "collapsed": false
   },
   "outputs": [
    {
     "data": {
      "text/plain": [
       "<seaborn.axisgrid.FacetGrid at 0x119e13750>"
      ]
     },
     "execution_count": 48,
     "metadata": {},
     "output_type": "execute_result"
    },
    {
     "data": {
      "image/png": "[encoded data removed]",
      "text/plain": [
       "<matplotlib.figure.Figure at 0x128301d10>"
      ]
     },
     "metadata": {},
     "output_type": "display_data"
    }
   ],
   "source": [
    "sns.lmplot(\"DotDifference\", \"zRT\", data=MyData[MyData['zRT'].abs() <4])"
   ]
  },
  {
   "cell_type": "code",
   "execution_count": 18,
   "metadata": {
    "collapsed": true
   },
   "outputs": [],
   "source": [
    "from scipy.stats.stats import pearsonr"
   ]
  },
  {
   "cell_type": "code",
   "execution_count": 23,
   "metadata": {
    "collapsed": false
   },
   "outputs": [
    {
     "name": "stdout",
     "output_type": "stream",
     "text": [
      "Pearson's r = -0.054             p= 0.0\n"
     ]
    }
   ],
   "source": [
    "correlation = np.round(stats.pearsonr(MyData[MyData['zRT'].abs() <4]['zRT'], MyData[MyData['zRT'].abs() <4]['DotDifference']), 3)\n",
    "print \"Pearson's r =\", correlation[0], '            p=', correlation[1]"
   ]
  },
  {
   "cell_type": "markdown",
   "metadata": {},
   "source": [
    "#### Load the relevant R packages"
   ]
  },
  {
   "cell_type": "code",
   "execution_count": 15,
   "metadata": {
    "collapsed": false
   },
   "outputs": [
    {
     "name": "stdout",
     "output_type": "stream",
     "text": [
      "\n",
      "Error in withVisible({ : object 'MyDataMeans' not found\n",
      "\n",
      "Error in library(ez) : there is no package called ‘ez’\n",
      "\n",
      "Error in library(reshape) : there is no package called ‘reshape’\n"
     ]
    },
    {
     "name": "stderr",
     "output_type": "stream",
     "text": [
      "/Users/Tomas/anaconda/lib/python2.7/site-packages/rpy2/robjects/functions.py:106: UserWarning: Error in withVisible({ : object 'MyDataMeans' not found\n",
      "\n",
      "  res = super(Function, self).__call__(*new_args, **new_kwargs)\n"
     ]
    },
    {
     "data": {
      "text/plain": [
       "array(['optimx', 'pbkrtest', 'gdata', 'car', 'lme4', 'Matrix', 'tools',\n",
       "       'stats', 'graphics', 'grDevices', 'utils', 'datasets', 'methods',\n",
       "       'base'], \n",
       "      dtype='|S9')"
      ]
     },
     "execution_count": 15,
     "metadata": {},
     "output_type": "execute_result"
    }
   ],
   "source": [
    "%R -i MyData\n",
    "%R - MyDataMeans\n",
    "%R library(ez)\n",
    "%R library(pbkrtest)\n",
    "%R library(reshape)\n",
    "%R library(optimx)"
   ]
  },
  {
   "cell_type": "markdown",
   "metadata": {},
   "source": [
    "## Running the MLMsfor RT in R"
   ]
  },
  {
   "cell_type": "markdown",
   "metadata": {},
   "source": [
    "### Basic regression models"
   ]
  },
  {
   "cell_type": "code",
   "execution_count": 231,
   "metadata": {
    "collapsed": false
   },
   "outputs": [
    {
     "data": {
      "text/plain": [
       "Analysis of Variance Table\n",
       "\n",
       "Model 1: RT_MS ~ Group\n",
       "Model 2: RT_MS ~ Group + Age\n",
       "  Res.Df      RSS Df Sum of Sq      F Pr(>F)\n",
       "1     60 90786236                           \n",
       "2     59 88235983  1   2550254 1.7053 0.1967\n"
      ]
     },
     "metadata": {},
     "output_type": "display_data"
    }
   ],
   "source": [
    "%%R\n",
    "Empty_RT = lm(RT_MS ~ 1, data=MyDataMeans)\n",
    "Group_RT = lm(RT_MS ~ Group, data=MyDataMeans)\n",
    "Group_RT_Age <- update(Group_RT, . ~ . + Age)\n",
    "Group_RT_WM <- update(Group_RT, . ~ . + WM)\n",
    "Group_RT_WM_Age <- update(Group_RT_Age, . ~ . + WM)\n",
    "anova(Empty_RT, Group_RT, Group_RT_Age, Group_RT_WM, Group_RT_WM_Age)\n",
    "anova(Group_RT, Group_RT_Age)"
   ]
  },
  {
   "cell_type": "code",
   "execution_count": 229,
   "metadata": {
    "collapsed": false
   },
   "outputs": [
    {
     "data": {
      "text/plain": [
       "Analysis of Variance Table\n",
       "\n",
       "Model 1: RT_MS ~ Group\n",
       "Model 2: RT_MS ~ Group + WM\n",
       "  Res.Df      RSS Df Sum of Sq      F Pr(>F)\n",
       "1     60 90786236                           \n",
       "2     59 88790613  1   1995623 1.3261 0.2542\n"
      ]
     },
     "metadata": {},
     "output_type": "display_data"
    }
   ],
   "source": [
    "%%R\n",
    "anova(Group_RT, Group_RT_WM)"
   ]
  },
  {
   "cell_type": "markdown",
   "metadata": {},
   "source": [
    "Here we build the basic regression models to test whether the main effect of a bilingualism on RT is influenced by Age or WM."
   ]
  },
  {
   "cell_type": "code",
   "execution_count": 232,
   "metadata": {
    "collapsed": false,
    "scrolled": true
   },
   "outputs": [
    {
     "data": {
      "text/plain": [
       "\n",
       "Call:\n",
       "lm(formula = RT_MS ~ Group, data = MyDataMeans)\n",
       "\n",
       "Residuals:\n",
       "    Min      1Q  Median      3Q     Max \n",
       "-1362.5  -761.2  -270.7   367.3  6137.0 \n",
       "\n",
       "Coefficients:\n",
       "                 Estimate Std. Error t value Pr(>|t|)    \n",
       "(Intercept)        2679.1      220.9  12.127   <2e-16 ***\n",
       "GroupMonolingual    680.6      312.4   2.178   0.0333 *  \n",
       "---\n",
       "Signif. codes:  0 ‘***’ 0.001 ‘**’ 0.01 ‘*’ 0.05 ‘.’ 0.1 ‘ ’ 1\n",
       "\n",
       "Residual standard error: 1230 on 60 degrees of freedom\n",
       "Multiple R-squared:  0.07328,\tAdjusted R-squared:  0.05784 \n",
       "F-statistic: 4.745 on 1 and 60 DF,  p-value: 0.03333\n",
       "\n"
      ]
     },
     "metadata": {},
     "output_type": "display_data"
    }
   ],
   "source": [
    "%%R\n",
    "summary(Group_RT)"
   ]
  },
  {
   "cell_type": "code",
   "execution_count": 234,
   "metadata": {
    "collapsed": false,
    "scrolled": true
   },
   "outputs": [
    {
     "data": {
      "text/plain": [
       "\n",
       "Call:\n",
       "lm(formula = RT_MS ~ Group + Age, data = MyDataMeans)\n",
       "\n",
       "Residuals:\n",
       "    Min      1Q  Median      3Q     Max \n",
       "-1576.4  -696.7  -227.2   320.2  5865.6 \n",
       "\n",
       "Coefficients:\n",
       "                 Estimate Std. Error t value Pr(>|t|)  \n",
       "(Intercept)       1408.12     997.79   1.411   0.1634  \n",
       "GroupMonolingual   830.59     331.19   2.508   0.0149 *\n",
       "Age                 50.33      38.54   1.306   0.1967  \n",
       "---\n",
       "Signif. codes:  0 ‘***’ 0.001 ‘**’ 0.01 ‘*’ 0.05 ‘.’ 0.1 ‘ ’ 1\n",
       "\n",
       "Residual standard error: 1223 on 59 degrees of freedom\n",
       "Multiple R-squared:  0.09931,\tAdjusted R-squared:  0.06878 \n",
       "F-statistic: 3.253 on 2 and 59 DF,  p-value: 0.0457\n",
       "\n"
      ]
     },
     "metadata": {},
     "output_type": "display_data"
    }
   ],
   "source": [
    "%%R\n",
    "summary(Group_RT_Age)"
   ]
  },
  {
   "cell_type": "code",
   "execution_count": 233,
   "metadata": {
    "collapsed": false,
    "scrolled": true
   },
   "outputs": [
    {
     "data": {
      "text/plain": [
       "\n",
       "Call:\n",
       "lm(formula = RT_MS ~ Group + WM, data = MyDataMeans)\n",
       "\n",
       "Residuals:\n",
       "    Min      1Q  Median      3Q     Max \n",
       "-1600.6  -737.3  -287.0   426.5  5669.0 \n",
       "\n",
       "Coefficients:\n",
       "                 Estimate Std. Error t value Pr(>|t|)   \n",
       "(Intercept)       2004.93     625.56   3.205  0.00218 **\n",
       "GroupMonolingual   603.24     318.75   1.893  0.06333 . \n",
       "WM                  42.05      36.52   1.152  0.25415   \n",
       "---\n",
       "Signif. codes:  0 ‘***’ 0.001 ‘**’ 0.01 ‘*’ 0.05 ‘.’ 0.1 ‘ ’ 1\n",
       "\n",
       "Residual standard error: 1227 on 59 degrees of freedom\n",
       "Multiple R-squared:  0.09365,\tAdjusted R-squared:  0.06293 \n",
       "F-statistic: 3.048 on 2 and 59 DF,  p-value: 0.05498\n",
       "\n"
      ]
     },
     "metadata": {},
     "output_type": "display_data"
    }
   ],
   "source": [
    "%%R\n",
    "summary(Group_RT_WM)"
   ]
  },
  {
   "cell_type": "markdown",
   "metadata": {},
   "source": [
    "### Multilevel models"
   ]
  },
  {
   "cell_type": "code",
   "execution_count": 110,
   "metadata": {
    "collapsed": false
   },
   "outputs": [
    {
     "data": {
      "text/plain": [
       "Data: MyData\n",
       "Models:\n",
       "Baseline_RT: RT_MS ~ 1 + (1 | Participant)\n",
       "Group_RT: RT_MS ~ Group + (1 | Participant)\n",
       "Block_RT: RT_MS ~ Group + Block:Group + (1 | Participant)\n",
       "Block_RT_Random: RT ~ Group + Block:Group + (Group + Block:Group | Participant)\n",
       "                Df    AIC    BIC  logLik deviance      Chisq Chi Df Pr(>Chisq)\n",
       "Baseline_RT      3 224768 224790 -112381   224762                             \n",
       "Group_RT         4 224765 224795 -112378   224757 4.7185e+00      1    0.02984\n",
       "Block_RT         6 224730 224774 -112359   224718 3.9294e+01      2  2.934e-09\n",
       "Block_RT_Random 15  53141  53252  -26555    53111 1.7161e+05      9  < 2.2e-16\n",
       "                   \n",
       "Baseline_RT        \n",
       "Group_RT        *  \n",
       "Block_RT        ***\n",
       "Block_RT_Random ***\n",
       "---\n",
       "Signif. codes:  0 ‘***’ 0.001 ‘**’ 0.01 ‘*’ 0.05 ‘.’ 0.1 ‘ ’ 1\n",
       "Linear mixed model fit by maximum likelihood  ['lmerMod']\n",
       "Formula: RT ~ Group + Block:Group + (Group + Block:Group | Participant)\n",
       "   Data: MyData\n",
       "Control: lmerControl(optimizer = \"optimx\", optCtrl = list(method = \"L-BFGS-B\"))\n",
       "\n",
       "     AIC      BIC   logLik deviance df.resid \n",
       " 53140.7  53252.1 -26555.3  53110.7    12385 \n",
       "\n",
       "Scaled residuals: \n",
       "    Min      1Q  Median      3Q     Max \n",
       "-4.8136 -0.4260 -0.1658  0.2556 21.3459 \n",
       "\n",
       "Random effects:\n",
       " Groups      Name                   Variance Std.Dev. Corr             \n",
       " Participant (Intercept)            1.55382  1.2465                    \n",
       "             GroupMonolingual       6.96637  2.6394   -0.81            \n",
       "             GroupBilingual:Block   0.01685  0.1298   -0.75  0.61      \n",
       "             GroupMonolingual:Block 0.03539  0.1881    0.66 -0.72 -0.49\n",
       " Residual                           4.11610  2.0288                    \n",
       "Number of obs: 12400, groups:  Participant, 62\n",
       "\n",
       "Fixed effects:\n",
       "                       Estimate Std. Error t value\n",
       "(Intercept)             2.99005    0.23097  12.946\n",
       "GroupMonolingual        0.28311    0.39978   0.708\n",
       "GroupBilingual:Block   -0.06909    0.02588  -2.669\n",
       "GroupMonolingual:Block  0.01923    0.03561   0.540\n",
       "\n",
       "Correlation of Fixed Effects:\n",
       "            (Intr) GrpMnl GrpB:B\n",
       "GroupMnlngl -0.578              \n",
       "GrpBlngl:Bl -0.750  0.433       \n",
       "GrpMnlngl:B  0.000 -0.503  0.000\n"
      ]
     },
     "metadata": {},
     "output_type": "display_data"
    }
   ],
   "source": [
    "%%R\n",
    "# Constucting the models\n",
    "Baseline_RT = lmer(RT_MS ~ 1 + (1 | Participant), data=MyData, REML=FALSE, control=lmerControl(optimizer=\"optimx\", optCtrl=list(method=\"L-BFGS-B\")))\n",
    "Group_RT = lmer(RT_MS ~ Group + (1 | Participant), data=MyData, REML=FALSE, control=lmerControl(optimizer=\"optimx\", optCtrl=list(method=\"L-BFGS-B\")))\n",
    "Block_RT = lmer(RT_MS ~ Group + Block:Group + (1 | Participant), data=MyData, REML=FALSE, control=lmerControl(optimizer=\"optimx\", optCtrl=list(method=\"L-BFGS-B\")))\n",
    "Block_RT_WM = lmer(RT_MS ~ Group + Block:Group + WM + (1 | Participant), data=MyData, REML=FALSE, control=lmerControl(optimizer=\"optimx\", optCtrl=list(method=\"L-BFGS-B\")))\n",
    "Block_RT_Age = lmer(RT_MS ~ Group + Block:Group + Age + (1 | Participant), data=MyData, REML=FALSE, control=lmerControl(optimizer=\"optimx\", optCtrl=list(method=\"L-BFGS-B\")))\n",
    "Block_RT_Random = lmer(RT ~ Group + Block:Group + (Group + Block:Group | Participant), data=MyData, REML=FALSE, control=lmerControl(optimizer=\"optimx\", optCtrl=list(method=\"L-BFGS-B\")))\n",
    "Block_RT_Age_Random = lmer(RT_MS ~ Group + Block:Group + Age + (Block:Group | Participant), data=MyData, REML=FALSE, control=lmerControl(optimizer=\"optimx\", optCtrl=list(method=\"L-BFGS-B\")))\n",
    "Block_RT_WM_Random = lmer(RT_MS ~ Group + Block:Group + WM + (Block:Group | Participant), data=MyData, REML=FALSE, control=lmerControl(optimizer=\"optimx\", optCtrl=list(method=\"L-BFGS-B\")))\n",
    "#Block_RT_Random1 = lmer(RT ~ Group + Block:Group + (Block:Group | Participant), data=MyData, REML=FALSE)\n",
    "#print(summary(Block_RT_Age))\n"
   ]
  },
  {
   "cell_type": "markdown",
   "metadata": {},
   "source": [
    "Here we build the multi level models. The reason why we don't allow Group to have free slopes is because it doesn't make any sense, as group only varied between participants, not within."
   ]
  },
  {
   "cell_type": "markdown",
   "metadata": {},
   "source": [
    "### Comparing the standard models"
   ]
  },
  {
   "cell_type": "code",
   "execution_count": 117,
   "metadata": {
    "collapsed": false,
    "scrolled": false
   },
   "outputs": [
    {
     "data": {
      "text/plain": [
       "Data: MyData\n",
       "Models:\n",
       "Baseline_RT: RT_MS ~ 1 + (1 | Participant)\n",
       "Group_RT: RT_MS ~ Group + (1 | Participant)\n",
       "Block_RT: RT_MS ~ Group + Block:Group + (1 | Participant)\n",
       "Block_RT_Random: RT_MS ~ Group + Block:Group + (Block:Group | Participant)\n",
       "                Df    AIC    BIC  logLik deviance    Chisq Chi Df Pr(>Chisq)\n",
       "Baseline_RT      3 224768 224790 -112381   224762                           \n",
       "Group_RT         4 224765 224795 -112378   224757   4.7185      1    0.02984\n",
       "Block_RT         6 224730 224774 -112359   224718  39.2939      2  2.934e-09\n",
       "Block_RT_Random 11 224449 224530 -112213   224427 290.9036      5  < 2.2e-16\n",
       "                   \n",
       "Baseline_RT        \n",
       "Group_RT        *  \n",
       "Block_RT        ***\n",
       "Block_RT_Random ***\n",
       "---\n",
       "Signif. codes:  0 ‘***’ 0.001 ‘**’ 0.01 ‘*’ 0.05 ‘.’ 0.1 ‘ ’ 1\n",
       "[1]         NA   4.718534  39.293870 290.903621\n"
      ]
     },
     "metadata": {},
     "output_type": "display_data"
    }
   ],
   "source": [
    "%%R\n",
    "# Comparing the models\n",
    "Block_RT_Random = lmer(RT_MS ~ Group + Block:Group + (Block:Group | Participant), data=MyData, REML=FALSE, control=lmerControl(optimizer=\"optimx\", optCtrl=list(method=\"L-BFGS-B\")))\n",
    "model_comp1 <- anova(Baseline_RT, Group_RT, Block_RT, Block_RT_Random)\n",
    "print(model_comp1)\n",
    "model_comp1$Chisq"
   ]
  },
  {
   "cell_type": "markdown",
   "metadata": {},
   "source": [
    "### Comparing the covariate models"
   ]
  },
  {
   "cell_type": "code",
   "execution_count": 128,
   "metadata": {
    "collapsed": false,
    "scrolled": true
   },
   "outputs": [
    {
     "data": {
      "text/plain": [
       "Data: MyData\n",
       "Models:\n",
       "Block_RT_Random: RT_MS ~ Group + Block:Group + (Group:Block | Participant)\n",
       "Block_RT_Age_Random: RT_MS ~ Group + Block:Group + Age + (Block:Group | Participant)\n",
       "                    Df    AIC    BIC  logLik deviance  Chisq Chi Df Pr(>Chisq)\n",
       "Block_RT_Random     11 224449 224530 -112213   224427                         \n",
       "Block_RT_Age_Random 12 224450 224539 -112213   224426 1.0699      1      0.301\n"
      ]
     },
     "metadata": {},
     "output_type": "display_data"
    }
   ],
   "source": [
    "%%R\n",
    "Block_RT_Age_Random = lmer(RT_MS ~ Group + Block:Group + Age + (Block:Group | Participant), data=MyData, REML=FALSE, control=lmerControl(optimizer=\"optimx\", optCtrl=list(method=\"L-BFGS-B\")))\n",
    "Block_RT_WM_Random = lmer(RT_MS ~ Group + Block:Group + WM + (Block:Group | Participant), data=MyData, REML=FALSE, control=lmerControl(optimizer=\"optimx\", optCtrl=list(method=\"L-BFGS-B\")))\n",
    "# Comparing the models\n",
    "model_comp2 <- anova(Block_RT_Random,\n",
    "                     Block_RT_Age_Random)\n",
    "print(model_comp2)"
   ]
  },
  {
   "cell_type": "code",
   "execution_count": 130,
   "metadata": {
    "collapsed": false
   },
   "outputs": [
    {
     "data": {
      "text/plain": [
       "Data: MyData\n",
       "Models:\n",
       "Block_RT_Random: RT_MS ~ Group + Block:Group + (Group:Block | Participant)\n",
       "Block_RT_WM_Random: RT_MS ~ Group + Block:Group + WM + (Block:Group | Participant)\n",
       "                   Df    AIC    BIC  logLik deviance  Chisq Chi Df Pr(>Chisq)\n",
       "Block_RT_Random    11 224449 224530 -112213   224427                         \n",
       "Block_RT_WM_Random 12 224450 224539 -112213   224426 0.8115      1     0.3677\n"
      ]
     },
     "metadata": {},
     "output_type": "display_data"
    }
   ],
   "source": [
    "%%R\n",
    "# Comparing the models\n",
    "model_comp2 <- anova(Block_RT_Random,\n",
    "                     Block_RT_WM_Random)\n",
    "print(model_comp2)"
   ]
  },
  {
   "cell_type": "markdown",
   "metadata": {},
   "source": [
    "### Covariate plots"
   ]
  },
  {
   "cell_type": "code",
   "execution_count": 134,
   "metadata": {
    "collapsed": false
   },
   "outputs": [
    {
     "data": {
      "text/plain": [
       "                         Estimate Std..Error    t.value\n",
       "(Intercept)            2990.04571  282.90381 10.5691249\n",
       "GroupMonolingual        283.11023  400.08641  0.7076227\n",
       "GroupBilingual:Block    -69.09114   29.28990 -2.3588721\n",
       "GroupMonolingual:Block   19.23134   33.88133  0.5676087\n"
      ]
     },
     "metadata": {},
     "output_type": "display_data"
    }
   ],
   "source": [
    "%%R\n",
    "Basic_coefs <- data.frame(coef(summary(Block_RT_Random)))\n",
    "Basic_coefs"
   ]
  },
  {
   "cell_type": "code",
   "execution_count": 136,
   "metadata": {
    "collapsed": false
   },
   "outputs": [
    {
     "data": {
      "text/plain": [
       "                         Estimate Std..Error    t.value\n",
       "(Intercept)            2133.15412  864.72355  2.4668625\n",
       "GroupMonolingual        384.25933  406.72014  0.9447758\n",
       "Age                      33.92906   32.40311  1.0470926\n",
       "GroupBilingual:Block    -69.09114   29.13026 -2.3717997\n",
       "GroupMonolingual:Block   19.23134   33.93125  0.5667735\n"
      ]
     },
     "metadata": {},
     "output_type": "display_data"
    }
   ],
   "source": [
    "%%R\n",
    "Age_coefs <- data.frame(coef(summary(Block_RT_Age_Random)))\n",
    "Age_coefs"
   ]
  },
  {
   "cell_type": "code",
   "execution_count": 137,
   "metadata": {
    "collapsed": false
   },
   "outputs": [
    {
     "data": {
      "text/plain": [
       "                         Estimate Std..Error    t.value\n",
       "(Intercept)            2505.73104  599.34712  4.1807677\n",
       "GroupMonolingual        227.56509  400.26588  0.5685348\n",
       "WM                       30.20876   33.06178  0.9137064\n",
       "GroupBilingual:Block    -69.09114   29.01083 -2.3815638\n",
       "GroupMonolingual:Block   19.23134   33.98435  0.5658881\n"
      ]
     },
     "metadata": {},
     "output_type": "display_data"
    }
   ],
   "source": [
    "%%R\n",
    "WM_coefs <- data.frame(coef(summary(Block_RT_WM_Random)))\n",
    "WM_coefs"
   ]
  },
  {
   "cell_type": "code",
   "execution_count": 147,
   "metadata": {
    "collapsed": false
   },
   "outputs": [],
   "source": [
    "%R -o Basic_coefs\n",
    "%R -o Age_coefs\n",
    "%R -o WM_coefs\n",
    "Basic_coefs['Model'] = 'Basic'; Basic_coefs['Parameter'] = ['Intercept', 'Group', 'Bilingual*Block', 'Monolingual*Block'] \n",
    "Age_coefs['Model'] = 'Age'; Age_coefs['Parameter'] = ['Intercept', 'Group', 'Age', 'Bilingual*Block', 'Monolingual*Block']\n",
    "WM_coefs['Model'] = 'Working Memory'; WM_coefs['Parameter'] = ['Intercept', 'Group', 'Working Memory', 'Bilingual*Block', 'Monolingual*Block']\n",
    "Covariate_comparison = pd.concat([Basic_coefs, Age_coefs, WM_coefs], ignore_index=True)"
   ]
  },
  {
   "cell_type": "code",
   "execution_count": 162,
   "metadata": {
    "collapsed": false
   },
   "outputs": [
    {
     "data": {
      "text/plain": [
       "<matplotlib.axes._subplots.AxesSubplot at 0x120034350>"
      ]
     },
     "execution_count": 162,
     "metadata": {},
     "output_type": "execute_result"
    },
    {
     "data": {
      "image/png": "[encoded data removed]",
      "text/plain": [
       "<matplotlib.figure.Figure at 0x11b6b7d90>"
      ]
     },
     "metadata": {},
     "output_type": "display_data"
    }
   ],
   "source": [
    "Covariate_comparison.columns = ['Coefficient', 'SE', 't-value', 'Model', 'Parameter']\n",
    "Covariate_comparison1 = Covariate_comparison.loc[(Covariate_comparison['Parameter']!='Age') &\n",
    "                                (Covariate_comparison['Parameter']!='Working Memory') &\n",
    "                                (Covariate_comparison['Parameter']!='Intercept'), :]\n",
    "Covariate_comparison2 = Covariate_comparison.loc[(Covariate_comparison['Parameter']=='Age') |\n",
    "                                (Covariate_comparison['Parameter']=='Working Memory'), :]\n",
    "Covariate_comparison2\n"
   ]
  },
  {
   "cell_type": "code",
   "execution_count": 235,
   "metadata": {
    "collapsed": false,
    "scrolled": true
   },
   "outputs": [
    {
     "data": {
      "image/png": "[encoded data removed]",
      "text/plain": [
       "<matplotlib.figure.Figure at 0x123477490>"
      ]
     },
     "metadata": {},
     "output_type": "display_data"
    }
   ],
   "source": [
    "sns.set(style='whitegrid')\n",
    "def errplot(x, y, yerr, **kwargs):\n",
    "    ax = plt.gca()\n",
    "    data = kwargs.pop(\"data\")\n",
    "    data.plot(x=x, y=y, yerr=yerr, kind=\"bar\", ax=ax, **kwargs)\n",
    "g = sns.FacetGrid(Covariate_comparison1, size=5, col='Parameter')\n",
    "g.map_dataframe(errplot, \"Model\", \"Coefficient\", \"SE\")\n",
    "g.set_axis_labels('', 'Coefficient (ms)')\n",
    "titles = [\"Group\", \"Bilingual*Block\", \"Monolingual*Block\"]\n",
    "for ax, title in zip(g.axes.flat, titles):\n",
    "    ax.set_title(title)\n",
    "plt.savefig('RT_Coefficient_Comparison.png')"
   ]
  },
  {
   "cell_type": "markdown",
   "metadata": {},
   "source": [
    "### Other stuff"
   ]
  },
  {
   "cell_type": "code",
   "execution_count": 96,
   "metadata": {
    "collapsed": false
   },
   "outputs": [
    {
     "data": {
      "text/plain": [
       "[(0, 228000)]"
      ]
     },
     "execution_count": 96,
     "metadata": {},
     "output_type": "execute_result"
    },
    {
     "data": {
      "image/png": "[encoded data removed]",
      "text/plain": [
       "<matplotlib.figure.Figure at 0x12d79f350>"
      ]
     },
     "metadata": {},
     "output_type": "display_data"
    }
   ],
   "source": [
    "%R Control_BIC <- model_comp$BIC\n",
    "%R -o Control_BIC\n",
    "Control_BIC\n",
    "Control_BIC = pd.DataFrame(np.array(Control_BIC))\n",
    "Control_BIC.columns = ['BIC']\n",
    "Control_BIC['Models'] = 'Baseline', 'Group Fixed', 'Block Fixed', 'Age Fixed', 'WM Fixed', 'Block Free', 'Age Free', 'WM Free'\n",
    "test = Control_BIC.iloc[5:8, 0:2]\n",
    "ax = sns.barplot(data=test, y='BIC', x='Models', color='#6b8ba4')\n",
    "ax.set(ylim=(0, 228000))"
   ]
  },
  {
   "cell_type": "code",
   "execution_count": 62,
   "metadata": {
    "collapsed": false,
    "scrolled": true
   },
   "outputs": [
    {
     "data": {
      "text/plain": [
       "Linear mixed model fit by maximum likelihood  ['lmerMod']\n",
       "Formula: RT_MS ~ Group + Block:Group + (1 | Participant)\n",
       "   Data: MyData\n",
       "\n",
       "      AIC       BIC    logLik  deviance  df.resid \n",
       " 224729.5  224774.1 -112358.8  224717.5     12394 \n",
       "\n",
       "Scaled residuals: \n",
       "    Min      1Q  Median      3Q     Max \n",
       "-4.0213 -0.4376 -0.1681  0.2511 21.0565 \n",
       "\n",
       "Random effects:\n",
       " Groups      Name        Variance Std.Dev.\n",
       " Participant (Intercept) 1443025  1201    \n",
       " Residual                4253899  2062    \n",
       "Number of obs: 12400, groups:  Participant, 62\n",
       "\n",
       "Fixed effects:\n",
       "                       Estimate Std. Error t value\n",
       "(Intercept)             2990.05     223.34  13.388\n",
       "GroupMonolingual         283.11     315.85   0.896\n",
       "GroupBilingual:Block     -69.09      11.43  -6.044\n",
       "GroupMonolingual:Block    19.23      11.43   1.682\n",
       "\n",
       "Correlation of Fixed Effects:\n",
       "            (Intr) GrpMnl GrpB:B\n",
       "GroupMnlngl -0.707              \n",
       "GrpBlngl:Bl -0.230  0.163       \n",
       "GrpMnlngl:B  0.000 -0.163  0.000\n"
      ]
     },
     "metadata": {},
     "output_type": "display_data"
    }
   ],
   "source": [
    "%%R\n",
    "original_fix <- fixef(Block_RT)\n",
    "original_fix_se <- sqrt(diag(vcov(Block_RT)))\n",
    "summary(Block_RT)"
   ]
  },
  {
   "cell_type": "code",
   "execution_count": 17,
   "metadata": {
    "collapsed": false
   },
   "outputs": [],
   "source": [
    "%%R\n",
    "RT_Interaction_Free = lmer(RT_MS ~ Block + (Block|Participant/Group), data=MyData)"
   ]
  },
  {
   "cell_type": "code",
   "execution_count": 124,
   "metadata": {
    "collapsed": false
   },
   "outputs": [
    {
     "data": {
      "text/plain": [
       "                         Estimate Std..Error    t.value    df.KR    confmax\n",
       "(Intercept)            2990.04571  282.90381 10.5691249 64.06689 3544.53718\n",
       "GroupMonolingual        283.11023  400.08641  0.7076227 64.06689 1067.27958\n",
       "GroupBilingual:Block    -69.09114   29.28990 -2.3588721 64.06689  -11.68292\n",
       "GroupMonolingual:Block   19.23134   33.88133  0.5676087 64.06689   85.63874\n",
       "                          confmin         p.KR        p.z\n",
       "(Intercept)            2435.55424 1.110223e-15 0.00000000\n",
       "GroupMonolingual       -501.05913 4.817459e-01 0.47917958\n",
       "GroupBilingual:Block   -126.49935 2.139171e-02 0.01833057\n",
       "GroupMonolingual:Block  -47.17607 5.722845e-01 0.57030069\n"
      ]
     },
     "metadata": {},
     "output_type": "display_data"
    }
   ],
   "source": [
    "%%R\n",
    "\n",
    "Block_RT_Random = lmer(RT_MS ~ Group + Block:Group + (Group:Block | Participant), data=MyData, REML=FALSE)\n",
    "\n",
    "# Package for approximating degrees of freedom for the fixed effects in MLM\n",
    "library(pbkrtest)\n",
    "\n",
    "\n",
    "# get the coefficients for the best fitting model\n",
    "coefs <- data.frame(coef(summary(Block_RT_Random)))\n",
    "\n",
    "# Use the Kenward-Roger approximation to get approximate degrees of freedom\n",
    "df.KR <- get_ddf_Lb(Block_RT_Random, fixef(Block_RT_Random))\n",
    "coefs$df.KR <-(rep(df.KR, each=4))\n",
    "\n",
    "# Calculate confidence intervals from the estimates and the standard errors\n",
    "coefs$confmax <- coefs$Estimate + (coefs$Std..Error * 1.96)\n",
    "coefs$confmin <- coefs$Estimate - (coefs$Std..Error * 1.96)\n",
    "\n",
    "# get p-values from the t-distribution using the t-values and approximated\n",
    "# degrees of freedom\n",
    "coefs$p.KR <- 2 * (1 - pt(abs(coefs$t.value), df.KR))\n",
    "\n",
    "# use normal distribution to approximate p-value (tends to be anti-conservative with small sample sizes)\n",
    "coefs$p.z <- 2 * (1 - pnorm(abs(coefs$t.value)))\n",
    "\n",
    "print(coefs)"
   ]
  },
  {
   "cell_type": "code",
   "execution_count": 122,
   "metadata": {
    "collapsed": false
   },
   "outputs": [
    {
     "data": {
      "text/plain": [
       "                         Estimate Std..Error    t.value    df.KR    confmax\n",
       "(Intercept)            4233.85311  694.94698  6.0923398 233.2578 5595.94919\n",
       "GroupMonolingual        409.34511  282.40630  1.4494900 233.2578  962.86146\n",
       "WM                      -86.49920   39.58761 -2.1850068 233.2578   -8.90748\n",
       "GroupBilingual:Block    -70.78143   24.68312 -2.8676048 233.2578  -22.40252\n",
       "GroupMonolingual:Block   23.74394   29.80280  0.7967015 233.2578   82.15743\n",
       "                          confmin         p.KR          p.z\n",
       "(Intercept)            2871.75703 4.555073e-09 1.112722e-09\n",
       "GroupMonolingual       -144.17125 1.485439e-01 1.472008e-01\n",
       "WM                     -164.09091 2.988406e-02 2.888835e-02\n",
       "GroupBilingual:Block   -119.16034 4.514656e-03 4.135918e-03\n",
       "GroupMonolingual:Block  -34.66956 4.264345e-01 4.256244e-01\n"
      ]
     },
     "metadata": {},
     "output_type": "display_data"
    }
   ],
   "source": [
    "%%R\n",
    "\n",
    "# Package for approximating degrees of freedom for the fixed effects in MLM\n",
    "library(pbkrtest)\n",
    "\n",
    "\n",
    "# get the coefficients for the best fitting model\n",
    "coefs <- data.frame(coef(summary(Block_RT_WM_Random)))\n",
    "\n",
    "# Use the Kenward-Roger approximation to get approximate degrees of freedom\n",
    "df.KR <- get_ddf_Lb(Block_RT_WM_Random, fixef(Block_RT_WM_Random))\n",
    "coefs$df.KR <-(rep(df.KR, each=5))\n",
    "\n",
    "# Calculate confidence intervals from the estimates and the standard errors\n",
    "coefs$confmax <- coefs$Estimate + (coefs$Std..Error * 1.96)\n",
    "coefs$confmin <- coefs$Estimate - (coefs$Std..Error * 1.96)\n",
    "\n",
    "# get p-values from the t-distribution using the t-values and approximated\n",
    "# degrees of freedom\n",
    "coefs$p.KR <- 2 * (1 - pt(abs(coefs$t.value), df.KR))\n",
    "\n",
    "# use normal distribution to approximate p-value (tends to be anti-conservative with small sample sizes)\n",
    "coefs$p.z <- 2 * (1 - pnorm(abs(coefs$t.value)))\n",
    "\n",
    "print(coefs)"
   ]
  },
  {
   "cell_type": "code",
   "execution_count": 98,
   "metadata": {
    "collapsed": false
   },
   "outputs": [
    {
     "data": {
      "text/plain": [
       "Linear mixed model fit by maximum likelihood  ['lmerMod']\n",
       "Formula: RT ~ Group + Block:Group + Age + (1 | Participant)\n",
       "   Data: MyData\n",
       "\n",
       "     AIC      BIC   logLik deviance df.resid \n",
       " 53417.5  53469.4 -26701.7  53403.5    12393 \n",
       "\n",
       "Scaled residuals: \n",
       "    Min      1Q  Median      3Q     Max \n",
       "-4.0220 -0.4375 -0.1679  0.2507 21.0573 \n",
       "\n",
       "Random effects:\n",
       " Groups      Name        Variance Std.Dev.\n",
       " Participant (Intercept) 1.402    1.184   \n",
       " Residual                4.254    2.062   \n",
       "Number of obs: 12400, groups:  Participant, 62\n",
       "\n",
       "Fixed effects:\n",
       "                       Estimate Std. Error t value\n",
       "(Intercept)             1.71903    0.97471   1.764\n",
       "GroupMonolingual        0.43314    0.33117   1.308\n",
       "Age                     0.05033    0.03760   1.339\n",
       "GroupBilingual:Block   -0.06909    0.01143  -6.044\n",
       "GroupMonolingual:Block  0.01923    0.01143   1.682\n",
       "\n",
       "Correlation of Fixed Effects:\n",
       "            (Intr) GrpMnl Age    GrpB:B\n",
       "GroupMnlngl -0.480                     \n",
       "Age         -0.974  0.338              \n",
       "GrpBlngl:Bl -0.053  0.155  0.000       \n",
       "GrpMnlngl:B  0.000 -0.155  0.000  0.000\n"
      ]
     },
     "metadata": {},
     "output_type": "display_data"
    }
   ],
   "source": [
    "%%R\n",
    "age_fix <- fixef(Block_RT_Age)\n",
    "age_fix_se <- sqrt(diag(vcov(Block_RT_Age)))\n",
    "summary(Block_RT_Age)"
   ]
  },
  {
   "cell_type": "code",
   "execution_count": 123,
   "metadata": {
    "collapsed": false
   },
   "outputs": [
    {
     "data": {
      "text/plain": [
       "           (Intercept)       GroupMonolingual                     WM \n",
       "            2.31583990             0.20578683             0.04205308 \n",
       "  GroupBilingual:Block GroupMonolingual:Block \n",
       "           -0.06909114             0.01923134 \n"
      ]
     },
     "metadata": {},
     "output_type": "display_data"
    }
   ],
   "source": [
    "%%R\n",
    "wm_fix <- fixef(Block_RT_WM)\n",
    "wm_fix_se <- sqrt(diag(vcov(Block_RT_WM)))\n",
    "test = summary(Block_RT_WM)\n",
    "wm_fix"
   ]
  },
  {
   "cell_type": "code",
   "execution_count": 106,
   "metadata": {
    "collapsed": false
   },
   "outputs": [
    {
     "data": {
      "text/plain": [
       "<Vector - Python:0x119c9e7a0 / R:0x118379948>\n",
       "[       1]"
      ]
     },
     "execution_count": 106,
     "metadata": {},
     "output_type": "execute_result"
    }
   ],
   "source": [
    "%R -o test\n",
    "test[3]"
   ]
  },
  {
   "cell_type": "code",
   "execution_count": 92,
   "metadata": {
    "collapsed": false
   },
   "outputs": [
    {
     "data": {
      "text/plain": [
       "[(53400, 53500)]"
      ]
     },
     "execution_count": 92,
     "metadata": {},
     "output_type": "execute_result"
    },
    {
     "data": {
      "image/png": "[encoded data removed]",
      "text/plain": [
       "<matplotlib.figure.Figure at 0x11e0fd790>"
      ]
     },
     "metadata": {},
     "output_type": "display_data"
    }
   ],
   "source": [
    "%R -o model_comp\n",
    "RT_BIC = model_comp[2]\n",
    "RT_BIC = pd.DataFrame(np.array(RT_BIC))\n",
    "RT_BIC.columns = ['BIC']\n",
    "RT_BIC['Models'] = 'Baseline', 'Model 1', 'Model 2', 'Model 3', 'Model 4',\n",
    "RT_BIC\n",
    "ax = sns.barplot(data=RT_BIC, y='BIC', x='Models', color='#6b8ba4')\n",
    "ax.set(ylim=(53400, 53500))"
   ]
  },
  {
   "cell_type": "markdown",
   "metadata": {},
   "source": [
    "Because the models failed to converge I tested different optimisation algorithms to test which one worked best."
   ]
  },
  {
   "cell_type": "markdown",
   "metadata": {},
   "source": [
    "### Comparing the results of various optimisers"
   ]
  },
  {
   "cell_type": "code",
   "execution_count": 31,
   "metadata": {
    "collapsed": false
   },
   "outputs": [],
   "source": [
    "%%R\n",
    "library(optimx)\n",
    "bobyqa <- update(Block_RT_Random1, \n",
    "                   control=lmerControl(optimizer=\"bobyqa\"))"
   ]
  },
  {
   "cell_type": "code",
   "execution_count": 32,
   "metadata": {
    "collapsed": true
   },
   "outputs": [],
   "source": [
    "%%R\n",
    "m.NM <- update(Block_RT_Random1, control=lmerControl(optimizer=\"Nelder_Mead\"))"
   ]
  },
  {
   "cell_type": "code",
   "execution_count": 33,
   "metadata": {
    "collapsed": true
   },
   "outputs": [],
   "source": [
    "%%R\n",
    "m.nlminb <- update(Block_RT_Random1, control=lmerControl(optimizer=\"optimx\",\n",
    "                              optCtrl=list(method=\"nlminb\")))"
   ]
  },
  {
   "cell_type": "code",
   "execution_count": 34,
   "metadata": {
    "collapsed": true
   },
   "outputs": [],
   "source": [
    "%%R\n",
    "m.LBFGSB <- update(Block_RT_Random1, control=lmerControl(optimizer=\"optimx\",\n",
    "                              optCtrl=list(method=\"L-BFGS-B\")))"
   ]
  },
  {
   "cell_type": "code",
   "execution_count": 35,
   "metadata": {
    "collapsed": false
   },
   "outputs": [
    {
     "data": {
      "text/plain": [
       "Linear mixed model fit by maximum likelihood  ['lmerMod']\n",
       "Formula: RT ~ Group + Block:Group + (Block:Group | Participant)\n",
       "   Data: MyData\n",
       "Control: lmerControl(optimizer = \"bobyqa\")\n",
       "\n",
       "     AIC      BIC   logLik deviance df.resid \n",
       " 53136.3  53218.0 -26557.2  53114.3    12389 \n",
       "\n",
       "Scaled residuals: \n",
       "    Min      1Q  Median      3Q     Max \n",
       "-4.7781 -0.4256 -0.1657  0.2561 21.3457 \n",
       "\n",
       "Random effects:\n",
       " Groups      Name                   Variance Std.Dev. Corr       \n",
       " Participant (Intercept)            2.38111  1.5431              \n",
       "             Block:GroupBilingual   0.02267  0.1506   -0.82      \n",
       "             Block:GroupMonolingual 0.03167  0.1779   -0.54  0.16\n",
       " Residual                           4.11609  2.0288              \n",
       "Number of obs: 12400, groups:  Participant, 62\n",
       "\n",
       "Fixed effects:\n",
       "                       Estimate Std. Error t value\n",
       "(Intercept)             2.99005    0.28290  10.569\n",
       "GroupMonolingual        0.28311    0.40009   0.708\n",
       "GroupBilingual:Block   -0.06909    0.02929  -2.359\n",
       "GroupMonolingual:Block  0.01923    0.03388   0.568\n",
       "\n",
       "Correlation of Fixed Effects:\n",
       "            (Intr) GrpMnl GrpB:B\n",
       "GroupMnlngl -0.707              \n",
       "GrpBlngl:Bl -0.811  0.574       \n",
       "GrpMnlngl:B  0.000 -0.396  0.000\n",
       "Linear mixed model fit by maximum likelihood  ['lmerMod']\n",
       "Formula: RT ~ Group + Block:Group + (Block:Group | Participant)\n",
       "   Data: MyData\n",
       "Control: lmerControl(optimizer = \"Nelder_Mead\")\n",
       "\n",
       "     AIC      BIC   logLik deviance df.resid \n",
       " 53136.3  53218.0 -26557.2  53114.3    12389 \n",
       "\n",
       "Scaled residuals: \n",
       "    Min      1Q  Median      3Q     Max \n",
       "-4.7781 -0.4256 -0.1657  0.2561 21.3457 \n",
       "\n",
       "Random effects:\n",
       " Groups      Name                   Variance Std.Dev. Corr       \n",
       " Participant (Intercept)            2.38112  1.5431              \n",
       "             Block:GroupBilingual   0.02267  0.1506   -0.82      \n",
       "             Block:GroupMonolingual 0.03167  0.1779   -0.54  0.07\n",
       " Residual                           4.11609  2.0288              \n",
       "Number of obs: 12400, groups:  Participant, 62\n",
       "\n",
       "Fixed effects:\n",
       "                       Estimate Std. Error t value\n",
       "(Intercept)             2.99005    0.28290  10.569\n",
       "GroupMonolingual        0.28311    0.40009   0.708\n",
       "GroupBilingual:Block   -0.06909    0.02929  -2.359\n",
       "GroupMonolingual:Block  0.01923    0.03388   0.568\n",
       "\n",
       "Correlation of Fixed Effects:\n",
       "            (Intr) GrpMnl GrpB:B\n",
       "GroupMnlngl -0.707              \n",
       "GrpBlngl:Bl -0.811  0.574       \n",
       "GrpMnlngl:B  0.000 -0.396  0.000\n",
       "Linear mixed model fit by maximum likelihood  ['lmerMod']\n",
       "Formula: RT ~ Group + Block:Group + (Block:Group | Participant)\n",
       "   Data: MyData\n",
       "Control: lmerControl(optimizer = \"optimx\", optCtrl = list(method = \"nlminb\"))\n",
       "\n",
       "     AIC      BIC   logLik deviance df.resid \n",
       " 53136.3  53218.0 -26557.2  53114.3    12389 \n",
       "\n",
       "Scaled residuals: \n",
       "    Min      1Q  Median      3Q     Max \n",
       "-4.7781 -0.4256 -0.1657  0.2561 21.3457 \n",
       "\n",
       "Random effects:\n",
       " Groups      Name                   Variance Std.Dev. Corr       \n",
       " Participant (Intercept)            2.38088  1.5430              \n",
       "             Block:GroupBilingual   0.02267  0.1506   -0.82      \n",
       "             Block:GroupMonolingual 0.03166  0.1779   -0.54  0.45\n",
       " Residual                           4.11609  2.0288              \n",
       "Number of obs: 12400, groups:  Participant, 62\n",
       "\n",
       "Fixed effects:\n",
       "                       Estimate Std. Error t value\n",
       "(Intercept)             2.99005    0.28289  10.570\n",
       "GroupMonolingual        0.28311    0.40007   0.708\n",
       "GroupBilingual:Block   -0.06909    0.02929  -2.359\n",
       "GroupMonolingual:Block  0.01923    0.03388   0.568\n",
       "\n",
       "Correlation of Fixed Effects:\n",
       "            (Intr) GrpMnl GrpB:B\n",
       "GroupMnlngl -0.707              \n",
       "GrpBlngl:Bl -0.811  0.574       \n",
       "GrpMnlngl:B  0.000 -0.396  0.000\n",
       "Linear mixed model fit by maximum likelihood  ['lmerMod']\n",
       "Formula: RT ~ Group + Block:Group + (Block:Group | Participant)\n",
       "   Data: MyData\n",
       "Control: lmerControl(optimizer = \"optimx\", optCtrl = list(method = \"L-BFGS-B\"))\n",
       "\n",
       "     AIC      BIC   logLik deviance df.resid \n",
       " 53136.3  53218.0 -26557.2  53114.3    12389 \n",
       "\n",
       "Scaled residuals: \n",
       "    Min      1Q  Median      3Q     Max \n",
       "-4.7781 -0.4256 -0.1657  0.2561 21.3457 \n",
       "\n",
       "Random effects:\n",
       " Groups      Name                   Variance Std.Dev. Corr       \n",
       " Participant (Intercept)            2.38079  1.5430              \n",
       "             Block:GroupBilingual   0.02268  0.1506   -0.82      \n",
       "             Block:GroupMonolingual 0.03167  0.1780   -0.54  0.45\n",
       " Residual                           4.11608  2.0288              \n",
       "Number of obs: 12400, groups:  Participant, 62\n",
       "\n",
       "Fixed effects:\n",
       "                       Estimate Std. Error t value\n",
       "(Intercept)             2.99005    0.28289  10.570\n",
       "GroupMonolingual        0.28311    0.40006   0.708\n",
       "GroupBilingual:Block   -0.06909    0.02929  -2.359\n",
       "GroupMonolingual:Block  0.01923    0.03388   0.568\n",
       "\n",
       "Correlation of Fixed Effects:\n",
       "            (Intr) GrpMnl GrpB:B\n",
       "GroupMnlngl -0.707              \n",
       "GrpBlngl:Bl -0.811  0.574       \n",
       "GrpMnlngl:B  0.000 -0.396  0.000\n"
      ]
     },
     "metadata": {},
     "output_type": "display_data"
    }
   ],
   "source": [
    "%%R\n",
    "print(summary(bobyqa))\n",
    "print(summary(m.NM))\n",
    "print(summary(m.nlminb))\n",
    "print(summary(m.LBFGSB))\n",
    "\n",
    "### All four optimisers give equivalent results,\n",
    "#so I am going to assume that the data converges and that there is no problem here"
   ]
  },
  {
   "cell_type": "markdown",
   "metadata": {
    "collapsed": false
   },
   "source": [
    "The different models give us very similar estimates, suggesting that despite the warnings regarding convergence the results are reliable."
   ]
  },
  {
   "cell_type": "markdown",
   "metadata": {},
   "source": [
    "## Add P-values for the random slopes Group*Block model"
   ]
  },
  {
   "cell_type": "code",
   "execution_count": 36,
   "metadata": {
    "collapsed": false
   },
   "outputs": [
    {
     "data": {
      "text/plain": [
       "Note: method with signature ‘sparseMatrix#ANY’ chosen for function ‘kronecker’,\n",
       " target signature ‘dgCMatrix#ngCMatrix’.\n",
       " \"ANY#sparseMatrix\" would also be valid\n",
       "                          Estimate Std..Error    t.value    df.KR     confmax\n",
       "(Intercept)             2.99004571 0.28290412 10.5691134 64.06607  3.54453778\n",
       "GroupMonolingual        0.28311023 0.40008684  0.7076219 64.06607  1.06728043\n",
       "GroupBilingual:Block   -0.06909114 0.02928983 -2.3588783 64.06607 -0.01168308\n",
       "GroupMonolingual:Block  0.01923134 0.03388130  0.5676092 64.06607  0.08563869\n",
       "                           confmin         p.KR        p.z\n",
       "(Intercept)             2.43555364 1.110223e-15 0.00000000\n",
       "GroupMonolingual       -0.50105998 4.817464e-01 0.47918006\n",
       "GroupBilingual:Block   -0.12649920 2.139142e-02 0.01833027\n",
       "GroupMonolingual:Block -0.04717601 5.722842e-01 0.57030038\n"
      ]
     },
     "metadata": {},
     "output_type": "display_data"
    }
   ],
   "source": [
    "%%R\n",
    "# Package for approximating degrees of freedom for the fixed effects in MLM\n",
    "library(pbkrtest)\n",
    "\n",
    "\n",
    "# get the coefficients for the best fitting model\n",
    "coefs <- data.frame(coef(summary(Block_RT_Random1)))\n",
    "\n",
    "# Use the Kenward-Roger approximation to get approximate degrees of freedom\n",
    "df.KR <- get_ddf_Lb(Block_RT_Random1, fixef(Block_RT_Random1))\n",
    "coefs$df.KR <-(rep(df.KR, each=4))\n",
    "\n",
    "# Calculate confidence intervals from the estimates and the standard errors\n",
    "coefs$confmax <- coefs$Estimate + (coefs$Std..Error * 1.96)\n",
    "coefs$confmin <- coefs$Estimate - (coefs$Std..Error * 1.96)\n",
    "\n",
    "# get p-values from the t-distribution using the t-values and approximated\n",
    "# degrees of freedom\n",
    "coefs$p.KR <- 2 * (1 - pt(abs(coefs$t.value), df.KR))\n",
    "\n",
    "# use normal distribution to approximate p-value (tends to be anti-conservative with small sample sizes)\n",
    "coefs$p.z <- 2 * (1 - pnorm(abs(coefs$t.value)))\n",
    "\n",
    "print(coefs)\n"
   ]
  },
  {
   "cell_type": "markdown",
   "metadata": {},
   "source": [
    "### Export to pandas table and save as csv"
   ]
  },
  {
   "cell_type": "code",
   "execution_count": 37,
   "metadata": {
    "collapsed": false
   },
   "outputs": [],
   "source": [
    "%R -o coefs\n",
    "Coefficients = np.array(coefs[0]); SE = np.array(coefs[1]); tvalues = np.array(coefs[2]); confmax = np.array(coefs[4])\n",
    "confmin = np.array(coefs[5]); DF = np.array(coefs[3]); P = np.array(coefs[6])\n",
    "data = np.array([Coefficients, SE, confmin, confmax, tvalues, DF, P])\n",
    "Coeftable = pd.DataFrame(np.round([Coefficients, SE, confmin, confmax, tvalues, DF, P], 3))\n",
    "Coeftable = Coeftable.transpose(); Coeftable.columns = ['Coefficients', 'SE', 'CI Min', 'CI Max', 't-values', 'DF', 'p']\n",
    "Coeftable.index = ['Intercept', 'Group', 'Bilinguals:Block', 'Monolinguals:block']\n",
    "Coeftable\n",
    "Coeftable.to_csv('RT_Coef_Table.csv')"
   ]
  },
  {
   "cell_type": "markdown",
   "metadata": {},
   "source": [
    "### Export the model comparison to pandas table and save as csv"
   ]
  },
  {
   "cell_type": "code",
   "execution_count": 38,
   "metadata": {
    "collapsed": false
   },
   "outputs": [],
   "source": [
    "%R -o model_comp\n",
    "DF = np.array(model_comp[0]); AIC = np.array(model_comp[1]); BIC = np.array(model_comp[2]); LogLik = np.array(model_comp[3])\n",
    "X2 = np.array(model_comp[5]); X2DF = np.array(model_comp[6]); P = np.array(model_comp[7])\n",
    "Comp_Table = pd.DataFrame(np.round([DF, AIC, BIC, LogLik, X2, X2DF, P], 4))\n",
    "Comp_Table = Comp_Table.transpose()\n",
    "Comp_Table.loc[0, 5] = np.nan; Comp_Table.columns = ['DF', 'AIC', 'BIC', 'LogLik', 'X2', 'X2DF', 'P']\n",
    "Comp_Table.index = ['Baseline', 'Group', 'Group*Block', 'Group*Block Random', 'Group*Block Random2']\n",
    "Comp_Table.to_csv('RT_Model_Comparison.csv')\n",
    "#data = np.array([Coefficients, SE, confmin, confmax, tvalues, DF, P])\n",
    "\n",
    "#Coeftable = Coeftable.transpose(); Coeftable.columns = ['Coefficients', 'SE', 'CI Min', 'CI Max', 't-values', 'DF', 'p']\n",
    "#Coeftable.index = ['Intercept', 'Group', 'Bilinguals:Block', 'Monolinguals.block']\n",
    "#Coeftable"
   ]
  },
  {
   "cell_type": "markdown",
   "metadata": {},
   "source": [
    "### Exporting the mean dataset"
   ]
  },
  {
   "cell_type": "code",
   "execution_count": 58,
   "metadata": {
    "collapsed": true
   },
   "outputs": [],
   "source": [
    "MyDataMeans.to_csv('BilingualDataMeans.csv')"
   ]
  },
  {
   "cell_type": "markdown",
   "metadata": {},
   "source": [
    "### Controlling for WM with the respect in response time"
   ]
  },
  {
   "cell_type": "code",
   "execution_count": 68,
   "metadata": {
    "collapsed": false
   },
   "outputs": [
    {
     "data": {
      "text/html": [
       "<div style=\"max-height:1000px;max-width:1500px;overflow:auto;\">\n",
       "<table border=\"1\" class=\"dataframe\">\n",
       "  <thead>\n",
       "    <tr style=\"text-align: right;\">\n",
       "      <th></th>\n",
       "      <th>Group</th>\n",
       "      <th>Working Memory</th>\n",
       "      <th>Nonverbal Reasoning</th>\n",
       "      <th>BVAT</th>\n",
       "    </tr>\n",
       "    <tr>\n",
       "      <th>Participant ID</th>\n",
       "      <th></th>\n",
       "      <th></th>\n",
       "      <th></th>\n",
       "      <th></th>\n",
       "    </tr>\n",
       "  </thead>\n",
       "  <tbody>\n",
       "    <tr>\n",
       "      <th>1_1</th>\n",
       "      <td>Monolingual</td>\n",
       "      <td>17</td>\n",
       "      <td>12</td>\n",
       "      <td>40</td>\n",
       "    </tr>\n",
       "    <tr>\n",
       "      <th>2_1</th>\n",
       "      <td>Monolingual</td>\n",
       "      <td>16</td>\n",
       "      <td>12</td>\n",
       "      <td>43</td>\n",
       "    </tr>\n",
       "    <tr>\n",
       "      <th>3_1</th>\n",
       "      <td>Monolingual</td>\n",
       "      <td>11</td>\n",
       "      <td>9</td>\n",
       "      <td>40</td>\n",
       "    </tr>\n",
       "    <tr>\n",
       "      <th>4_1</th>\n",
       "      <td>Monolingual</td>\n",
       "      <td>16</td>\n",
       "      <td>8</td>\n",
       "      <td>50</td>\n",
       "    </tr>\n",
       "    <tr>\n",
       "      <th>5_1</th>\n",
       "      <td>Monolingual</td>\n",
       "      <td>17</td>\n",
       "      <td>7</td>\n",
       "      <td>47</td>\n",
       "    </tr>\n",
       "  </tbody>\n",
       "</table>\n",
       "</div>"
      ],
      "text/plain": [
       "                      Group  Working Memory  Nonverbal Reasoning  BVAT\n",
       "Participant ID                                                        \n",
       "1_1             Monolingual              17                   12    40\n",
       "2_1             Monolingual              16                   12    43\n",
       "3_1             Monolingual              11                    9    40\n",
       "4_1             Monolingual              16                    8    50\n",
       "5_1             Monolingual              17                    7    47"
      ]
     },
     "execution_count": 68,
     "metadata": {},
     "output_type": "execute_result"
    }
   ],
   "source": [
    "ControlData.head()"
   ]
  },
  {
   "cell_type": "code",
   "execution_count": 69,
   "metadata": {
    "collapsed": false
   },
   "outputs": [
    {
     "data": {
      "text/html": [
       "<div style=\"max-height:1000px;max-width:1500px;overflow:auto;\">\n",
       "<table border=\"1\" class=\"dataframe\">\n",
       "  <thead>\n",
       "    <tr style=\"text-align: right;\">\n",
       "      <th></th>\n",
       "      <th>Group</th>\n",
       "      <th>Trial</th>\n",
       "      <th>Block</th>\n",
       "      <th>BlockPresentation</th>\n",
       "      <th>Correct</th>\n",
       "      <th>RT</th>\n",
       "      <th>DotDifference</th>\n",
       "      <th>DotNumberRight</th>\n",
       "      <th>DotNumberLeft</th>\n",
       "      <th>Confidence</th>\n",
       "      <th>...</th>\n",
       "      <th>presented_left</th>\n",
       "      <th>picked_left</th>\n",
       "      <th>Zconf</th>\n",
       "      <th>Zdiff</th>\n",
       "      <th>ZRT</th>\n",
       "      <th>ZDotDif</th>\n",
       "      <th>ZConfidenceRT</th>\n",
       "      <th>WM</th>\n",
       "      <th>Raven</th>\n",
       "      <th>BVAT</th>\n",
       "    </tr>\n",
       "    <tr>\n",
       "      <th>Participant</th>\n",
       "      <th></th>\n",
       "      <th></th>\n",
       "      <th></th>\n",
       "      <th></th>\n",
       "      <th></th>\n",
       "      <th></th>\n",
       "      <th></th>\n",
       "      <th></th>\n",
       "      <th></th>\n",
       "      <th></th>\n",
       "      <th></th>\n",
       "      <th></th>\n",
       "      <th></th>\n",
       "      <th></th>\n",
       "      <th></th>\n",
       "      <th></th>\n",
       "      <th></th>\n",
       "      <th></th>\n",
       "      <th></th>\n",
       "      <th></th>\n",
       "      <th></th>\n",
       "    </tr>\n",
       "  </thead>\n",
       "  <tbody>\n",
       "    <tr>\n",
       "      <th>1</th>\n",
       "      <td>Monolingual</td>\n",
       "      <td>100.5</td>\n",
       "      <td>4.5</td>\n",
       "      <td>13</td>\n",
       "      <td>0.695</td>\n",
       "      <td>5.695748</td>\n",
       "      <td>4.550</td>\n",
       "      <td>50.365</td>\n",
       "      <td>50.035</td>\n",
       "      <td>0.5129</td>\n",
       "      <td>...</td>\n",
       "      <td>0.460</td>\n",
       "      <td>0.515</td>\n",
       "      <td>3.404499e-15</td>\n",
       "      <td>-1.057487e-16</td>\n",
       "      <td>1.584250</td>\n",
       "      <td>0.198762</td>\n",
       "      <td>-0.795577</td>\n",
       "      <td>17</td>\n",
       "      <td>12</td>\n",
       "      <td>40</td>\n",
       "    </tr>\n",
       "    <tr>\n",
       "      <th>2</th>\n",
       "      <td>Monolingual</td>\n",
       "      <td>100.5</td>\n",
       "      <td>4.5</td>\n",
       "      <td>13</td>\n",
       "      <td>0.725</td>\n",
       "      <td>3.464218</td>\n",
       "      <td>2.965</td>\n",
       "      <td>50.100</td>\n",
       "      <td>50.085</td>\n",
       "      <td>0.4877</td>\n",
       "      <td>...</td>\n",
       "      <td>0.490</td>\n",
       "      <td>0.545</td>\n",
       "      <td>5.040413e-16</td>\n",
       "      <td>2.964295e-16</td>\n",
       "      <td>0.070884</td>\n",
       "      <td>-1.273155</td>\n",
       "      <td>-0.306796</td>\n",
       "      <td>16</td>\n",
       "      <td>12</td>\n",
       "      <td>43</td>\n",
       "    </tr>\n",
       "    <tr>\n",
       "      <th>3</th>\n",
       "      <td>Monolingual</td>\n",
       "      <td>100.5</td>\n",
       "      <td>4.5</td>\n",
       "      <td>13</td>\n",
       "      <td>0.715</td>\n",
       "      <td>2.294877</td>\n",
       "      <td>4.745</td>\n",
       "      <td>49.530</td>\n",
       "      <td>50.005</td>\n",
       "      <td>0.5721</td>\n",
       "      <td>...</td>\n",
       "      <td>0.555</td>\n",
       "      <td>0.680</td>\n",
       "      <td>-1.343370e-16</td>\n",
       "      <td>-9.992007e-18</td>\n",
       "      <td>-0.722133</td>\n",
       "      <td>0.379850</td>\n",
       "      <td>-1.038852</td>\n",
       "      <td>11</td>\n",
       "      <td>9</td>\n",
       "      <td>40</td>\n",
       "    </tr>\n",
       "    <tr>\n",
       "      <th>4</th>\n",
       "      <td>Monolingual</td>\n",
       "      <td>100.5</td>\n",
       "      <td>4.5</td>\n",
       "      <td>13</td>\n",
       "      <td>0.715</td>\n",
       "      <td>3.736113</td>\n",
       "      <td>3.215</td>\n",
       "      <td>50.030</td>\n",
       "      <td>49.995</td>\n",
       "      <td>0.5312</td>\n",
       "      <td>...</td>\n",
       "      <td>0.485</td>\n",
       "      <td>0.440</td>\n",
       "      <td>6.573908e-16</td>\n",
       "      <td>1.665335e-16</td>\n",
       "      <td>0.255276</td>\n",
       "      <td>-1.040992</td>\n",
       "      <td>0.384225</td>\n",
       "      <td>16</td>\n",
       "      <td>8</td>\n",
       "      <td>50</td>\n",
       "    </tr>\n",
       "    <tr>\n",
       "      <th>5</th>\n",
       "      <td>Monolingual</td>\n",
       "      <td>100.5</td>\n",
       "      <td>4.5</td>\n",
       "      <td>13</td>\n",
       "      <td>0.725</td>\n",
       "      <td>2.801287</td>\n",
       "      <td>3.895</td>\n",
       "      <td>49.965</td>\n",
       "      <td>50.250</td>\n",
       "      <td>0.5479</td>\n",
       "      <td>...</td>\n",
       "      <td>0.530</td>\n",
       "      <td>0.585</td>\n",
       "      <td>4.684586e-15</td>\n",
       "      <td>1.276756e-17</td>\n",
       "      <td>-0.378699</td>\n",
       "      <td>-0.409507</td>\n",
       "      <td>-1.075724</td>\n",
       "      <td>17</td>\n",
       "      <td>7</td>\n",
       "      <td>47</td>\n",
       "    </tr>\n",
       "  </tbody>\n",
       "</table>\n",
       "<p>5 rows × 24 columns</p>\n",
       "</div>"
      ],
      "text/plain": [
       "                   Group  Trial  Block  BlockPresentation  Correct        RT  \\\n",
       "Participant                                                                    \n",
       "1            Monolingual  100.5    4.5                 13    0.695  5.695748   \n",
       "2            Monolingual  100.5    4.5                 13    0.725  3.464218   \n",
       "3            Monolingual  100.5    4.5                 13    0.715  2.294877   \n",
       "4            Monolingual  100.5    4.5                 13    0.715  3.736113   \n",
       "5            Monolingual  100.5    4.5                 13    0.725  2.801287   \n",
       "\n",
       "             DotDifference  DotNumberRight  DotNumberLeft  Confidence  ...   \\\n",
       "Participant                                                            ...    \n",
       "1                    4.550          50.365         50.035      0.5129  ...    \n",
       "2                    2.965          50.100         50.085      0.4877  ...    \n",
       "3                    4.745          49.530         50.005      0.5721  ...    \n",
       "4                    3.215          50.030         49.995      0.5312  ...    \n",
       "5                    3.895          49.965         50.250      0.5479  ...    \n",
       "\n",
       "             presented_left  picked_left         Zconf         Zdiff  \\\n",
       "Participant                                                            \n",
       "1                     0.460        0.515  3.404499e-15 -1.057487e-16   \n",
       "2                     0.490        0.545  5.040413e-16  2.964295e-16   \n",
       "3                     0.555        0.680 -1.343370e-16 -9.992007e-18   \n",
       "4                     0.485        0.440  6.573908e-16  1.665335e-16   \n",
       "5                     0.530        0.585  4.684586e-15  1.276756e-17   \n",
       "\n",
       "                  ZRT   ZDotDif  ZConfidenceRT  WM  Raven  BVAT  \n",
       "Participant                                                      \n",
       "1            1.584250  0.198762      -0.795577  17     12    40  \n",
       "2            0.070884 -1.273155      -0.306796  16     12    43  \n",
       "3           -0.722133  0.379850      -1.038852  11      9    40  \n",
       "4            0.255276 -1.040992       0.384225  16      8    50  \n",
       "5           -0.378699 -0.409507      -1.075724  17      7    47  \n",
       "\n",
       "[5 rows x 24 columns]"
      ]
     },
     "execution_count": 69,
     "metadata": {},
     "output_type": "execute_result"
    }
   ],
   "source": [
    "MyDataMeans.head()"
   ]
  },
  {
   "cell_type": "code",
   "execution_count": 70,
   "metadata": {
    "collapsed": true
   },
   "outputs": [],
   "source": [
    "MyDataMeans[['WM', 'Raven', 'BVAT']] = ControlData[['Working Memory', 'Nonverbal Reasoning', 'BVAT']].get_values()"
   ]
  },
  {
   "cell_type": "code",
   "execution_count": 71,
   "metadata": {
    "collapsed": false
   },
   "outputs": [
    {
     "data": {
      "text/html": [
       "<div style=\"max-height:1000px;max-width:1500px;overflow:auto;\">\n",
       "<table border=\"1\" class=\"dataframe\">\n",
       "  <thead>\n",
       "    <tr style=\"text-align: right;\">\n",
       "      <th></th>\n",
       "      <th>ZRT</th>\n",
       "      <th>ZDotDif</th>\n",
       "      <th>ZConfidenceRT</th>\n",
       "      <th>WM</th>\n",
       "      <th>Raven</th>\n",
       "      <th>BVAT</th>\n",
       "    </tr>\n",
       "  </thead>\n",
       "  <tbody>\n",
       "    <tr>\n",
       "      <th>ZRT</th>\n",
       "      <td>1.000000</td>\n",
       "      <td>-0.376325</td>\n",
       "      <td>0.360504</td>\n",
       "      <td>0.039499</td>\n",
       "      <td>0.109692</td>\n",
       "      <td>0.033712</td>\n",
       "    </tr>\n",
       "    <tr>\n",
       "      <th>ZDotDif</th>\n",
       "      <td>-0.376325</td>\n",
       "      <td>1.000000</td>\n",
       "      <td>-0.004723</td>\n",
       "      <td>-0.030739</td>\n",
       "      <td>-0.129085</td>\n",
       "      <td>-0.062775</td>\n",
       "    </tr>\n",
       "    <tr>\n",
       "      <th>ZConfidenceRT</th>\n",
       "      <td>0.360504</td>\n",
       "      <td>-0.004723</td>\n",
       "      <td>1.000000</td>\n",
       "      <td>0.042296</td>\n",
       "      <td>0.102610</td>\n",
       "      <td>0.163575</td>\n",
       "    </tr>\n",
       "    <tr>\n",
       "      <th>WM</th>\n",
       "      <td>0.039499</td>\n",
       "      <td>-0.030739</td>\n",
       "      <td>0.042296</td>\n",
       "      <td>1.000000</td>\n",
       "      <td>-0.061842</td>\n",
       "      <td>0.278610</td>\n",
       "    </tr>\n",
       "    <tr>\n",
       "      <th>Raven</th>\n",
       "      <td>0.109692</td>\n",
       "      <td>-0.129085</td>\n",
       "      <td>0.102610</td>\n",
       "      <td>-0.061842</td>\n",
       "      <td>1.000000</td>\n",
       "      <td>-0.397811</td>\n",
       "    </tr>\n",
       "    <tr>\n",
       "      <th>BVAT</th>\n",
       "      <td>0.033712</td>\n",
       "      <td>-0.062775</td>\n",
       "      <td>0.163575</td>\n",
       "      <td>0.278610</td>\n",
       "      <td>-0.397811</td>\n",
       "      <td>1.000000</td>\n",
       "    </tr>\n",
       "  </tbody>\n",
       "</table>\n",
       "</div>"
      ],
      "text/plain": [
       "                    ZRT   ZDotDif  ZConfidenceRT        WM     Raven      BVAT\n",
       "ZRT            1.000000 -0.376325       0.360504  0.039499  0.109692  0.033712\n",
       "ZDotDif       -0.376325  1.000000      -0.004723 -0.030739 -0.129085 -0.062775\n",
       "ZConfidenceRT  0.360504 -0.004723       1.000000  0.042296  0.102610  0.163575\n",
       "WM             0.039499 -0.030739       0.042296  1.000000 -0.061842  0.278610\n",
       "Raven          0.109692 -0.129085       0.102610 -0.061842  1.000000 -0.397811\n",
       "BVAT           0.033712 -0.062775       0.163575  0.278610 -0.397811  1.000000"
      ]
     },
     "execution_count": 71,
     "metadata": {},
     "output_type": "execute_result"
    }
   ],
   "source": [
    "MyDataMeans[['ZRT', 'ZDotDif', 'ZConfidenceRT', 'WM', 'Raven', 'BVAT']].corr()"
   ]
  },
  {
   "cell_type": "code",
   "execution_count": 72,
   "metadata": {
    "collapsed": false
   },
   "outputs": [
    {
     "data": {
      "text/plain": [
       "\n",
       "Call:\n",
       "lm(formula = RT ~ Group + WM, data = MyDataMeans)\n",
       "\n",
       "Residuals:\n",
       "    Min      1Q  Median      3Q     Max \n",
       "-1.2959 -0.7475 -0.2617  0.3894  4.4002 \n",
       "\n",
       "Coefficients:\n",
       "                 Estimate Std. Error t value Pr(>|t|)    \n",
       "(Intercept)      2.565482   0.568261   4.515 3.09e-05 ***\n",
       "GroupMonolingual 0.612028   0.288411   2.122    0.038 *  \n",
       "WM               0.007089   0.033197   0.214    0.832    \n",
       "---\n",
       "Signif. codes:  0 ‘***’ 0.001 ‘**’ 0.01 ‘*’ 0.05 ‘.’ 0.1 ‘ ’ 1\n",
       "\n",
       "Residual standard error: 1.109 on 59 degrees of freedom\n",
       "Multiple R-squared:  0.07776,\tAdjusted R-squared:  0.0465 \n",
       "F-statistic: 2.487 on 2 and 59 DF,  p-value: 0.09181\n",
       "\n"
      ]
     },
     "metadata": {},
     "output_type": "display_data"
    }
   ],
   "source": [
    "%R -i MyDataMeans\n",
    "%R results <- lm(RT ~ Group + WM, data=MyDataMeans)\n",
    "%R print(summary(results))"
   ]
  }
 ],
 "metadata": {
  "anaconda-cloud": {},
  "kernelspec": {
   "display_name": "Python 2",
   "language": "python",
   "name": "python2"
  },
  "language_info": {
   "codemirror_mode": {
    "name": "ipython",
    "version": 2
   },
   "file_extension": ".py",
   "mimetype": "text/x-python",
   "name": "python",
   "nbconvert_exporter": "python",
   "pygments_lexer": "ipython2",
   "version": "2.7.12"
  }
 },
 "nbformat": 4,
 "nbformat_minor": 0
}
